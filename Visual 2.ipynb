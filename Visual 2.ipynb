{
 "cells": [
  {
   "cell_type": "markdown",
   "id": "visual2-title",
   "metadata": {},
   "source": [
    "# Visual 2: Living Area vs. Price Relationship\n",
    "\n",
    "This scatter plot explores how property size and amenities influence housing prices, showing that larger homes with better features and proximity to strong school districts tend to command higher prices."
   ]
  },
  {
   "cell_type": "code",
   "execution_count": 4,
   "id": "fbcf8ac1",
   "metadata": {},
   "outputs": [
    {
     "name": "stdout",
     "output_type": "stream",
     "text": [
      "Requirement already satisfied: scipy in ./.venv/lib/python3.12/site-packages (1.16.2)\n",
      "Requirement already satisfied: numpy<2.6,>=1.25.2 in ./.venv/lib/python3.12/site-packages (from scipy) (2.3.4)\n"
     ]
    }
   ],
   "source": [
    "!pip install scipy"
   ]
  },
  {
   "cell_type": "code",
   "execution_count": null,
   "id": "imports",
   "metadata": {},
   "outputs": [],
   "source": [
    "import pandas as pd\n",
    "import altair as alt\n",
    "import numpy as np\n",
    "from scipy import stats\n",
    "\n",
    "# Enable tooltips\n",
    "alt.data_transformers.enable('json')\n",
    "alt.renderers.enable('default')"
   ]
  },
  {
   "cell_type": "code",
   "execution_count": 6,
   "id": "load-data",
   "metadata": {},
   "outputs": [
    {
     "name": "stdout",
     "output_type": "stream",
     "text": [
      "Total records: 15171\n",
      "Columns: ['zpid', 'city', 'streetAddress', 'zipcode', 'description', 'latitude', 'longitude', 'propertyTaxRate', 'garageSpaces', 'hasAssociation', 'hasCooling', 'hasGarage', 'hasHeating', 'hasSpa', 'hasView', 'homeType', 'parkingSpaces', 'yearBuilt', 'latestPrice', 'numPriceChanges', 'latest_saledate', 'latest_salemonth', 'latest_saleyear', 'latestPriceSource', 'numOfPhotos', 'numOfAccessibilityFeatures', 'numOfAppliances', 'numOfParkingFeatures', 'numOfPatioAndPorchFeatures', 'numOfSecurityFeatures', 'numOfWaterfrontFeatures', 'numOfWindowFeatures', 'numOfCommunityFeatures', 'lotSizeSqFt', 'livingAreaSqFt', 'numOfPrimarySchools', 'numOfElementarySchools', 'numOfMiddleSchools', 'numOfHighSchools', 'avgSchoolDistance', 'avgSchoolRating', 'avgSchoolSize', 'MedianStudentsPerTeacher', 'numOfBathrooms', 'numOfBedrooms', 'numOfStories', 'homeImage']\n"
     ]
    }
   ],
   "source": [
    "# Load the housing data\n",
    "df = pd.read_csv('data.csv')\n",
    "\n",
    "# Display initial data info\n",
    "print(f\"Total records: {len(df)}\")\n",
    "print(f\"Columns: {df.columns.tolist()}\")"
   ]
  },
  {
   "cell_type": "code",
   "execution_count": 7,
   "id": "prepare-data",
   "metadata": {},
   "outputs": [
    {
     "name": "stdout",
     "output_type": "stream",
     "text": [
      "Filtered records: 15171\n",
      "School quality distribution:\n",
      "school_quality\n",
      "Below Average (0-3)     893\n",
      "Average (3-5)          5402\n",
      "Good (5-7)             5440\n",
      "Excellent (7-10)       3436\n",
      "Name: count, dtype: int64\n"
     ]
    }
   ],
   "source": [
    "# Prepare data for visualization\n",
    "# Filter out records with missing or invalid values\n",
    "viz_data = df[\n",
    "    (df['livingAreaSqFt'].notna()) & \n",
    "    (df['latestPrice'].notna()) & \n",
    "    (df['livingAreaSqFt'] > 0) & \n",
    "    (df['latestPrice'] > 0) &\n",
    "    (df['avgSchoolRating'].notna())\n",
    "].copy()\n",
    "\n",
    "# Create school quality categories for better visualization\n",
    "viz_data['school_quality'] = pd.cut(\n",
    "    viz_data['avgSchoolRating'],\n",
    "    bins=[0, 3, 5, 7, 10],\n",
    "    labels=['Below Average (0-3)', 'Average (3-5)', 'Good (5-7)', 'Excellent (7-10)'],\n",
    "    include_lowest=True\n",
    ")\n",
    "\n",
    "# Create amenity score (sum of various amenity indicators)\n",
    "amenity_cols = ['hasGarage', 'hasCooling', 'hasHeating', 'hasSpa', 'hasView']\n",
    "viz_data['amenity_score'] = 0\n",
    "for col in amenity_cols:\n",
    "    if col in viz_data.columns:\n",
    "        viz_data['amenity_score'] += viz_data[col].map({'TRUE': 1, 'FALSE': 0, True: 1, False: 0}).fillna(0)\n",
    "\n",
    "print(f\"Filtered records: {len(viz_data)}\")\n",
    "print(f\"School quality distribution:\\n{viz_data['school_quality'].value_counts().sort_index()}\")"
   ]
  },
  {
   "cell_type": "code",
   "execution_count": 8,
   "id": "regression-calc",
   "metadata": {},
   "outputs": [
    {
     "name": "stdout",
     "output_type": "stream",
     "text": [
      "R\u00b2 value: 0.2181\n",
      "Slope: $153.53 per sq ft\n"
     ]
    }
   ],
   "source": [
    "# Calculate regression line and R\u00b2\n",
    "x = viz_data['livingAreaSqFt'].values\n",
    "y = viz_data['latestPrice'].values\n",
    "\n",
    "# Calculate linear regression\n",
    "slope, intercept, r_value, p_value, std_err = stats.linregress(x, y)\n",
    "r_squared = r_value ** 2\n",
    "\n",
    "# Create regression line data\n",
    "x_min, x_max = x.min(), x.max()\n",
    "regression_df = pd.DataFrame({\n",
    "    'livingAreaSqFt': [x_min, x_max],\n",
    "    'predicted_price': [slope * x_min + intercept, slope * x_max + intercept]\n",
    "})\n",
    "\n",
    "print(f\"R\u00b2 value: {r_squared:.4f}\")\n",
    "print(f\"Slope: ${slope:.2f} per sq ft\")"
   ]
  },
  {
   "cell_type": "code",
   "execution_count": 9,
   "id": "create-viz",
   "metadata": {},
   "outputs": [
    {
     "ename": "MaxRowsError",
     "evalue": "The number of rows in your dataset is greater than the maximum allowed (5000).\n\nTry enabling the VegaFusion data transformer which raises this limit by pre-evaluating data\ntransformations in Python.\n    >> import altair as alt\n    >> alt.data_transformers.enable(\"vegafusion\")\n\nOr, see https://altair-viz.github.io/user_guide/large_datasets.html for additional information\non how to plot large datasets.",
     "output_type": "error",
     "traceback": [
      "\u001b[31m---------------------------------------------------------------------------\u001b[39m",
      "\u001b[31mMaxRowsError\u001b[39m                              Traceback (most recent call last)",
      "\u001b[36mFile \u001b[39m\u001b[32m/workspaces/austin-housing-analysis/.venv/lib/python3.12/site-packages/altair/vegalite/v5/api.py:2004\u001b[39m, in \u001b[36mTopLevelMixin.to_dict\u001b[39m\u001b[34m(self, validate, format, ignore, context)\u001b[39m\n\u001b[32m   2001\u001b[39m \u001b[38;5;66;03m# remaining to_dict calls are not at top level\u001b[39;00m\n\u001b[32m   2002\u001b[39m context[\u001b[33m\"\u001b[39m\u001b[33mtop_level\u001b[39m\u001b[33m\"\u001b[39m] = \u001b[38;5;28;01mFalse\u001b[39;00m\n\u001b[32m-> \u001b[39m\u001b[32m2004\u001b[39m vegalite_spec: Any = \u001b[43m_top_schema_base\u001b[49m\u001b[43m(\u001b[49m\u001b[38;5;28;43msuper\u001b[39;49m\u001b[43m(\u001b[49m\u001b[43mTopLevelMixin\u001b[49m\u001b[43m,\u001b[49m\u001b[43m \u001b[49m\u001b[43mcopy\u001b[49m\u001b[43m)\u001b[49m\u001b[43m)\u001b[49m\u001b[43m.\u001b[49m\u001b[43mto_dict\u001b[49m\u001b[43m(\u001b[49m\n\u001b[32m   2005\u001b[39m \u001b[43m    \u001b[49m\u001b[43mvalidate\u001b[49m\u001b[43m=\u001b[49m\u001b[43mvalidate\u001b[49m\u001b[43m,\u001b[49m\u001b[43m \u001b[49m\u001b[43mignore\u001b[49m\u001b[43m=\u001b[49m\u001b[43mignore\u001b[49m\u001b[43m,\u001b[49m\u001b[43m \u001b[49m\u001b[43mcontext\u001b[49m\u001b[43m=\u001b[49m\u001b[38;5;28;43mdict\u001b[39;49m\u001b[43m(\u001b[49m\u001b[43mcontext\u001b[49m\u001b[43m,\u001b[49m\u001b[43m \u001b[49m\u001b[43mpre_transform\u001b[49m\u001b[43m=\u001b[49m\u001b[38;5;28;43;01mFalse\u001b[39;49;00m\u001b[43m)\u001b[49m\n\u001b[32m   2006\u001b[39m \u001b[43m\u001b[49m\u001b[43m)\u001b[49m\n\u001b[32m   2008\u001b[39m \u001b[38;5;66;03m# TODO: following entries are added after validation. Should they be validated?\u001b[39;00m\n\u001b[32m   2009\u001b[39m \u001b[38;5;28;01mif\u001b[39;00m is_top_level:\n\u001b[32m   2010\u001b[39m     \u001b[38;5;66;03m# since this is top-level we add $schema if it's missing\u001b[39;00m\n",
      "\u001b[36mFile \u001b[39m\u001b[32m/workspaces/austin-housing-analysis/.venv/lib/python3.12/site-packages/altair/utils/schemapi.py:1163\u001b[39m, in \u001b[36mSchemaBase.to_dict\u001b[39m\u001b[34m(self, validate, ignore, context)\u001b[39m\n\u001b[32m   1161\u001b[39m     msg = \u001b[33mf\u001b[39m\u001b[33m\"\u001b[39m\u001b[38;5;132;01m{\u001b[39;00m\u001b[38;5;28mtype\u001b[39m(\u001b[38;5;28mself\u001b[39m)\u001b[38;5;132;01m}\u001b[39;00m\u001b[33m instance has both a value and properties : cannot serialize to dict\u001b[39m\u001b[33m\"\u001b[39m\n\u001b[32m   1162\u001b[39m     \u001b[38;5;28;01mraise\u001b[39;00m \u001b[38;5;167;01mValueError\u001b[39;00m(msg)\n\u001b[32m-> \u001b[39m\u001b[32m1163\u001b[39m result = \u001b[43m_todict\u001b[49m\u001b[43m(\u001b[49m\u001b[43mkwds\u001b[49m\u001b[43m,\u001b[49m\u001b[43m \u001b[49m\u001b[43mcontext\u001b[49m\u001b[43m=\u001b[49m\u001b[43mcontext\u001b[49m\u001b[43m,\u001b[49m\u001b[43m \u001b[49m\u001b[43m*\u001b[49m\u001b[43m*\u001b[49m\u001b[43mopts\u001b[49m\u001b[43m)\u001b[49m\n\u001b[32m   1164\u001b[39m \u001b[38;5;28;01mif\u001b[39;00m validate:\n\u001b[32m   1165\u001b[39m     \u001b[38;5;66;03m# NOTE: Don't raise `from err`, see `SchemaValidationError` doc\u001b[39;00m\n\u001b[32m   1166\u001b[39m     \u001b[38;5;28;01mtry\u001b[39;00m:\n",
      "\u001b[36mFile \u001b[39m\u001b[32m/workspaces/austin-housing-analysis/.venv/lib/python3.12/site-packages/altair/utils/schemapi.py:554\u001b[39m, in \u001b[36m_todict\u001b[39m\u001b[34m(obj, context, np_opt, pd_opt)\u001b[39m\n\u001b[32m    551\u001b[39m     \u001b[38;5;28;01mreturn\u001b[39;00m [_todict(v, context, np_opt, pd_opt) \u001b[38;5;28;01mfor\u001b[39;00m v \u001b[38;5;129;01min\u001b[39;00m obj]\n\u001b[32m    552\u001b[39m \u001b[38;5;28;01melif\u001b[39;00m \u001b[38;5;28misinstance\u001b[39m(obj, \u001b[38;5;28mdict\u001b[39m):\n\u001b[32m    553\u001b[39m     \u001b[38;5;28;01mreturn\u001b[39;00m {\n\u001b[32m--> \u001b[39m\u001b[32m554\u001b[39m         k: \u001b[43m_todict\u001b[49m\u001b[43m(\u001b[49m\u001b[43mv\u001b[49m\u001b[43m,\u001b[49m\u001b[43m \u001b[49m\u001b[43mcontext\u001b[49m\u001b[43m,\u001b[49m\u001b[43m \u001b[49m\u001b[43mnp_opt\u001b[49m\u001b[43m,\u001b[49m\u001b[43m \u001b[49m\u001b[43mpd_opt\u001b[49m\u001b[43m)\u001b[49m\n\u001b[32m    555\u001b[39m         \u001b[38;5;28;01mfor\u001b[39;00m k, v \u001b[38;5;129;01min\u001b[39;00m obj.items()\n\u001b[32m    556\u001b[39m         \u001b[38;5;28;01mif\u001b[39;00m v \u001b[38;5;129;01mis\u001b[39;00m \u001b[38;5;129;01mnot\u001b[39;00m Undefined\n\u001b[32m    557\u001b[39m     }\n\u001b[32m    558\u001b[39m \u001b[38;5;28;01melif\u001b[39;00m \u001b[38;5;28misinstance\u001b[39m(obj, SchemaLike):\n\u001b[32m    559\u001b[39m     \u001b[38;5;28;01mreturn\u001b[39;00m obj.to_dict()\n",
      "\u001b[36mFile \u001b[39m\u001b[32m/workspaces/austin-housing-analysis/.venv/lib/python3.12/site-packages/altair/utils/schemapi.py:551\u001b[39m, in \u001b[36m_todict\u001b[39m\u001b[34m(obj, context, np_opt, pd_opt)\u001b[39m\n\u001b[32m    549\u001b[39m     \u001b[38;5;28;01mreturn\u001b[39;00m obj.to_dict(validate=\u001b[38;5;28;01mFalse\u001b[39;00m, context=context)\n\u001b[32m    550\u001b[39m \u001b[38;5;28;01melif\u001b[39;00m \u001b[38;5;28misinstance\u001b[39m(obj, (\u001b[38;5;28mlist\u001b[39m, \u001b[38;5;28mtuple\u001b[39m)):\n\u001b[32m--> \u001b[39m\u001b[32m551\u001b[39m     \u001b[38;5;28;01mreturn\u001b[39;00m [\u001b[43m_todict\u001b[49m\u001b[43m(\u001b[49m\u001b[43mv\u001b[49m\u001b[43m,\u001b[49m\u001b[43m \u001b[49m\u001b[43mcontext\u001b[49m\u001b[43m,\u001b[49m\u001b[43m \u001b[49m\u001b[43mnp_opt\u001b[49m\u001b[43m,\u001b[49m\u001b[43m \u001b[49m\u001b[43mpd_opt\u001b[49m\u001b[43m)\u001b[49m \u001b[38;5;28;01mfor\u001b[39;00m v \u001b[38;5;129;01min\u001b[39;00m obj]\n\u001b[32m    552\u001b[39m \u001b[38;5;28;01melif\u001b[39;00m \u001b[38;5;28misinstance\u001b[39m(obj, \u001b[38;5;28mdict\u001b[39m):\n\u001b[32m    553\u001b[39m     \u001b[38;5;28;01mreturn\u001b[39;00m {\n\u001b[32m    554\u001b[39m         k: _todict(v, context, np_opt, pd_opt)\n\u001b[32m    555\u001b[39m         \u001b[38;5;28;01mfor\u001b[39;00m k, v \u001b[38;5;129;01min\u001b[39;00m obj.items()\n\u001b[32m    556\u001b[39m         \u001b[38;5;28;01mif\u001b[39;00m v \u001b[38;5;129;01mis\u001b[39;00m \u001b[38;5;129;01mnot\u001b[39;00m Undefined\n\u001b[32m    557\u001b[39m     }\n",
      "\u001b[36mFile \u001b[39m\u001b[32m/workspaces/austin-housing-analysis/.venv/lib/python3.12/site-packages/altair/utils/schemapi.py:549\u001b[39m, in \u001b[36m_todict\u001b[39m\u001b[34m(obj, context, np_opt, pd_opt)\u001b[39m\n\u001b[32m    547\u001b[39m         \u001b[38;5;28;01mreturn\u001b[39;00m result\n\u001b[32m    548\u001b[39m \u001b[38;5;28;01mif\u001b[39;00m \u001b[38;5;28misinstance\u001b[39m(obj, SchemaBase):\n\u001b[32m--> \u001b[39m\u001b[32m549\u001b[39m     \u001b[38;5;28;01mreturn\u001b[39;00m \u001b[43mobj\u001b[49m\u001b[43m.\u001b[49m\u001b[43mto_dict\u001b[49m\u001b[43m(\u001b[49m\u001b[43mvalidate\u001b[49m\u001b[43m=\u001b[49m\u001b[38;5;28;43;01mFalse\u001b[39;49;00m\u001b[43m,\u001b[49m\u001b[43m \u001b[49m\u001b[43mcontext\u001b[49m\u001b[43m=\u001b[49m\u001b[43mcontext\u001b[49m\u001b[43m)\u001b[49m\n\u001b[32m    550\u001b[39m \u001b[38;5;28;01melif\u001b[39;00m \u001b[38;5;28misinstance\u001b[39m(obj, (\u001b[38;5;28mlist\u001b[39m, \u001b[38;5;28mtuple\u001b[39m)):\n\u001b[32m    551\u001b[39m     \u001b[38;5;28;01mreturn\u001b[39;00m [_todict(v, context, np_opt, pd_opt) \u001b[38;5;28;01mfor\u001b[39;00m v \u001b[38;5;129;01min\u001b[39;00m obj]\n",
      "\u001b[36mFile \u001b[39m\u001b[32m/workspaces/austin-housing-analysis/.venv/lib/python3.12/site-packages/altair/vegalite/v5/api.py:2004\u001b[39m, in \u001b[36mTopLevelMixin.to_dict\u001b[39m\u001b[34m(self, validate, format, ignore, context)\u001b[39m\n\u001b[32m   2001\u001b[39m \u001b[38;5;66;03m# remaining to_dict calls are not at top level\u001b[39;00m\n\u001b[32m   2002\u001b[39m context[\u001b[33m\"\u001b[39m\u001b[33mtop_level\u001b[39m\u001b[33m\"\u001b[39m] = \u001b[38;5;28;01mFalse\u001b[39;00m\n\u001b[32m-> \u001b[39m\u001b[32m2004\u001b[39m vegalite_spec: Any = \u001b[43m_top_schema_base\u001b[49m\u001b[43m(\u001b[49m\u001b[38;5;28;43msuper\u001b[39;49m\u001b[43m(\u001b[49m\u001b[43mTopLevelMixin\u001b[49m\u001b[43m,\u001b[49m\u001b[43m \u001b[49m\u001b[43mcopy\u001b[49m\u001b[43m)\u001b[49m\u001b[43m)\u001b[49m\u001b[43m.\u001b[49m\u001b[43mto_dict\u001b[49m\u001b[43m(\u001b[49m\n\u001b[32m   2005\u001b[39m \u001b[43m    \u001b[49m\u001b[43mvalidate\u001b[49m\u001b[43m=\u001b[49m\u001b[43mvalidate\u001b[49m\u001b[43m,\u001b[49m\u001b[43m \u001b[49m\u001b[43mignore\u001b[49m\u001b[43m=\u001b[49m\u001b[43mignore\u001b[49m\u001b[43m,\u001b[49m\u001b[43m \u001b[49m\u001b[43mcontext\u001b[49m\u001b[43m=\u001b[49m\u001b[38;5;28;43mdict\u001b[39;49m\u001b[43m(\u001b[49m\u001b[43mcontext\u001b[49m\u001b[43m,\u001b[49m\u001b[43m \u001b[49m\u001b[43mpre_transform\u001b[49m\u001b[43m=\u001b[49m\u001b[38;5;28;43;01mFalse\u001b[39;49;00m\u001b[43m)\u001b[49m\n\u001b[32m   2006\u001b[39m \u001b[43m\u001b[49m\u001b[43m)\u001b[49m\n\u001b[32m   2008\u001b[39m \u001b[38;5;66;03m# TODO: following entries are added after validation. Should they be validated?\u001b[39;00m\n\u001b[32m   2009\u001b[39m \u001b[38;5;28;01mif\u001b[39;00m is_top_level:\n\u001b[32m   2010\u001b[39m     \u001b[38;5;66;03m# since this is top-level we add $schema if it's missing\u001b[39;00m\n",
      "\u001b[36mFile \u001b[39m\u001b[32m/workspaces/austin-housing-analysis/.venv/lib/python3.12/site-packages/altair/utils/schemapi.py:1163\u001b[39m, in \u001b[36mSchemaBase.to_dict\u001b[39m\u001b[34m(self, validate, ignore, context)\u001b[39m\n\u001b[32m   1161\u001b[39m     msg = \u001b[33mf\u001b[39m\u001b[33m\"\u001b[39m\u001b[38;5;132;01m{\u001b[39;00m\u001b[38;5;28mtype\u001b[39m(\u001b[38;5;28mself\u001b[39m)\u001b[38;5;132;01m}\u001b[39;00m\u001b[33m instance has both a value and properties : cannot serialize to dict\u001b[39m\u001b[33m\"\u001b[39m\n\u001b[32m   1162\u001b[39m     \u001b[38;5;28;01mraise\u001b[39;00m \u001b[38;5;167;01mValueError\u001b[39;00m(msg)\n\u001b[32m-> \u001b[39m\u001b[32m1163\u001b[39m result = \u001b[43m_todict\u001b[49m\u001b[43m(\u001b[49m\u001b[43mkwds\u001b[49m\u001b[43m,\u001b[49m\u001b[43m \u001b[49m\u001b[43mcontext\u001b[49m\u001b[43m=\u001b[49m\u001b[43mcontext\u001b[49m\u001b[43m,\u001b[49m\u001b[43m \u001b[49m\u001b[43m*\u001b[49m\u001b[43m*\u001b[49m\u001b[43mopts\u001b[49m\u001b[43m)\u001b[49m\n\u001b[32m   1164\u001b[39m \u001b[38;5;28;01mif\u001b[39;00m validate:\n\u001b[32m   1165\u001b[39m     \u001b[38;5;66;03m# NOTE: Don't raise `from err`, see `SchemaValidationError` doc\u001b[39;00m\n\u001b[32m   1166\u001b[39m     \u001b[38;5;28;01mtry\u001b[39;00m:\n",
      "\u001b[36mFile \u001b[39m\u001b[32m/workspaces/austin-housing-analysis/.venv/lib/python3.12/site-packages/altair/utils/schemapi.py:554\u001b[39m, in \u001b[36m_todict\u001b[39m\u001b[34m(obj, context, np_opt, pd_opt)\u001b[39m\n\u001b[32m    551\u001b[39m     \u001b[38;5;28;01mreturn\u001b[39;00m [_todict(v, context, np_opt, pd_opt) \u001b[38;5;28;01mfor\u001b[39;00m v \u001b[38;5;129;01min\u001b[39;00m obj]\n\u001b[32m    552\u001b[39m \u001b[38;5;28;01melif\u001b[39;00m \u001b[38;5;28misinstance\u001b[39m(obj, \u001b[38;5;28mdict\u001b[39m):\n\u001b[32m    553\u001b[39m     \u001b[38;5;28;01mreturn\u001b[39;00m {\n\u001b[32m--> \u001b[39m\u001b[32m554\u001b[39m         k: \u001b[43m_todict\u001b[49m\u001b[43m(\u001b[49m\u001b[43mv\u001b[49m\u001b[43m,\u001b[49m\u001b[43m \u001b[49m\u001b[43mcontext\u001b[49m\u001b[43m,\u001b[49m\u001b[43m \u001b[49m\u001b[43mnp_opt\u001b[49m\u001b[43m,\u001b[49m\u001b[43m \u001b[49m\u001b[43mpd_opt\u001b[49m\u001b[43m)\u001b[49m\n\u001b[32m    555\u001b[39m         \u001b[38;5;28;01mfor\u001b[39;00m k, v \u001b[38;5;129;01min\u001b[39;00m obj.items()\n\u001b[32m    556\u001b[39m         \u001b[38;5;28;01mif\u001b[39;00m v \u001b[38;5;129;01mis\u001b[39;00m \u001b[38;5;129;01mnot\u001b[39;00m Undefined\n\u001b[32m    557\u001b[39m     }\n\u001b[32m    558\u001b[39m \u001b[38;5;28;01melif\u001b[39;00m \u001b[38;5;28misinstance\u001b[39m(obj, SchemaLike):\n\u001b[32m    559\u001b[39m     \u001b[38;5;28;01mreturn\u001b[39;00m obj.to_dict()\n",
      "\u001b[36mFile \u001b[39m\u001b[32m/workspaces/austin-housing-analysis/.venv/lib/python3.12/site-packages/altair/utils/schemapi.py:551\u001b[39m, in \u001b[36m_todict\u001b[39m\u001b[34m(obj, context, np_opt, pd_opt)\u001b[39m\n\u001b[32m    549\u001b[39m     \u001b[38;5;28;01mreturn\u001b[39;00m obj.to_dict(validate=\u001b[38;5;28;01mFalse\u001b[39;00m, context=context)\n\u001b[32m    550\u001b[39m \u001b[38;5;28;01melif\u001b[39;00m \u001b[38;5;28misinstance\u001b[39m(obj, (\u001b[38;5;28mlist\u001b[39m, \u001b[38;5;28mtuple\u001b[39m)):\n\u001b[32m--> \u001b[39m\u001b[32m551\u001b[39m     \u001b[38;5;28;01mreturn\u001b[39;00m [\u001b[43m_todict\u001b[49m\u001b[43m(\u001b[49m\u001b[43mv\u001b[49m\u001b[43m,\u001b[49m\u001b[43m \u001b[49m\u001b[43mcontext\u001b[49m\u001b[43m,\u001b[49m\u001b[43m \u001b[49m\u001b[43mnp_opt\u001b[49m\u001b[43m,\u001b[49m\u001b[43m \u001b[49m\u001b[43mpd_opt\u001b[49m\u001b[43m)\u001b[49m \u001b[38;5;28;01mfor\u001b[39;00m v \u001b[38;5;129;01min\u001b[39;00m obj]\n\u001b[32m    552\u001b[39m \u001b[38;5;28;01melif\u001b[39;00m \u001b[38;5;28misinstance\u001b[39m(obj, \u001b[38;5;28mdict\u001b[39m):\n\u001b[32m    553\u001b[39m     \u001b[38;5;28;01mreturn\u001b[39;00m {\n\u001b[32m    554\u001b[39m         k: _todict(v, context, np_opt, pd_opt)\n\u001b[32m    555\u001b[39m         \u001b[38;5;28;01mfor\u001b[39;00m k, v \u001b[38;5;129;01min\u001b[39;00m obj.items()\n\u001b[32m    556\u001b[39m         \u001b[38;5;28;01mif\u001b[39;00m v \u001b[38;5;129;01mis\u001b[39;00m \u001b[38;5;129;01mnot\u001b[39;00m Undefined\n\u001b[32m    557\u001b[39m     }\n",
      "\u001b[36mFile \u001b[39m\u001b[32m/workspaces/austin-housing-analysis/.venv/lib/python3.12/site-packages/altair/utils/schemapi.py:549\u001b[39m, in \u001b[36m_todict\u001b[39m\u001b[34m(obj, context, np_opt, pd_opt)\u001b[39m\n\u001b[32m    547\u001b[39m         \u001b[38;5;28;01mreturn\u001b[39;00m result\n\u001b[32m    548\u001b[39m \u001b[38;5;28;01mif\u001b[39;00m \u001b[38;5;28misinstance\u001b[39m(obj, SchemaBase):\n\u001b[32m--> \u001b[39m\u001b[32m549\u001b[39m     \u001b[38;5;28;01mreturn\u001b[39;00m \u001b[43mobj\u001b[49m\u001b[43m.\u001b[49m\u001b[43mto_dict\u001b[49m\u001b[43m(\u001b[49m\u001b[43mvalidate\u001b[49m\u001b[43m=\u001b[49m\u001b[38;5;28;43;01mFalse\u001b[39;49;00m\u001b[43m,\u001b[49m\u001b[43m \u001b[49m\u001b[43mcontext\u001b[49m\u001b[43m=\u001b[49m\u001b[43mcontext\u001b[49m\u001b[43m)\u001b[49m\n\u001b[32m    550\u001b[39m \u001b[38;5;28;01melif\u001b[39;00m \u001b[38;5;28misinstance\u001b[39m(obj, (\u001b[38;5;28mlist\u001b[39m, \u001b[38;5;28mtuple\u001b[39m)):\n\u001b[32m    551\u001b[39m     \u001b[38;5;28;01mreturn\u001b[39;00m [_todict(v, context, np_opt, pd_opt) \u001b[38;5;28;01mfor\u001b[39;00m v \u001b[38;5;129;01min\u001b[39;00m obj]\n",
      "\u001b[36mFile \u001b[39m\u001b[32m/workspaces/austin-housing-analysis/.venv/lib/python3.12/site-packages/altair/vegalite/v5/api.py:4033\u001b[39m, in \u001b[36mChart.to_dict\u001b[39m\u001b[34m(self, validate, format, ignore, context)\u001b[39m\n\u001b[32m   4031\u001b[39m     copy.data = core.InlineData(values=[{}])\n\u001b[32m   4032\u001b[39m     \u001b[38;5;28;01mreturn\u001b[39;00m \u001b[38;5;28msuper\u001b[39m(Chart, copy).to_dict(**kwds)\n\u001b[32m-> \u001b[39m\u001b[32m4033\u001b[39m \u001b[38;5;28;01mreturn\u001b[39;00m \u001b[38;5;28;43msuper\u001b[39;49m\u001b[43m(\u001b[49m\u001b[43m)\u001b[49m\u001b[43m.\u001b[49m\u001b[43mto_dict\u001b[49m\u001b[43m(\u001b[49m\u001b[43m*\u001b[49m\u001b[43m*\u001b[49m\u001b[43mkwds\u001b[49m\u001b[43m)\u001b[49m\n",
      "\u001b[36mFile \u001b[39m\u001b[32m/workspaces/austin-housing-analysis/.venv/lib/python3.12/site-packages/altair/vegalite/v5/api.py:1998\u001b[39m, in \u001b[36mTopLevelMixin.to_dict\u001b[39m\u001b[34m(self, validate, format, ignore, context)\u001b[39m\n\u001b[32m   1995\u001b[39m     \u001b[38;5;28;01mexcept\u001b[39;00m \u001b[38;5;167;01mTypeError\u001b[39;00m:\n\u001b[32m   1996\u001b[39m         \u001b[38;5;66;03m# Non-narwhalifiable type supported by Altair, such as dict\u001b[39;00m\n\u001b[32m   1997\u001b[39m         data = original_data\n\u001b[32m-> \u001b[39m\u001b[32m1998\u001b[39m     copy.data = \u001b[43m_prepare_data\u001b[49m\u001b[43m(\u001b[49m\u001b[43mdata\u001b[49m\u001b[43m,\u001b[49m\u001b[43m \u001b[49m\u001b[43mcontext\u001b[49m\u001b[43m)\u001b[49m\n\u001b[32m   1999\u001b[39m     context[\u001b[33m\"\u001b[39m\u001b[33mdata\u001b[39m\u001b[33m\"\u001b[39m] = data\n\u001b[32m   2001\u001b[39m \u001b[38;5;66;03m# remaining to_dict calls are not at top level\u001b[39;00m\n",
      "\u001b[36mFile \u001b[39m\u001b[32m/workspaces/austin-housing-analysis/.venv/lib/python3.12/site-packages/altair/vegalite/v5/api.py:283\u001b[39m, in \u001b[36m_prepare_data\u001b[39m\u001b[34m(data, context)\u001b[39m\n\u001b[32m    281\u001b[39m \u001b[38;5;28;01melif\u001b[39;00m \u001b[38;5;129;01mnot\u001b[39;00m \u001b[38;5;28misinstance\u001b[39m(data, \u001b[38;5;28mdict\u001b[39m) \u001b[38;5;129;01mand\u001b[39;00m _is_data_type(data):\n\u001b[32m    282\u001b[39m     \u001b[38;5;28;01mif\u001b[39;00m func := data_transformers.get():\n\u001b[32m--> \u001b[39m\u001b[32m283\u001b[39m         data = \u001b[43mfunc\u001b[49m\u001b[43m(\u001b[49m\u001b[43mnw\u001b[49m\u001b[43m.\u001b[49m\u001b[43mto_native\u001b[49m\u001b[43m(\u001b[49m\u001b[43mdata\u001b[49m\u001b[43m,\u001b[49m\u001b[43m \u001b[49m\u001b[43mpass_through\u001b[49m\u001b[43m=\u001b[49m\u001b[38;5;28;43;01mTrue\u001b[39;49;00m\u001b[43m)\u001b[49m\u001b[43m)\u001b[49m\n\u001b[32m    285\u001b[39m \u001b[38;5;66;03m# convert string input to a URLData\u001b[39;00m\n\u001b[32m    286\u001b[39m \u001b[38;5;28;01melif\u001b[39;00m \u001b[38;5;28misinstance\u001b[39m(data, \u001b[38;5;28mstr\u001b[39m):\n",
      "\u001b[36mFile \u001b[39m\u001b[32m/workspaces/austin-housing-analysis/.venv/lib/python3.12/site-packages/altair/vegalite/data.py:42\u001b[39m, in \u001b[36mdefault_data_transformer\u001b[39m\u001b[34m(data, max_rows)\u001b[39m\n\u001b[32m     39\u001b[39m     \u001b[38;5;28;01mreturn\u001b[39;00m pipe\n\u001b[32m     41\u001b[39m \u001b[38;5;28;01melse\u001b[39;00m:\n\u001b[32m---> \u001b[39m\u001b[32m42\u001b[39m     \u001b[38;5;28;01mreturn\u001b[39;00m to_values(\u001b[43mlimit_rows\u001b[49m\u001b[43m(\u001b[49m\u001b[43mdata\u001b[49m\u001b[43m,\u001b[49m\u001b[43m \u001b[49m\u001b[43mmax_rows\u001b[49m\u001b[43m=\u001b[49m\u001b[43mmax_rows\u001b[49m\u001b[43m)\u001b[49m)\n",
      "\u001b[36mFile \u001b[39m\u001b[32m/workspaces/austin-housing-analysis/.venv/lib/python3.12/site-packages/altair/utils/data.py:165\u001b[39m, in \u001b[36mlimit_rows\u001b[39m\u001b[34m(data, max_rows)\u001b[39m\n\u001b[32m    162\u001b[39m     values = data\n\u001b[32m    164\u001b[39m \u001b[38;5;28;01mif\u001b[39;00m max_rows \u001b[38;5;129;01mis\u001b[39;00m \u001b[38;5;129;01mnot\u001b[39;00m \u001b[38;5;28;01mNone\u001b[39;00m \u001b[38;5;129;01mand\u001b[39;00m \u001b[38;5;28mlen\u001b[39m(values) > max_rows:\n\u001b[32m--> \u001b[39m\u001b[32m165\u001b[39m     \u001b[43mraise_max_rows_error\u001b[49m\u001b[43m(\u001b[49m\u001b[43m)\u001b[49m\n\u001b[32m    167\u001b[39m \u001b[38;5;28;01mreturn\u001b[39;00m data\n",
      "\u001b[36mFile \u001b[39m\u001b[32m/workspaces/austin-housing-analysis/.venv/lib/python3.12/site-packages/altair/utils/data.py:148\u001b[39m, in \u001b[36mlimit_rows.<locals>.raise_max_rows_error\u001b[39m\u001b[34m()\u001b[39m\n\u001b[32m    135\u001b[39m \u001b[38;5;28;01mdef\u001b[39;00m\u001b[38;5;250m \u001b[39m\u001b[34mraise_max_rows_error\u001b[39m():\n\u001b[32m    136\u001b[39m     msg = (\n\u001b[32m    137\u001b[39m         \u001b[33m\"\u001b[39m\u001b[33mThe number of rows in your dataset is greater \u001b[39m\u001b[33m\"\u001b[39m\n\u001b[32m    138\u001b[39m         \u001b[33mf\u001b[39m\u001b[33m\"\u001b[39m\u001b[33mthan the maximum allowed (\u001b[39m\u001b[38;5;132;01m{\u001b[39;00mmax_rows\u001b[38;5;132;01m}\u001b[39;00m\u001b[33m).\u001b[39m\u001b[38;5;130;01m\\n\u001b[39;00m\u001b[38;5;130;01m\\n\u001b[39;00m\u001b[33m\"\u001b[39m\n\u001b[32m   (...)\u001b[39m\u001b[32m    146\u001b[39m         \u001b[33m\"\u001b[39m\u001b[33mon how to plot large datasets.\u001b[39m\u001b[33m\"\u001b[39m\n\u001b[32m    147\u001b[39m     )\n\u001b[32m--> \u001b[39m\u001b[32m148\u001b[39m     \u001b[38;5;28;01mraise\u001b[39;00m MaxRowsError(msg)\n",
      "\u001b[31mMaxRowsError\u001b[39m: The number of rows in your dataset is greater than the maximum allowed (5000).\n\nTry enabling the VegaFusion data transformer which raises this limit by pre-evaluating data\ntransformations in Python.\n    >> import altair as alt\n    >> alt.data_transformers.enable(\"vegafusion\")\n\nOr, see https://altair-viz.github.io/user_guide/large_datasets.html for additional information\non how to plot large datasets."
     ]
    },
    {
     "data": {
      "text/plain": [
       "alt.VConcatChart(...)"
      ]
     },
     "execution_count": 9,
     "metadata": {},
     "output_type": "execute_result"
    }
   ],
   "source": [
    "# Create brush selection\n",
    "brush = alt.selection_interval(name='brush')\n",
    "\n",
    "# Define color palette for school quality (categorical palette for accessibility)\n",
    "school_colors = {\n",
    "    'Below Average (0-3)': '#e74c3c',  # Red\n",
    "    'Average (3-5)': '#f39c12',         # Orange\n",
    "    'Good (5-7)': '#3498db',            # Blue\n",
    "    'Excellent (7-10)': '#2ecc71'       # Green\n",
    "}\n",
    "\n",
    "# Create scatter plot\n",
    "scatter = alt.Chart(viz_data).mark_circle(size=60, opacity=0.6).encode(\n",
    "    x=alt.X('livingAreaSqFt:Q',\n",
    "            title='Living Area (sq ft)',\n",
    "            scale=alt.Scale(zero=False)),\n",
    "    y=alt.Y('latestPrice:Q',\n",
    "            title='Property Price ($)',\n",
    "            axis=alt.Axis(format='$,.0f'),\n",
    "            scale=alt.Scale(zero=False)),\n",
    "    color=alt.condition(\n",
    "        brush,\n",
    "        alt.Color('school_quality:N',\n",
    "                  title='School Quality Rating',\n",
    "                  scale=alt.Scale(domain=list(school_colors.keys()),\n",
    "                                  range=list(school_colors.values())),\n",
    "                  legend=alt.Legend(orient='top-right')),\n",
    "        alt.value('lightgray')\n",
    "    ),\n",
    "    tooltip=[\n",
    "        alt.Tooltip('streetAddress:N', title='Address'),\n",
    "        alt.Tooltip('city:N', title='City'),\n",
    "        alt.Tooltip('livingAreaSqFt:Q', title='Living Area (sq ft)', format=','),\n",
    "        alt.Tooltip('latestPrice:Q', title='Price', format='$,.0f'),\n",
    "        alt.Tooltip('numOfBedrooms:Q', title='Bedrooms'),\n",
    "        alt.Tooltip('numOfBathrooms:Q', title='Bathrooms'),\n",
    "        alt.Tooltip('avgSchoolRating:Q', title='School Rating', format='.2f'),\n",
    "        alt.Tooltip('amenity_score:Q', title='Amenity Score'),\n",
    "        alt.Tooltip('yearBuilt:Q', title='Year Built')\n",
    "    ]\n",
    ").properties(\n",
    "    width=700,\n",
    "    height=450,\n",
    "    title='Living Area vs. Price Relationship (Brush to select homes)'\n",
    ").add_params(brush)\n",
    "\n",
    "# Create regression line\n",
    "regression_line = alt.Chart(regression_df).mark_line(\n",
    "    color='black',\n",
    "    strokeDash=[5, 5],\n",
    "    size=2\n",
    ").encode(\n",
    "    x='livingAreaSqFt:Q',\n",
    "    y='predicted_price:Q'\n",
    ")\n",
    "\n",
    "# Add R\u00b2 annotation\n",
    "r2_text = alt.Chart(pd.DataFrame({\n",
    "    'x': [viz_data['livingAreaSqFt'].quantile(0.05)],\n",
    "    'y': [viz_data['latestPrice'].quantile(0.95)],\n",
    "    'text': [f'R\u00b2 = {r_squared:.4f}']\n",
    "})).mark_text(\n",
    "    align='left',\n",
    "    baseline='top',\n",
    "    fontSize=14,\n",
    "    fontWeight='bold',\n",
    "    dx=5\n",
    ").encode(\n",
    "    x='x:Q',\n",
    "    y='y:Q',\n",
    "    text='text:N'\n",
    ")\n",
    "\n",
    "# Combine scatter plot with regression line and annotation\n",
    "scatter_chart = scatter + regression_line + r2_text\n",
    "\n",
    "# Create linked histogram\n",
    "histogram = alt.Chart(viz_data).mark_bar().encode(\n",
    "    x=alt.X('latestPrice:Q',\n",
    "            bin=alt.Bin(maxbins=30),\n",
    "            title='Property Price ($)',\n",
    "            axis=alt.Axis(format='$,.0f')),\n",
    "    y=alt.Y('count():Q',\n",
    "            title='Number of Homes'),\n",
    "    color=alt.condition(\n",
    "        brush,\n",
    "        alt.value('#3498db'),\n",
    "        alt.value('lightgray')\n",
    "    ),\n",
    "    tooltip=[\n",
    "        alt.Tooltip('count()', title='Count'),\n",
    "        alt.Tooltip('latestPrice:Q', bin=True, title='Price Range', format='$,.0f')\n",
    "    ]\n",
    ").properties(\n",
    "    width=700,\n",
    "    height=150,\n",
    "    title='Price Distribution (filtered by brush selection above)'\n",
    ").transform_filter(brush)\n",
    "\n",
    "# Combine both charts vertically\n",
    "final_chart = alt.vconcat(\n",
    "    scatter_chart,\n",
    "    histogram\n",
    ").configure_axis(\n",
    "    labelFontSize=11,\n",
    "    titleFontSize=13\n",
    ").configure_title(\n",
    "    fontSize=15,\n",
    "    anchor='start'\n",
    ").configure_legend(\n",
    "    titleFontSize=12,\n",
    "    labelFontSize=11\n",
    ")\n",
    "\n",
    "final_chart"
   ]
  },
  {
   "cell_type": "markdown",
   "id": "insights",
   "metadata": {},
   "source": [
    "## Key Insights\n",
    "\n",
    "### Design & Interactivity\n",
    "- **Scatter Plot**: Shows the relationship between living area (x-axis) and property price (y-axis)\n",
    "- **Color Coding**: Properties are colored by school quality rating categories\n",
    "- **Hover Tooltips**: Reveal detailed information including bedrooms, bathrooms, amenities, and more\n",
    "- **Brush Selection**: Click and drag on the scatter plot to select a subset of homes\n",
    "- **Linked Histogram**: Automatically updates to show price distribution of selected homes\n",
    "\n",
    "### Visual Elements\n",
    "- **Regression Line**: Black dashed line shows the correlation trend\n",
    "- **R\u00b2 Value**: Displayed in the upper left to quantify the correlation strength\n",
    "- **Color Palette**: Uses accessible categorical colors (red, orange, blue, green) for school quality\n",
    "- **Legend**: Positioned in the upper right corner for easy reference\n",
    "\n",
    "### Observations\n",
    "- Larger homes generally command higher prices (positive correlation)\n",
    "- Homes near excellent schools (green dots) often have premium pricing\n",
    "- The brush selection tool enables detailed exploration of specific market segments\n",
    "- The histogram helps compare price distributions between different groups"
   ]
  }
 ],
 "metadata": {
  "kernelspec": {
   "display_name": ".venv",
   "language": "python",
   "name": "python3"
  },
  "language_info": {
   "codemirror_mode": {
    "name": "ipython",
    "version": 3
   },
   "file_extension": ".py",
   "mimetype": "text/x-python",
   "name": "python",
   "nbconvert_exporter": "python",
   "pygments_lexer": "ipython3",
   "version": "3.12.3"
  }
 },
 "nbformat": 4,
 "nbformat_minor": 5
}
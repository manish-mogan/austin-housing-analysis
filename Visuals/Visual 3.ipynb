{
 "cells": [
  {
   "cell_type": "markdown",
   "id": "ecca8c6c",
   "metadata": {},
   "source": [
    "# Visual 3: Income and Wage Distribution Comparison (Austin TX and US)\n",
    "\n",
    "This visualization highlights income inequality and the disconnect between rising home values and stagnant wages. It compares the distribution of household incomes in Austin with national averages, alongside a wage distribution comparison for Texas versus the U.S."
   ]
  },
  {
   "cell_type": "code",
   "execution_count": 24,
   "id": "fd34e91d",
   "metadata": {},
   "outputs": [],
   "source": [
    "# Import required libraries\n",
    "import pandas as pd\n",
    "import plotly.graph_objects as go\n",
    "from plotly.subplots import make_subplots\n",
    "import numpy as np"
   ]
  },
  {
   "cell_type": "code",
   "execution_count": 25,
   "id": "08364f72",
   "metadata": {},
   "outputs": [
    {
     "name": "stdout",
     "output_type": "stream",
     "text": [
      "Income Data Shape: (352, 8)\n",
      "\n",
      "Income Data Columns: ['Household Income Bucket ID', 'Household Income Bucket', 'Year', 'Household Income', 'Household Income Moe', 'Place', 'Place ID', 'share']\n",
      "\n",
      "Wage Data Shape: (420, 9)\n",
      "\n",
      "Wage Data Columns: ['Wage Bin ID', 'Wage Bin', 'Year', 'Record Count', 'Total Population', 'Total Population MOE Appx', 'State', 'State ID', 'share']\n"
     ]
    }
   ],
   "source": [
    "# Load the datasets\n",
    "income_df = pd.read_csv('data files/austin_household_income.csv')\n",
    "wage_df = pd.read_csv('data files/texas_wage_distribution.csv')\n",
    "\n",
    "# Preview the data\n",
    "print(\"Income Data Shape:\", income_df.shape)\n",
    "print(\"\\nIncome Data Columns:\", income_df.columns.tolist())\n",
    "print(\"\\nWage Data Shape:\", wage_df.shape)\n",
    "print(\"\\nWage Data Columns:\", wage_df.columns.tolist())"
   ]
  },
  {
   "cell_type": "code",
   "execution_count": 26,
   "id": "463afa98",
   "metadata": {},
   "outputs": [
    {
     "name": "stdout",
     "output_type": "stream",
     "text": [
      "Income data years: [np.int64(2013), np.int64(2014), np.int64(2015), np.int64(2016), np.int64(2017), np.int64(2018), np.int64(2019), np.int64(2020), np.int64(2021), np.int64(2022), np.int64(2023)]\n",
      "Wage data years: [np.int64(2014), np.int64(2015), np.int64(2016), np.int64(2017), np.int64(2018), np.int64(2019), np.int64(2020), np.int64(2021), np.int64(2022), np.int64(2023)]\n"
     ]
    }
   ],
   "source": [
    "# Prepare income data - filter for Austin and US\n",
    "income_austin = income_df[income_df['Place'] == 'Austin, TX'].copy()\n",
    "income_us = income_df[income_df['Place'] == 'United States'].copy()\n",
    "\n",
    "# Prepare wage data - filter for Texas and US\n",
    "wage_texas = wage_df[wage_df['State'] == 'Texas'].copy()\n",
    "wage_us = wage_df[wage_df['State'] == 'United States'].copy()\n",
    "\n",
    "# Check available years\n",
    "print(\"Income data years:\", sorted(income_austin['Year'].unique()))\n",
    "print(\"Wage data years:\", sorted(wage_texas['Year'].unique()))"
   ]
  },
  {
   "cell_type": "code",
   "execution_count": 27,
   "id": "e4a01371",
   "metadata": {},
   "outputs": [
    {
     "data": {
      "application/vnd.plotly.v1+json": {
       "config": {
        "plotlyServerURL": "https://plot.ly"
       },
       "data": [
        {
         "hovertemplate": "<b>%{x}</b><br>Austin: %{y:.2f}%<br><extra></extra>",
         "legendgroup": "region1",
         "marker": {
          "color": "#FF6B35"
         },
         "name": "Austin, TX",
         "showlegend": true,
         "type": "bar",
         "x": [
          "< $10,000",
          "$10,000-$14,999",
          "$15,000-$19,999",
          "$20,000-$24,999",
          "$25,000-$29,999",
          "$30,000-$34,999",
          "$35,000-$39,999",
          "$40,000-$44,999",
          "$45,000-$49,999",
          "$50,000-$59,999",
          "$60,000-$74,999",
          "$75,000-$99,999",
          "$100,000-$124,999",
          "$125,000-$149,999",
          "$150,000-$199,999",
          "$200,000+"
         ],
         "xaxis": "x",
         "y": {
          "bdata": "sXEA9pHLFEC714WCf6QEQIieq4CiYAFAkKsfL3zIA0DIVtNh0UIEQG7h4JL0lQJAxb2ViqiNB0B746R0JM4IQF/HIiQvBwpALvrO3kR9GUAn4l0bJoohQCA3ok2tyChAr9jrQCnkI0B8jUEEfPgcQHECUzgEoSZADe9Pz35iMUA=",
          "dtype": "f8"
         },
         "yaxis": "y"
        },
        {
         "hovertemplate": "<b>%{x}</b><br>U.S.: %{y:.2f}%<br><extra></extra>",
         "legendgroup": "region2",
         "marker": {
          "color": "#4A90B5"
         },
         "name": "United States",
         "showlegend": true,
         "type": "bar",
         "x": [
          "< $10,000",
          "$10,000-$14,999",
          "$15,000-$19,999",
          "$20,000-$24,999",
          "$25,000-$29,999",
          "$30,000-$34,999",
          "$35,000-$39,999",
          "$40,000-$44,999",
          "$45,000-$49,999",
          "$50,000-$59,999",
          "$60,000-$74,999",
          "$75,000-$99,999",
          "$100,000-$124,999",
          "$125,000-$149,999",
          "$150,000-$199,999",
          "$200,000+"
         ],
         "xaxis": "x",
         "y": {
          "bdata": "Ab0yNNl/E0Bh0jVninAMQK5yExk+AQlA4ESqkS+GC0D1Al6mN3gLQHci307rSgtA2LKYAQnzC0ATtYfaJvYLQCQtF0V8mgtAWjT7db9qGkAcOXYdAkoiQAwhIptgaylAKp0Boq4eJEAO3IaUS2kdQNRJDZp4lCJA3UbkIdIdKUA=",
          "dtype": "f8"
         },
         "yaxis": "y"
        },
        {
         "hovertemplate": "<b>%{x}</b><br>Texas: %{y:.2f}%<br><extra></extra>",
         "legendgroup": "region1",
         "marker": {
          "color": "#FF6B35"
         },
         "name": "Texas",
         "showlegend": false,
         "type": "bar",
         "x": [
          "< $10K",
          "$10-20k",
          "$20-30k",
          "$30-40k",
          "$40-50k",
          "$50-60k",
          "$60-70k",
          "$70-80k",
          "$80-90k",
          "$90-100k",
          "$100-110k",
          "$110-120k",
          "$120-130k",
          "$130-140k",
          "$140-150k",
          "$150-160k",
          "$160-170k",
          "$170-180k",
          "$180-190k",
          "$190-200k",
          "$200k+"
         ],
         "xaxis": "x2",
         "y": {
          "bdata": "TEKfbI/HIkBufiBzSfEjQKLA1uA93CdAc9IXad0fJ0CIVEm6RQglQIkzeEw0nCBAF5oKcjJtHUCmrACOCMkXQKnhUwl/AhJAC6IQ5pWnDEDyRUVzEKkHQNaLm7dOHgJA22ylyo+F+T8wbwx/+Dn4P3m3O3nTFPM/Hu9XNwdS8D/mgax9HNDqP3RptL5j2+Y/05kO8MkI4z8R7XwATIDXP9iKQpKQCQ9A",
          "dtype": "f8"
         },
         "yaxis": "y2"
        },
        {
         "hovertemplate": "<b>%{x}</b><br>U.S.: %{y:.2f}%<br><extra></extra>",
         "legendgroup": "region2",
         "marker": {
          "color": "#4A90B5"
         },
         "name": "United States",
         "showlegend": false,
         "type": "bar",
         "x": [
          "< $10K",
          "$10-20k",
          "$20-30k",
          "$30-40k",
          "$40-50k",
          "$50-60k",
          "$60-70k",
          "$70-80k",
          "$80-90k",
          "$90-100k",
          "$100-110k",
          "$110-120k",
          "$120-130k",
          "$130-140k",
          "$140-150k",
          "$150-160k",
          "$160-170k",
          "$170-180k",
          "$180-190k",
          "$190-200k",
          "$200k+"
         ],
         "xaxis": "x2",
         "y": {
          "bdata": "RcFNrCEDI0BhcuTBCqwiQF9cNxjbYiVAtEc2TaHkJkASx5vAJ+8lQN+yZnmmFyFA8xLTXY/jG0ABcOPvrsQXQB6+vuORHxNA2AqSKF7KDkAPiSb7obYJQJ1QY5EucANAFVNB2glL+z8ecTeAGib5P1oZgGIuwPM/w5UQKLwF8T/MSYodBf7rPzqqJSryUeg/HYg0AQJf4z/lLpR1NhTYP5P5/w7EfxBA",
          "dtype": "f8"
         },
         "yaxis": "y2"
        }
       ],
       "layout": {
        "annotations": [
         {
          "font": {
           "size": 16
          },
          "showarrow": false,
          "text": "Household Income Distribution",
          "x": 0.22,
          "xanchor": "center",
          "xref": "paper",
          "y": 1,
          "yanchor": "bottom",
          "yref": "paper"
         },
         {
          "font": {
           "size": 16
          },
          "showarrow": false,
          "text": "Wage Distribution",
          "x": 0.78,
          "xanchor": "center",
          "xref": "paper",
          "y": 1,
          "yanchor": "bottom",
          "yref": "paper"
         },
         {
          "arrowcolor": "#FF6B35",
          "arrowhead": 2,
          "arrowsize": 1,
          "arrowwidth": 2,
          "ax": 80,
          "ay": -50,
          "bgcolor": "rgba(255, 255, 255, 0.9)",
          "bordercolor": "#FF6B35",
          "borderpad": 4,
          "borderwidth": 2,
          "font": {
           "color": "#333333",
           "size": 10
          },
          "showarrow": true,
          "text": "Austin's higher $200k+ share<br>reflects wealth concentration",
          "x": 15,
          "xref": "x",
          "y": 19.38474746419438,
          "yref": "y"
         },
         {
          "arrowcolor": "#FF6B35",
          "arrowhead": 2,
          "arrowsize": 1,
          "arrowwidth": 2,
          "ax": 60,
          "ay": -40,
          "bgcolor": "rgba(255, 255, 255, 0.9)",
          "bordercolor": "#FF6B35",
          "borderpad": 4,
          "borderwidth": 2,
          "font": {
           "color": "#333333",
           "size": 10
          },
          "showarrow": true,
          "text": "Texas wages more concentrated<br>in lower brackets",
          "x": 2,
          "xref": "x2",
          "y": 10.97126350185064,
          "yref": "y2"
         }
        ],
        "barmode": "group",
        "font": {
         "size": 11
        },
        "height": 600,
        "hovermode": "x unified",
        "legend": {
         "font": {
          "size": 12
         },
         "orientation": "h",
         "title": {
          "text": "Region"
         },
         "x": 0.5,
         "xanchor": "center",
         "y": -0.35,
         "yanchor": "bottom"
        },
        "paper_bgcolor": "white",
        "plot_bgcolor": "rgba(240, 240, 240, 0.5)",
        "showlegend": true,
        "template": {
         "data": {
          "bar": [
           {
            "error_x": {
             "color": "#2a3f5f"
            },
            "error_y": {
             "color": "#2a3f5f"
            },
            "marker": {
             "line": {
              "color": "#E5ECF6",
              "width": 0.5
             },
             "pattern": {
              "fillmode": "overlay",
              "size": 10,
              "solidity": 0.2
             }
            },
            "type": "bar"
           }
          ],
          "barpolar": [
           {
            "marker": {
             "line": {
              "color": "#E5ECF6",
              "width": 0.5
             },
             "pattern": {
              "fillmode": "overlay",
              "size": 10,
              "solidity": 0.2
             }
            },
            "type": "barpolar"
           }
          ],
          "carpet": [
           {
            "aaxis": {
             "endlinecolor": "#2a3f5f",
             "gridcolor": "white",
             "linecolor": "white",
             "minorgridcolor": "white",
             "startlinecolor": "#2a3f5f"
            },
            "baxis": {
             "endlinecolor": "#2a3f5f",
             "gridcolor": "white",
             "linecolor": "white",
             "minorgridcolor": "white",
             "startlinecolor": "#2a3f5f"
            },
            "type": "carpet"
           }
          ],
          "choropleth": [
           {
            "colorbar": {
             "outlinewidth": 0,
             "ticks": ""
            },
            "type": "choropleth"
           }
          ],
          "contour": [
           {
            "colorbar": {
             "outlinewidth": 0,
             "ticks": ""
            },
            "colorscale": [
             [
              0,
              "#0d0887"
             ],
             [
              0.1111111111111111,
              "#46039f"
             ],
             [
              0.2222222222222222,
              "#7201a8"
             ],
             [
              0.3333333333333333,
              "#9c179e"
             ],
             [
              0.4444444444444444,
              "#bd3786"
             ],
             [
              0.5555555555555556,
              "#d8576b"
             ],
             [
              0.6666666666666666,
              "#ed7953"
             ],
             [
              0.7777777777777778,
              "#fb9f3a"
             ],
             [
              0.8888888888888888,
              "#fdca26"
             ],
             [
              1,
              "#f0f921"
             ]
            ],
            "type": "contour"
           }
          ],
          "contourcarpet": [
           {
            "colorbar": {
             "outlinewidth": 0,
             "ticks": ""
            },
            "type": "contourcarpet"
           }
          ],
          "heatmap": [
           {
            "colorbar": {
             "outlinewidth": 0,
             "ticks": ""
            },
            "colorscale": [
             [
              0,
              "#0d0887"
             ],
             [
              0.1111111111111111,
              "#46039f"
             ],
             [
              0.2222222222222222,
              "#7201a8"
             ],
             [
              0.3333333333333333,
              "#9c179e"
             ],
             [
              0.4444444444444444,
              "#bd3786"
             ],
             [
              0.5555555555555556,
              "#d8576b"
             ],
             [
              0.6666666666666666,
              "#ed7953"
             ],
             [
              0.7777777777777778,
              "#fb9f3a"
             ],
             [
              0.8888888888888888,
              "#fdca26"
             ],
             [
              1,
              "#f0f921"
             ]
            ],
            "type": "heatmap"
           }
          ],
          "histogram": [
           {
            "marker": {
             "pattern": {
              "fillmode": "overlay",
              "size": 10,
              "solidity": 0.2
             }
            },
            "type": "histogram"
           }
          ],
          "histogram2d": [
           {
            "colorbar": {
             "outlinewidth": 0,
             "ticks": ""
            },
            "colorscale": [
             [
              0,
              "#0d0887"
             ],
             [
              0.1111111111111111,
              "#46039f"
             ],
             [
              0.2222222222222222,
              "#7201a8"
             ],
             [
              0.3333333333333333,
              "#9c179e"
             ],
             [
              0.4444444444444444,
              "#bd3786"
             ],
             [
              0.5555555555555556,
              "#d8576b"
             ],
             [
              0.6666666666666666,
              "#ed7953"
             ],
             [
              0.7777777777777778,
              "#fb9f3a"
             ],
             [
              0.8888888888888888,
              "#fdca26"
             ],
             [
              1,
              "#f0f921"
             ]
            ],
            "type": "histogram2d"
           }
          ],
          "histogram2dcontour": [
           {
            "colorbar": {
             "outlinewidth": 0,
             "ticks": ""
            },
            "colorscale": [
             [
              0,
              "#0d0887"
             ],
             [
              0.1111111111111111,
              "#46039f"
             ],
             [
              0.2222222222222222,
              "#7201a8"
             ],
             [
              0.3333333333333333,
              "#9c179e"
             ],
             [
              0.4444444444444444,
              "#bd3786"
             ],
             [
              0.5555555555555556,
              "#d8576b"
             ],
             [
              0.6666666666666666,
              "#ed7953"
             ],
             [
              0.7777777777777778,
              "#fb9f3a"
             ],
             [
              0.8888888888888888,
              "#fdca26"
             ],
             [
              1,
              "#f0f921"
             ]
            ],
            "type": "histogram2dcontour"
           }
          ],
          "mesh3d": [
           {
            "colorbar": {
             "outlinewidth": 0,
             "ticks": ""
            },
            "type": "mesh3d"
           }
          ],
          "parcoords": [
           {
            "line": {
             "colorbar": {
              "outlinewidth": 0,
              "ticks": ""
             }
            },
            "type": "parcoords"
           }
          ],
          "pie": [
           {
            "automargin": true,
            "type": "pie"
           }
          ],
          "scatter": [
           {
            "fillpattern": {
             "fillmode": "overlay",
             "size": 10,
             "solidity": 0.2
            },
            "type": "scatter"
           }
          ],
          "scatter3d": [
           {
            "line": {
             "colorbar": {
              "outlinewidth": 0,
              "ticks": ""
             }
            },
            "marker": {
             "colorbar": {
              "outlinewidth": 0,
              "ticks": ""
             }
            },
            "type": "scatter3d"
           }
          ],
          "scattercarpet": [
           {
            "marker": {
             "colorbar": {
              "outlinewidth": 0,
              "ticks": ""
             }
            },
            "type": "scattercarpet"
           }
          ],
          "scattergeo": [
           {
            "marker": {
             "colorbar": {
              "outlinewidth": 0,
              "ticks": ""
             }
            },
            "type": "scattergeo"
           }
          ],
          "scattergl": [
           {
            "marker": {
             "colorbar": {
              "outlinewidth": 0,
              "ticks": ""
             }
            },
            "type": "scattergl"
           }
          ],
          "scattermap": [
           {
            "marker": {
             "colorbar": {
              "outlinewidth": 0,
              "ticks": ""
             }
            },
            "type": "scattermap"
           }
          ],
          "scattermapbox": [
           {
            "marker": {
             "colorbar": {
              "outlinewidth": 0,
              "ticks": ""
             }
            },
            "type": "scattermapbox"
           }
          ],
          "scatterpolar": [
           {
            "marker": {
             "colorbar": {
              "outlinewidth": 0,
              "ticks": ""
             }
            },
            "type": "scatterpolar"
           }
          ],
          "scatterpolargl": [
           {
            "marker": {
             "colorbar": {
              "outlinewidth": 0,
              "ticks": ""
             }
            },
            "type": "scatterpolargl"
           }
          ],
          "scatterternary": [
           {
            "marker": {
             "colorbar": {
              "outlinewidth": 0,
              "ticks": ""
             }
            },
            "type": "scatterternary"
           }
          ],
          "surface": [
           {
            "colorbar": {
             "outlinewidth": 0,
             "ticks": ""
            },
            "colorscale": [
             [
              0,
              "#0d0887"
             ],
             [
              0.1111111111111111,
              "#46039f"
             ],
             [
              0.2222222222222222,
              "#7201a8"
             ],
             [
              0.3333333333333333,
              "#9c179e"
             ],
             [
              0.4444444444444444,
              "#bd3786"
             ],
             [
              0.5555555555555556,
              "#d8576b"
             ],
             [
              0.6666666666666666,
              "#ed7953"
             ],
             [
              0.7777777777777778,
              "#fb9f3a"
             ],
             [
              0.8888888888888888,
              "#fdca26"
             ],
             [
              1,
              "#f0f921"
             ]
            ],
            "type": "surface"
           }
          ],
          "table": [
           {
            "cells": {
             "fill": {
              "color": "#EBF0F8"
             },
             "line": {
              "color": "white"
             }
            },
            "header": {
             "fill": {
              "color": "#C8D4E3"
             },
             "line": {
              "color": "white"
             }
            },
            "type": "table"
           }
          ]
         },
         "layout": {
          "annotationdefaults": {
           "arrowcolor": "#2a3f5f",
           "arrowhead": 0,
           "arrowwidth": 1
          },
          "autotypenumbers": "strict",
          "coloraxis": {
           "colorbar": {
            "outlinewidth": 0,
            "ticks": ""
           }
          },
          "colorscale": {
           "diverging": [
            [
             0,
             "#8e0152"
            ],
            [
             0.1,
             "#c51b7d"
            ],
            [
             0.2,
             "#de77ae"
            ],
            [
             0.3,
             "#f1b6da"
            ],
            [
             0.4,
             "#fde0ef"
            ],
            [
             0.5,
             "#f7f7f7"
            ],
            [
             0.6,
             "#e6f5d0"
            ],
            [
             0.7,
             "#b8e186"
            ],
            [
             0.8,
             "#7fbc41"
            ],
            [
             0.9,
             "#4d9221"
            ],
            [
             1,
             "#276419"
            ]
           ],
           "sequential": [
            [
             0,
             "#0d0887"
            ],
            [
             0.1111111111111111,
             "#46039f"
            ],
            [
             0.2222222222222222,
             "#7201a8"
            ],
            [
             0.3333333333333333,
             "#9c179e"
            ],
            [
             0.4444444444444444,
             "#bd3786"
            ],
            [
             0.5555555555555556,
             "#d8576b"
            ],
            [
             0.6666666666666666,
             "#ed7953"
            ],
            [
             0.7777777777777778,
             "#fb9f3a"
            ],
            [
             0.8888888888888888,
             "#fdca26"
            ],
            [
             1,
             "#f0f921"
            ]
           ],
           "sequentialminus": [
            [
             0,
             "#0d0887"
            ],
            [
             0.1111111111111111,
             "#46039f"
            ],
            [
             0.2222222222222222,
             "#7201a8"
            ],
            [
             0.3333333333333333,
             "#9c179e"
            ],
            [
             0.4444444444444444,
             "#bd3786"
            ],
            [
             0.5555555555555556,
             "#d8576b"
            ],
            [
             0.6666666666666666,
             "#ed7953"
            ],
            [
             0.7777777777777778,
             "#fb9f3a"
            ],
            [
             0.8888888888888888,
             "#fdca26"
            ],
            [
             1,
             "#f0f921"
            ]
           ]
          },
          "colorway": [
           "#636efa",
           "#EF553B",
           "#00cc96",
           "#ab63fa",
           "#FFA15A",
           "#19d3f3",
           "#FF6692",
           "#B6E880",
           "#FF97FF",
           "#FECB52"
          ],
          "font": {
           "color": "#2a3f5f"
          },
          "geo": {
           "bgcolor": "white",
           "lakecolor": "white",
           "landcolor": "#E5ECF6",
           "showlakes": true,
           "showland": true,
           "subunitcolor": "white"
          },
          "hoverlabel": {
           "align": "left"
          },
          "hovermode": "closest",
          "mapbox": {
           "style": "light"
          },
          "paper_bgcolor": "white",
          "plot_bgcolor": "#E5ECF6",
          "polar": {
           "angularaxis": {
            "gridcolor": "white",
            "linecolor": "white",
            "ticks": ""
           },
           "bgcolor": "#E5ECF6",
           "radialaxis": {
            "gridcolor": "white",
            "linecolor": "white",
            "ticks": ""
           }
          },
          "scene": {
           "xaxis": {
            "backgroundcolor": "#E5ECF6",
            "gridcolor": "white",
            "gridwidth": 2,
            "linecolor": "white",
            "showbackground": true,
            "ticks": "",
            "zerolinecolor": "white"
           },
           "yaxis": {
            "backgroundcolor": "#E5ECF6",
            "gridcolor": "white",
            "gridwidth": 2,
            "linecolor": "white",
            "showbackground": true,
            "ticks": "",
            "zerolinecolor": "white"
           },
           "zaxis": {
            "backgroundcolor": "#E5ECF6",
            "gridcolor": "white",
            "gridwidth": 2,
            "linecolor": "white",
            "showbackground": true,
            "ticks": "",
            "zerolinecolor": "white"
           }
          },
          "shapedefaults": {
           "line": {
            "color": "#2a3f5f"
           }
          },
          "ternary": {
           "aaxis": {
            "gridcolor": "white",
            "linecolor": "white",
            "ticks": ""
           },
           "baxis": {
            "gridcolor": "white",
            "linecolor": "white",
            "ticks": ""
           },
           "bgcolor": "#E5ECF6",
           "caxis": {
            "gridcolor": "white",
            "linecolor": "white",
            "ticks": ""
           }
          },
          "title": {
           "x": 0.05
          },
          "xaxis": {
           "automargin": true,
           "gridcolor": "white",
           "linecolor": "white",
           "ticks": "",
           "title": {
            "standoff": 15
           },
           "zerolinecolor": "white",
           "zerolinewidth": 2
          },
          "yaxis": {
           "automargin": true,
           "gridcolor": "white",
           "linecolor": "white",
           "ticks": "",
           "title": {
            "standoff": 15
           },
           "zerolinecolor": "white",
           "zerolinewidth": 2
          }
         }
        },
        "title": {
         "font": {
          "size": 20
         },
         "text": "Income and Wage Distribution Comparison (2023)<br><sub>Comparing Austin/Texas with National Averages</sub>",
         "x": 0.5,
         "xanchor": "center"
        },
        "width": 1600,
        "xaxis": {
         "anchor": "y",
         "domain": [
          0,
          0.44
         ],
         "tickangle": -45,
         "title": {
          "text": "Income Bracket"
         }
        },
        "xaxis2": {
         "anchor": "y2",
         "domain": [
          0.56,
          1
         ],
         "tickangle": -45,
         "title": {
          "text": "Wage Bracket"
         }
        },
        "yaxis": {
         "anchor": "x",
         "domain": [
          0,
          1
         ],
         "title": {
          "text": "Share of Households (%)"
         }
        },
        "yaxis2": {
         "anchor": "x2",
         "domain": [
          0,
          1
         ],
         "title": {
          "text": "Share of Workers (%)"
         }
        }
       }
      }
     },
     "metadata": {},
     "output_type": "display_data"
    }
   ],
   "source": [
    "# Create the interactive visualization with subplots\n",
    "def create_income_wage_comparison(year=2023):\n",
    "    \"\"\"\n",
    "    Create a dual-panel comparison of income and wage distributions\n",
    "    \n",
    "    Parameters:\n",
    "    year: Year to display (default 2023)\n",
    "    \"\"\"\n",
    "    \n",
    "    # Filter data for the selected year\n",
    "    income_austin_year = income_austin[income_austin['Year'] == year].copy()\n",
    "    income_us_year = income_us[income_us['Year'] == year].copy()\n",
    "    wage_texas_year = wage_texas[wage_texas['Year'] == year].copy()\n",
    "    wage_us_year = wage_us[wage_us['Year'] == year].copy()\n",
    "    \n",
    "    # Sort by income/wage bracket order\n",
    "    income_austin_year = income_austin_year.sort_values('Household Income Bucket ID')\n",
    "    income_us_year = income_us_year.sort_values('Household Income Bucket ID')\n",
    "    wage_texas_year = wage_texas_year.sort_values('Wage Bin ID')\n",
    "    wage_us_year = wage_us_year.sort_values('Wage Bin ID')\n",
    "    \n",
    "    # Create subplots with 1 row and 2 columns\n",
    "    fig = make_subplots(\n",
    "        rows=1, cols=2,\n",
    "        subplot_titles=('Household Income Distribution', 'Wage Distribution'),\n",
    "        horizontal_spacing=0.12\n",
    "    )\n",
    "    \n",
    "    # Define colors\n",
    "    color_austin_texas = '#FF6B35'  # Warm orange\n",
    "    color_us = '#4A90B5'  # Cool gray-blue\n",
    "    \n",
    "    # Panel 1: Household Income Distribution (Austin vs US)\n",
    "    fig.add_trace(\n",
    "        go.Bar(\n",
    "            x=income_austin_year['Household Income Bucket'],\n",
    "            y=income_austin_year['share'] * 100,\n",
    "            name='Austin, TX',\n",
    "            marker_color=color_austin_texas,\n",
    "            hovertemplate='<b>%{x}</b><br>' +\n",
    "                         'Austin: %{y:.2f}%<br>' +\n",
    "                         '<extra></extra>',\n",
    "            legendgroup='region1',\n",
    "            showlegend=True\n",
    "        ),\n",
    "        row=1, col=1\n",
    "    )\n",
    "    \n",
    "    fig.add_trace(\n",
    "        go.Bar(\n",
    "            x=income_us_year['Household Income Bucket'],\n",
    "            y=income_us_year['share'] * 100,\n",
    "            name='United States',\n",
    "            marker_color=color_us,\n",
    "            hovertemplate='<b>%{x}</b><br>' +\n",
    "                         'U.S.: %{y:.2f}%<br>' +\n",
    "                         '<extra></extra>',\n",
    "            legendgroup='region2',\n",
    "            showlegend=True\n",
    "        ),\n",
    "        row=1, col=1\n",
    "    )\n",
    "    \n",
    "    # Panel 2: Wage Distribution (Texas vs US)\n",
    "    fig.add_trace(\n",
    "        go.Bar(\n",
    "            x=wage_texas_year['Wage Bin'],\n",
    "            y=wage_texas_year['share'] * 100,\n",
    "            name='Texas',\n",
    "            marker_color=color_austin_texas,\n",
    "            hovertemplate='<b>%{x}</b><br>' +\n",
    "                         'Texas: %{y:.2f}%<br>' +\n",
    "                         '<extra></extra>',\n",
    "            legendgroup='region1',\n",
    "            showlegend=False\n",
    "        ),\n",
    "        row=1, col=2\n",
    "    )\n",
    "    \n",
    "    fig.add_trace(\n",
    "        go.Bar(\n",
    "            x=wage_us_year['Wage Bin'],\n",
    "            y=wage_us_year['share'] * 100,\n",
    "            name='United States',\n",
    "            marker_color=color_us,\n",
    "            hovertemplate='<b>%{x}</b><br>' +\n",
    "                         'U.S.: %{y:.2f}%<br>' +\n",
    "                         '<extra></extra>',\n",
    "            legendgroup='region2',\n",
    "            showlegend=False\n",
    "        ),\n",
    "        row=1, col=2\n",
    "    )\n",
    "    \n",
    "    # Update x-axes\n",
    "    fig.update_xaxes(title_text=\"Income Bracket\", row=1, col=1, tickangle=-45)\n",
    "    fig.update_xaxes(title_text=\"Wage Bracket\", row=1, col=2, tickangle=-45)\n",
    "    \n",
    "    # Update y-axes\n",
    "    fig.update_yaxes(title_text=\"Share of Households (%)\", row=1, col=1)\n",
    "    fig.update_yaxes(title_text=\"Share of Workers (%)\", row=1, col=2)\n",
    "    \n",
    "    # Update layout\n",
    "    fig.update_layout(\n",
    "        title={\n",
    "            'text': f'Income and Wage Distribution Comparison ({year})<br>' +\n",
    "                   '<sub>Comparing Austin/Texas with National Averages</sub>',\n",
    "            'x': 0.5,\n",
    "            'xanchor': 'center',\n",
    "            'font': {'size': 20}\n",
    "        },\n",
    "        barmode='group',\n",
    "        height=600,\n",
    "        width=1600,\n",
    "        showlegend=True,\n",
    "        legend=dict(\n",
    "            title=dict(text='Region'),\n",
    "            orientation='h',\n",
    "            yanchor='bottom',\n",
    "            y=-0.35,\n",
    "            xanchor='center',\n",
    "            x=0.5,\n",
    "            font=dict(size=12)\n",
    "        ),\n",
    "        font=dict(size=11),\n",
    "        hovermode='x unified',\n",
    "        paper_bgcolor='white',\n",
    "        plot_bgcolor='rgba(240, 240, 240, 0.5)'\n",
    "    )\n",
    "    \n",
    "    # Add annotations for key insights\n",
    "    # Annotation 1: Austin's higher $200k+ share\n",
    "    fig.add_annotation(\n",
    "        text=\"Austin's higher $200k+ share<br>reflects wealth concentration\",\n",
    "        xref=\"x\", yref=\"y\",\n",
    "        x=15, y=income_austin_year[income_austin_year['Household Income Bucket ID'] == 15]['share'].values[0] * 100 + 2,\n",
    "        showarrow=True,\n",
    "        arrowhead=2,\n",
    "        arrowsize=1,\n",
    "        arrowwidth=2,\n",
    "        arrowcolor=\"#FF6B35\",\n",
    "        ax=80,\n",
    "        ay=-50,\n",
    "        bordercolor=\"#FF6B35\",\n",
    "        borderwidth=2,\n",
    "        borderpad=4,\n",
    "        bgcolor=\"rgba(255, 255, 255, 0.9)\",\n",
    "        font=dict(size=10, color=\"#333333\"),\n",
    "        row=1, col=1\n",
    "    )\n",
    "    \n",
    "    # Annotation 2: Texas wages concentrated in lower brackets\n",
    "    fig.add_annotation(\n",
    "        text=\"Texas wages more concentrated<br>in lower brackets\",\n",
    "        xref=\"x2\", yref=\"y2\",\n",
    "        x=2, y=wage_texas_year[wage_texas_year['Wage Bin ID'] == 2]['share'].values[0] * 100 + 1,\n",
    "        showarrow=True,\n",
    "        arrowhead=2,\n",
    "        arrowsize=1,\n",
    "        arrowwidth=2,\n",
    "        arrowcolor=\"#FF6B35\",\n",
    "        ax=60,\n",
    "        ay=-40,\n",
    "        bordercolor=\"#FF6B35\",\n",
    "        borderwidth=2,\n",
    "        borderpad=4,\n",
    "        bgcolor=\"rgba(255, 255, 255, 0.9)\",\n",
    "        font=dict(size=10, color=\"#333333\"),\n",
    "        row=1, col=2\n",
    "    )\n",
    "    \n",
    "    return fig\n",
    "\n",
    "# Create the visualization for 2023\n",
    "fig = create_income_wage_comparison(year=2023)\n",
    "fig.show()"
   ]
  },
  {
   "cell_type": "code",
   "execution_count": 28,
   "id": "6292b9bd",
   "metadata": {},
   "outputs": [
    {
     "data": {
      "application/vnd.plotly.v1+json": {
       "config": {
        "plotlyServerURL": "https://plot.ly"
       },
       "data": [
        {
         "hovertemplate": "<b>%{x}</b><br>Austin: %{y:.2f}%<br><extra></extra>",
         "legendgroup": "region1",
         "marker": {
          "color": "#FF6B35"
         },
         "name": "Austin, TX",
         "type": "bar",
         "x": [
          "< $10,000",
          "$10,000-$14,999",
          "$15,000-$19,999",
          "$20,000-$24,999",
          "$25,000-$29,999",
          "$30,000-$34,999",
          "$35,000-$39,999",
          "$40,000-$44,999",
          "$45,000-$49,999",
          "$50,000-$59,999",
          "$60,000-$74,999",
          "$75,000-$99,999",
          "$100,000-$124,999",
          "$125,000-$149,999",
          "$150,000-$199,999",
          "$200,000+"
         ],
         "xaxis": "x",
         "y": {
          "bdata": "tPM1sSkZH0AZmH4yG/8RQO0z7/0Z9BFAe/b496vzE0Di1XkyVE0SQJQNoUuw2BRAkfPcHxxAFEA8phOGAx0UQDWhlA/m5A9AK1AstJlnHkDD3hM9YgkkQBxFCe2ftydAyqBh3jybIEB0u1pYlqwTQDh8JhJmpxVAd2riykkWGUA=",
          "dtype": "f8"
         },
         "yaxis": "y"
        },
        {
         "hovertemplate": "<b>%{x}</b><br>U.S.: %{y:.2f}%<br><extra></extra>",
         "legendgroup": "region2",
         "marker": {
          "color": "#4A90B5"
         },
         "name": "United States",
         "type": "bar",
         "x": [
          "< $10,000",
          "$10,000-$14,999",
          "$15,000-$19,999",
          "$20,000-$24,999",
          "$25,000-$29,999",
          "$30,000-$34,999",
          "$35,000-$39,999",
          "$40,000-$44,999",
          "$45,000-$49,999",
          "$50,000-$59,999",
          "$60,000-$74,999",
          "$75,000-$99,999",
          "$100,000-$124,999",
          "$125,000-$149,999",
          "$150,000-$199,999",
          "$200,000+"
         ],
         "xaxis": "x",
         "y": {
          "bdata": "ZikdXJjlHEBxjtIpz00VQB2LiMgObhVABCjjjNhCFUDa5TEtZ28UQE81+HmIbBRAKpY6VmDIEkAR+89C4LESQBSW+ipCfxBA2ZRwplCYH0As2DxCT9wjQJgs6NxYTyhAOHYAGucxIECsGFyfkaoTQGIMKbGOKRRAbqI0UK8eFEA=",
          "dtype": "f8"
         },
         "yaxis": "y"
        },
        {
         "hovertemplate": "<b>%{x}</b><br>Texas: %{y:.2f}%<br><extra></extra>",
         "legendgroup": "region1",
         "marker": {
          "color": "#FF6B35"
         },
         "name": "Texas",
         "showlegend": false,
         "type": "bar",
         "x": [
          "< $10K",
          "$10-20k",
          "$20-30k",
          "$30-40k",
          "$40-50k",
          "$50-60k",
          "$60-70k",
          "$70-80k",
          "$80-90k",
          "$90-100k",
          "$100-110k",
          "$110-120k",
          "$120-130k",
          "$130-140k",
          "$140-150k",
          "$150-160k",
          "$160-170k",
          "$170-180k",
          "$180-190k",
          "$190-200k",
          "$200k+"
         ],
         "xaxis": "x2",
         "y": {
          "bdata": "ZT/sHO6zKkAabmY2mJ8wQMS/bhPKkS5AUSQBx1vhKUCt5jVqJY0kQEiy65Pc7B9AUqDyA7DyFkAB8qinngwPQIaIWQhT7QdAxUdoZME3AUC/vbYqFCEBQKi2bEptce4/pyExXrn+8D/yie9kb0bnP2WPxdDOy9s/pqmcX5wY4z+emiYfkcHYP4y+xFeXys4/oXA18eOy0D86SIf6CCfIP78CDce1q/w/",
          "dtype": "f8"
         },
         "yaxis": "y2"
        },
        {
         "hovertemplate": "<b>%{x}</b><br>U.S.: %{y:.2f}%<br><extra></extra>",
         "legendgroup": "region2",
         "marker": {
          "color": "#4A90B5"
         },
         "name": "United States",
         "showlegend": false,
         "type": "bar",
         "x": [
          "< $10K",
          "$10-20k",
          "$20-30k",
          "$30-40k",
          "$40-50k",
          "$50-60k",
          "$60-70k",
          "$70-80k",
          "$80-90k",
          "$90-100k",
          "$100-110k",
          "$110-120k",
          "$120-130k",
          "$130-140k",
          "$140-150k",
          "$150-160k",
          "$160-170k",
          "$170-180k",
          "$180-190k",
          "$190-200k",
          "$200k+"
         ],
         "xaxis": "x2",
         "y": {
          "bdata": "C5X6Sm1+K0AxxbqrgGkuQEGlF06pZi1AKkYo7gCdKkB8ZDp3wsAkQDlZ6s82gh9AAqOwHoR+GEAvFua4D7MQQBp2fwj2CApAdWbkhIc1AkDFU0Cd0eEBQIffKYsKW/A/KHWFTvfi8D+oADlRg0zoPyRMHacapt0/a3RCsCaH4j9ekkm29ofaP7E28/L/5M4/jhDKhd6rzT+9vkEplsfDP2JbL/X3zvw/",
          "dtype": "f8"
         },
         "yaxis": "y2"
        }
       ],
       "frames": [
        {
         "data": [
          {
           "hovertemplate": "<b>%{x}</b><br>Austin: %{y:.2f}%<br><extra></extra>",
           "legendgroup": "region1",
           "marker": {
            "color": "#FF6B35"
           },
           "name": "Austin, TX",
           "showlegend": true,
           "type": "bar",
           "x": [
            "< $10,000",
            "$10,000-$14,999",
            "$15,000-$19,999",
            "$20,000-$24,999",
            "$25,000-$29,999",
            "$30,000-$34,999",
            "$35,000-$39,999",
            "$40,000-$44,999",
            "$45,000-$49,999",
            "$50,000-$59,999",
            "$60,000-$74,999",
            "$75,000-$99,999",
            "$100,000-$124,999",
            "$125,000-$149,999",
            "$150,000-$199,999",
            "$200,000+"
           ],
           "xaxis": "x",
           "y": {
            "bdata": "tPM1sSkZH0AZmH4yG/8RQO0z7/0Z9BFAe/b496vzE0Di1XkyVE0SQJQNoUuw2BRAkfPcHxxAFEA8phOGAx0UQDWhlA/m5A9AK1AstJlnHkDD3hM9YgkkQBxFCe2ftydAyqBh3jybIEB0u1pYlqwTQDh8JhJmpxVAd2riykkWGUA=",
            "dtype": "f8"
           },
           "yaxis": "y"
          },
          {
           "hovertemplate": "<b>%{x}</b><br>U.S.: %{y:.2f}%<br><extra></extra>",
           "legendgroup": "region2",
           "marker": {
            "color": "#4A90B5"
           },
           "name": "United States",
           "showlegend": true,
           "type": "bar",
           "x": [
            "< $10,000",
            "$10,000-$14,999",
            "$15,000-$19,999",
            "$20,000-$24,999",
            "$25,000-$29,999",
            "$30,000-$34,999",
            "$35,000-$39,999",
            "$40,000-$44,999",
            "$45,000-$49,999",
            "$50,000-$59,999",
            "$60,000-$74,999",
            "$75,000-$99,999",
            "$100,000-$124,999",
            "$125,000-$149,999",
            "$150,000-$199,999",
            "$200,000+"
           ],
           "xaxis": "x",
           "y": {
            "bdata": "ZikdXJjlHEBxjtIpz00VQB2LiMgObhVABCjjjNhCFUDa5TEtZ28UQE81+HmIbBRAKpY6VmDIEkAR+89C4LESQBSW+ipCfxBA2ZRwplCYH0As2DxCT9wjQJgs6NxYTyhAOHYAGucxIECsGFyfkaoTQGIMKbGOKRRAbqI0UK8eFEA=",
            "dtype": "f8"
           },
           "yaxis": "y"
          },
          {
           "hovertemplate": "<b>%{x}</b><br>Texas: %{y:.2f}%<br><extra></extra>",
           "legendgroup": "region1",
           "marker": {
            "color": "#FF6B35"
           },
           "name": "Texas",
           "showlegend": false,
           "type": "bar",
           "x": [
            "< $10K",
            "$10-20k",
            "$20-30k",
            "$30-40k",
            "$40-50k",
            "$50-60k",
            "$60-70k",
            "$70-80k",
            "$80-90k",
            "$90-100k",
            "$100-110k",
            "$110-120k",
            "$120-130k",
            "$130-140k",
            "$140-150k",
            "$150-160k",
            "$160-170k",
            "$170-180k",
            "$180-190k",
            "$190-200k",
            "$200k+"
           ],
           "xaxis": "x2",
           "y": {
            "bdata": "ZT/sHO6zKkAabmY2mJ8wQMS/bhPKkS5AUSQBx1vhKUCt5jVqJY0kQEiy65Pc7B9AUqDyA7DyFkAB8qinngwPQIaIWQhT7QdAxUdoZME3AUC/vbYqFCEBQKi2bEptce4/pyExXrn+8D/yie9kb0bnP2WPxdDOy9s/pqmcX5wY4z+emiYfkcHYP4y+xFeXys4/oXA18eOy0D86SIf6CCfIP78CDce1q/w/",
            "dtype": "f8"
           },
           "yaxis": "y2"
          },
          {
           "hovertemplate": "<b>%{x}</b><br>U.S.: %{y:.2f}%<br><extra></extra>",
           "legendgroup": "region2",
           "marker": {
            "color": "#4A90B5"
           },
           "name": "United States",
           "showlegend": false,
           "type": "bar",
           "x": [
            "< $10K",
            "$10-20k",
            "$20-30k",
            "$30-40k",
            "$40-50k",
            "$50-60k",
            "$60-70k",
            "$70-80k",
            "$80-90k",
            "$90-100k",
            "$100-110k",
            "$110-120k",
            "$120-130k",
            "$130-140k",
            "$140-150k",
            "$150-160k",
            "$160-170k",
            "$170-180k",
            "$180-190k",
            "$190-200k",
            "$200k+"
           ],
           "xaxis": "x2",
           "y": {
            "bdata": "C5X6Sm1+K0AxxbqrgGkuQEGlF06pZi1AKkYo7gCdKkB8ZDp3wsAkQDlZ6s82gh9AAqOwHoR+GEAvFua4D7MQQBp2fwj2CApAdWbkhIc1AkDFU0Cd0eEBQIffKYsKW/A/KHWFTvfi8D+oADlRg0zoPyRMHacapt0/a3RCsCaH4j9ekkm29ofaP7E28/L/5M4/jhDKhd6rzT+9vkEplsfDP2JbL/X3zvw/",
            "dtype": "f8"
           },
           "yaxis": "y2"
          }
         ],
         "layout": {
          "title": {
           "text": "Income and Wage Distribution Comparison (2014)<br><sub>Comparing Austin/Texas with National Averages</sub>"
          }
         },
         "name": "2014"
        },
        {
         "data": [
          {
           "hovertemplate": "<b>%{x}</b><br>Austin: %{y:.2f}%<br><extra></extra>",
           "legendgroup": "region1",
           "marker": {
            "color": "#FF6B35"
           },
           "name": "Austin, TX",
           "showlegend": true,
           "type": "bar",
           "x": [
            "< $10,000",
            "$10,000-$14,999",
            "$15,000-$19,999",
            "$20,000-$24,999",
            "$25,000-$29,999",
            "$30,000-$34,999",
            "$35,000-$39,999",
            "$40,000-$44,999",
            "$45,000-$49,999",
            "$50,000-$59,999",
            "$60,000-$74,999",
            "$75,000-$99,999",
            "$100,000-$124,999",
            "$125,000-$149,999",
            "$150,000-$199,999",
            "$200,000+"
           ],
           "xaxis": "x",
           "y": {
            "bdata": "ZHD0GzY+HUD1h1+DrZcQQGcpi2aHXhBAVZbHSTP4E0Dxa3Jio5wRQHgidHh5MBRATwat0RksFEC7uTNwoUYTQKqMb85AVQ9AoMaiVcj2HkCsFlAWqmskQOLflwZxQyhA2hpn4RTBIEC2AK2L03oUQBUmOUC1AhdAjiIzDjiUG0A=",
            "dtype": "f8"
           },
           "yaxis": "y"
          },
          {
           "hovertemplate": "<b>%{x}</b><br>U.S.: %{y:.2f}%<br><extra></extra>",
           "legendgroup": "region2",
           "marker": {
            "color": "#4A90B5"
           },
           "name": "United States",
           "showlegend": true,
           "type": "bar",
           "x": [
            "< $10,000",
            "$10,000-$14,999",
            "$15,000-$19,999",
            "$20,000-$24,999",
            "$25,000-$29,999",
            "$30,000-$34,999",
            "$35,000-$39,999",
            "$40,000-$44,999",
            "$45,000-$49,999",
            "$50,000-$59,999",
            "$60,000-$74,999",
            "$75,000-$99,999",
            "$100,000-$124,999",
            "$125,000-$149,999",
            "$150,000-$199,999",
            "$200,000+"
           ],
           "xaxis": "x",
           "y": {
            "bdata": "Koj/3T3PHEBQLCL6ARQVQO2ajxvjABVArgHZcdlNFUCNqFZCBQUUQF2AsH99XBRAJjuU03iZEkBJEeVq/pESQF3w0MXncRBAcDyx/tVyH0Axb971d+YjQLBZfPpHOyhACwDuX25jIEDqK5zL3METQFc8kSq3jxRAURK0PlsAFUA=",
            "dtype": "f8"
           },
           "yaxis": "y"
          },
          {
           "hovertemplate": "<b>%{x}</b><br>Texas: %{y:.2f}%<br><extra></extra>",
           "legendgroup": "region1",
           "marker": {
            "color": "#FF6B35"
           },
           "name": "Texas",
           "showlegend": false,
           "type": "bar",
           "x": [
            "< $10K",
            "$10-20k",
            "$20-30k",
            "$30-40k",
            "$40-50k",
            "$50-60k",
            "$60-70k",
            "$70-80k",
            "$80-90k",
            "$90-100k",
            "$100-110k",
            "$110-120k",
            "$120-130k",
            "$130-140k",
            "$140-150k",
            "$150-160k",
            "$160-170k",
            "$170-180k",
            "$180-190k",
            "$190-200k",
            "$200k+"
           ],
           "xaxis": "x2",
           "y": {
            "bdata": "mqMRP4EtKkCV9IAyDVEwQBWwsSJ81y5Att7xi7i0KUDIRhloWTUkQPnMWjHbhiBAQQcdmBwnF0Ao6bKbQ+UOQC4Fj7fF/wdA8qCqGD8PAUAjM8fA7nMBQAEW2YUxrfA/jKfw5Aai8j/fpsN5R9flP8AIIltZ49s/iaZCBDbB5T+pBOQ8C0TWP4hnQEyOadA/v3mGQNg40j9YHl9WcA7EP5De/uY/A/8/",
            "dtype": "f8"
           },
           "yaxis": "y2"
          },
          {
           "hovertemplate": "<b>%{x}</b><br>U.S.: %{y:.2f}%<br><extra></extra>",
           "legendgroup": "region2",
           "marker": {
            "color": "#4A90B5"
           },
           "name": "United States",
           "showlegend": false,
           "type": "bar",
           "x": [
            "< $10K",
            "$10-20k",
            "$20-30k",
            "$30-40k",
            "$40-50k",
            "$50-60k",
            "$60-70k",
            "$70-80k",
            "$80-90k",
            "$90-100k",
            "$100-110k",
            "$110-120k",
            "$120-130k",
            "$130-140k",
            "$140-150k",
            "$150-160k",
            "$160-170k",
            "$170-180k",
            "$180-190k",
            "$190-200k",
            "$200k+"
           ],
           "xaxis": "x2",
           "y": {
            "bdata": "H1xF7K4nK0CBb3ZeYUAuQAahMi7olC1Ay7U9BmqAKkBiL78ZlUokQGNQOmb6PiBACukzqieFGEBMpydav4IQQHhpsaTs+glALeyoSEz6AUCtFnpP2B8CQHXAzd36lfE/PFHcQbph8j/KhCiiTJnmP+2YSspSXN0/LYL1NIT15D8eSv6XK8LXP0Ruow9rcdA/ne9CLwOxzz+5YZRjBa7BPxu/rIG4L/4/",
            "dtype": "f8"
           },
           "yaxis": "y2"
          }
         ],
         "layout": {
          "title": {
           "text": "Income and Wage Distribution Comparison (2015)<br><sub>Comparing Austin/Texas with National Averages</sub>"
          }
         },
         "name": "2015"
        },
        {
         "data": [
          {
           "hovertemplate": "<b>%{x}</b><br>Austin: %{y:.2f}%<br><extra></extra>",
           "legendgroup": "region1",
           "marker": {
            "color": "#FF6B35"
           },
           "name": "Austin, TX",
           "showlegend": true,
           "type": "bar",
           "x": [
            "< $10,000",
            "$10,000-$14,999",
            "$15,000-$19,999",
            "$20,000-$24,999",
            "$25,000-$29,999",
            "$30,000-$34,999",
            "$35,000-$39,999",
            "$40,000-$44,999",
            "$45,000-$49,999",
            "$50,000-$59,999",
            "$60,000-$74,999",
            "$75,000-$99,999",
            "$100,000-$124,999",
            "$125,000-$149,999",
            "$150,000-$199,999",
            "$200,000+"
           ],
           "xaxis": "x",
           "y": {
            "bdata": "D7I8EkS8G0CfcsrcjKgNQCQVSMzVyg5A/ula0I78EkAOPRn6RVARQNMjA9SO6BJAvNiaLiGJEkBHLtEK2IQSQA76XIhDrg5A5avAU/oFH0CJJ7wHs+0kQEHDH0yy7yhAvwDlo7OXIUAmUJoZ/FMVQGVJe8aNqhhAYx7Q2dWAHkA=",
            "dtype": "f8"
           },
           "yaxis": "y"
          },
          {
           "hovertemplate": "<b>%{x}</b><br>U.S.: %{y:.2f}%<br><extra></extra>",
           "legendgroup": "region2",
           "marker": {
            "color": "#4A90B5"
           },
           "name": "United States",
           "showlegend": true,
           "type": "bar",
           "x": [
            "< $10,000",
            "$10,000-$14,999",
            "$15,000-$19,999",
            "$20,000-$24,999",
            "$25,000-$29,999",
            "$30,000-$34,999",
            "$35,000-$39,999",
            "$40,000-$44,999",
            "$45,000-$49,999",
            "$50,000-$59,999",
            "$60,000-$74,999",
            "$75,000-$99,999",
            "$100,000-$124,999",
            "$125,000-$149,999",
            "$150,000-$199,999",
            "$200,000+"
           ],
           "xaxis": "x",
           "y": {
            "bdata": "1fQohhEDHEBySOhWpWMUQEgejnZqPxRAQMwrmui1FEAyDYoQxpwTQClCHfrD5hNAB/Oyv+lcEkCR7pFf9GASQPAkmLeVOhBAJ1f3VbBCH0CSMt/C++YjQNVw+vaaZihA8TEcXjW/IEC29itKenwUQCt6lJx0pBVASg8NxMCqFkA=",
            "dtype": "f8"
           },
           "yaxis": "y"
          },
          {
           "hovertemplate": "<b>%{x}</b><br>Texas: %{y:.2f}%<br><extra></extra>",
           "legendgroup": "region1",
           "marker": {
            "color": "#FF6B35"
           },
           "name": "Texas",
           "showlegend": false,
           "type": "bar",
           "x": [
            "< $10K",
            "$10-20k",
            "$20-30k",
            "$30-40k",
            "$40-50k",
            "$50-60k",
            "$60-70k",
            "$70-80k",
            "$80-90k",
            "$90-100k",
            "$100-110k",
            "$110-120k",
            "$120-130k",
            "$130-140k",
            "$140-150k",
            "$150-160k",
            "$160-170k",
            "$170-180k",
            "$180-190k",
            "$190-200k",
            "$200k+"
           ],
           "xaxis": "x2",
           "y": {
            "bdata": "oNQVPqdhKUDWq5hXAvMvQLxR9wpiQC9AR5cGBUMLKUC/X0WXilskQOyHzJWGSyBAcw9cOf+HF0C9/RB3a2cQQMA0bWs9kAhAWcHXvUGlAEDpxX/xYDQCQHRRPhXH0PE/rQbUYrmZ9D9zG5/H9qvlPxu2rECAjOA/ArQvRNcO6D/bLkDR+nzTP0xrGmbkodE/NCbHNsiK0T/bOc6LUo3GP+K6vlOtlABA",
            "dtype": "f8"
           },
           "yaxis": "y2"
          },
          {
           "hovertemplate": "<b>%{x}</b><br>U.S.: %{y:.2f}%<br><extra></extra>",
           "legendgroup": "region2",
           "marker": {
            "color": "#4A90B5"
           },
           "name": "United States",
           "showlegend": false,
           "type": "bar",
           "x": [
            "< $10K",
            "$10-20k",
            "$20-30k",
            "$30-40k",
            "$40-50k",
            "$50-60k",
            "$60-70k",
            "$70-80k",
            "$80-90k",
            "$90-100k",
            "$100-110k",
            "$110-120k",
            "$120-130k",
            "$130-140k",
            "$140-150k",
            "$150-160k",
            "$160-170k",
            "$170-180k",
            "$180-190k",
            "$190-200k",
            "$200k+"
           ],
           "xaxis": "x2",
           "y": {
            "bdata": "V6G2TTB+KkCTtTXkdJktQGnUiUAFuS1AyNsl1Q/4KUBdpuSrrLIkQDMusTZoBiBALJlbDv6YGEBiuIGvN3cRQMaU3LfXZApAPZlFg7SQAUDkrtTyy94CQP9CATS8VvI/CCzNgsRD9D/9lWCE1sLlP4Pefd1BI+E/Gs6ZGKOD5z+QJikXEPvUP8jbmWO8adE/y2aTapgO0D8og/M53oTDPw7DN/OVFQBA",
            "dtype": "f8"
           },
           "yaxis": "y2"
          }
         ],
         "layout": {
          "title": {
           "text": "Income and Wage Distribution Comparison (2016)<br><sub>Comparing Austin/Texas with National Averages</sub>"
          }
         },
         "name": "2016"
        },
        {
         "data": [
          {
           "hovertemplate": "<b>%{x}</b><br>Austin: %{y:.2f}%<br><extra></extra>",
           "legendgroup": "region1",
           "marker": {
            "color": "#FF6B35"
           },
           "name": "Austin, TX",
           "showlegend": true,
           "type": "bar",
           "x": [
            "< $10,000",
            "$10,000-$14,999",
            "$15,000-$19,999",
            "$20,000-$24,999",
            "$25,000-$29,999",
            "$30,000-$34,999",
            "$35,000-$39,999",
            "$40,000-$44,999",
            "$45,000-$49,999",
            "$50,000-$59,999",
            "$60,000-$74,999",
            "$75,000-$99,999",
            "$100,000-$124,999",
            "$125,000-$149,999",
            "$150,000-$199,999",
            "$200,000+"
           ],
           "xaxis": "x",
           "y": {
            "bdata": "7Z4rrHDBGUDgXZJlirwLQJtH1mm/lQpAJvR9e72yEUD/Bwz+I/EQQMB8Zl7SYBFAxogy8Lt9EUCoCrw7ERkSQGxRqEzwqw9Ay9HksxUuH0Dp/krxwQwlQChTxe+FYihA5Vvd0zncIkB6tKLVLs0WQIeFrmpXORpArrjt8ShsIUA=",
            "dtype": "f8"
           },
           "yaxis": "y"
          },
          {
           "hovertemplate": "<b>%{x}</b><br>U.S.: %{y:.2f}%<br><extra></extra>",
           "legendgroup": "region2",
           "marker": {
            "color": "#4A90B5"
           },
           "name": "United States",
           "showlegend": true,
           "type": "bar",
           "x": [
            "< $10,000",
            "$10,000-$14,999",
            "$15,000-$19,999",
            "$20,000-$24,999",
            "$25,000-$29,999",
            "$30,000-$34,999",
            "$35,000-$39,999",
            "$40,000-$44,999",
            "$45,000-$49,999",
            "$50,000-$59,999",
            "$60,000-$74,999",
            "$75,000-$99,999",
            "$100,000-$124,999",
            "$125,000-$149,999",
            "$150,000-$199,999",
            "$200,000+"
           ],
           "xaxis": "x",
           "y": {
            "bdata": "9H6TRFq8GkCWzyb/wWoTQKcRL3l7RxNA5jNsqqflE0DriF8hQuoSQFulyBHJORNA9fhBvZnzEUAQpu5HVgYSQMlF9YUD0A9ABsyPZo3oHkATjb7OY+QjQPao9DRqoihAVNkAa8tKIUD/lvrae6MVQEdn1F4CVRdAZBKQH4UhGUA=",
            "dtype": "f8"
           },
           "yaxis": "y"
          },
          {
           "hovertemplate": "<b>%{x}</b><br>Texas: %{y:.2f}%<br><extra></extra>",
           "legendgroup": "region1",
           "marker": {
            "color": "#FF6B35"
           },
           "name": "Texas",
           "showlegend": false,
           "type": "bar",
           "x": [
            "< $10K",
            "$10-20k",
            "$20-30k",
            "$30-40k",
            "$40-50k",
            "$50-60k",
            "$60-70k",
            "$70-80k",
            "$80-90k",
            "$90-100k",
            "$100-110k",
            "$110-120k",
            "$120-130k",
            "$130-140k",
            "$140-150k",
            "$150-160k",
            "$160-170k",
            "$170-180k",
            "$180-190k",
            "$190-200k",
            "$200k+"
           ],
           "xaxis": "x2",
           "y": {
            "bdata": "jeVmTF9pKEBSkHnJba8uQD/YjJhr7y5AxZWgBjYCKUDuFsLige0jQH1cAv/RKyFADF0Sk6D1F0AqKSkLHdQQQO7/9ZVm7AhA09df83AEAkCs8QpnkEYDQI6dUR5ACvI/yJUKLY089j8sd3inqB/pP4c/sx2XReE/Dxkio+xC6T+/8BjAbALWP95n3b9EdM0/LkRQBU6D1T9pexbNEw7IP7bZoNbDzwFA",
            "dtype": "f8"
           },
           "yaxis": "y2"
          },
          {
           "hovertemplate": "<b>%{x}</b><br>U.S.: %{y:.2f}%<br><extra></extra>",
           "legendgroup": "region2",
           "marker": {
            "color": "#4A90B5"
           },
           "name": "United States",
           "showlegend": false,
           "type": "bar",
           "x": [
            "< $10K",
            "$10-20k",
            "$20-30k",
            "$30-40k",
            "$40-50k",
            "$50-60k",
            "$60-70k",
            "$70-80k",
            "$80-90k",
            "$90-100k",
            "$100-110k",
            "$110-120k",
            "$120-130k",
            "$130-140k",
            "$140-150k",
            "$150-160k",
            "$160-170k",
            "$170-180k",
            "$180-190k",
            "$190-200k",
            "$200k+"
           ],
           "xaxis": "x2",
           "y": {
            "bdata": "szwfPcVrKUCRSV/S5pwsQNY/Zjf+VC1A0suRH2bQKUCag/PYjJskQJIoAN8HhCBAdQzCSLHNGEAn5UGSjx4SQLykKUVsswpAqG7CcmMUA0BTl/AiBsYDQFBJNtA+3vI/jOGEf9939T8uEHKlEIbpP5tyEBol3+E/eJSitIEY6T8GgChzrDbXP5/kJNBmEs4/zrOZZMFy1D9yHzrcHVXGP9RmzerwXAFA",
            "dtype": "f8"
           },
           "yaxis": "y2"
          }
         ],
         "layout": {
          "title": {
           "text": "Income and Wage Distribution Comparison (2017)<br><sub>Comparing Austin/Texas with National Averages</sub>"
          }
         },
         "name": "2017"
        },
        {
         "data": [
          {
           "hovertemplate": "<b>%{x}</b><br>Austin: %{y:.2f}%<br><extra></extra>",
           "legendgroup": "region1",
           "marker": {
            "color": "#FF6B35"
           },
           "name": "Austin, TX",
           "showlegend": true,
           "type": "bar",
           "x": [
            "< $10,000",
            "$10,000-$14,999",
            "$15,000-$19,999",
            "$20,000-$24,999",
            "$25,000-$29,999",
            "$30,000-$34,999",
            "$35,000-$39,999",
            "$40,000-$44,999",
            "$45,000-$49,999",
            "$50,000-$59,999",
            "$60,000-$74,999",
            "$75,000-$99,999",
            "$100,000-$124,999",
            "$125,000-$149,999",
            "$150,000-$199,999",
            "$200,000+"
           ],
           "xaxis": "x",
           "y": {
            "bdata": "NnRZODwbGECmzQEjIsAJQDrVKfFx+QhAeSqYvZvgD0Cuw8wj1MQQQLpaSl77RBBAtWk46D5XEEBQlkc+iPUQQPssU6HIqw5As7iUJvhVH0BEi3hUsVskQKxzWVGRTihASBaSxj4xI0DJ0NCD9VsZQMTN+EXrlxxAGbcujir1I0A=",
            "dtype": "f8"
           },
           "yaxis": "y"
          },
          {
           "hovertemplate": "<b>%{x}</b><br>U.S.: %{y:.2f}%<br><extra></extra>",
           "legendgroup": "region2",
           "marker": {
            "color": "#4A90B5"
           },
           "name": "United States",
           "showlegend": true,
           "type": "bar",
           "x": [
            "< $10,000",
            "$10,000-$14,999",
            "$15,000-$19,999",
            "$20,000-$24,999",
            "$25,000-$29,999",
            "$30,000-$34,999",
            "$35,000-$39,999",
            "$40,000-$44,999",
            "$45,000-$49,999",
            "$50,000-$59,999",
            "$60,000-$74,999",
            "$75,000-$99,999",
            "$100,000-$124,999",
            "$125,000-$149,999",
            "$150,000-$199,999",
            "$200,000+"
           ],
           "xaxis": "x",
           "y": {
            "bdata": "H2daLYdWGUBj6d5J8WUSQFvQxm3lVRJAOTAJD57nEkAfhSAW2ZESQGJ6MpdpkhJA7QimfQBZEUAfVNGiXqARQPSPRaB3HA9AabhhsbGJHkD3fxYK9agjQCjwD0ug8yhARQzqekO1IUATIPHZyygXQPArNcjPGRlAyIxgeifqG0A=",
            "dtype": "f8"
           },
           "yaxis": "y"
          },
          {
           "hovertemplate": "<b>%{x}</b><br>Texas: %{y:.2f}%<br><extra></extra>",
           "legendgroup": "region1",
           "marker": {
            "color": "#FF6B35"
           },
           "name": "Texas",
           "showlegend": false,
           "type": "bar",
           "x": [
            "< $10K",
            "$10-20k",
            "$20-30k",
            "$30-40k",
            "$40-50k",
            "$50-60k",
            "$60-70k",
            "$70-80k",
            "$80-90k",
            "$90-100k",
            "$100-110k",
            "$110-120k",
            "$120-130k",
            "$130-140k",
            "$140-150k",
            "$150-160k",
            "$160-170k",
            "$170-180k",
            "$180-190k",
            "$190-200k",
            "$200k+"
           ],
           "xaxis": "x2",
           "y": {
            "bdata": "sytieqxRJ0CGyOiawDItQHpCSMvZ1S5AiuqSrRPAKEAjFd8JaCAkQPlUziHUkCFA3vj4uPj9GEA4ZOoKtZoQQPvLmXazPQpAL0A7yg22AkDn3zjEzJAEQCJQd0JXsfM/c4vwkfK39j9ATzFV9vHrP3SJqDXDFOM/cWebe8Gt5z8e754egavcPw/TLblIK9E/t8rSgUEj1T+MGhlxNUHKP2Vqxh2jNgNA",
            "dtype": "f8"
           },
           "yaxis": "y2"
          },
          {
           "hovertemplate": "<b>%{x}</b><br>U.S.: %{y:.2f}%<br><extra></extra>",
           "legendgroup": "region2",
           "marker": {
            "color": "#4A90B5"
           },
           "name": "United States",
           "showlegend": false,
           "type": "bar",
           "x": [
            "< $10K",
            "$10-20k",
            "$20-30k",
            "$30-40k",
            "$40-50k",
            "$50-60k",
            "$60-70k",
            "$70-80k",
            "$80-90k",
            "$90-100k",
            "$100-110k",
            "$110-120k",
            "$120-130k",
            "$130-140k",
            "$140-150k",
            "$150-160k",
            "$160-170k",
            "$170-180k",
            "$180-190k",
            "$190-200k",
            "$200k+"
           ],
           "xaxis": "x2",
           "y": {
            "bdata": "xzi7TJtEKECfSXFmhR0rQP/k4OpzNy1AF5FeuzROKUAeHUThn/EkQEZnA8QS2CBAn03lUEKYGUCeBP6YDf4RQEgCMJWxPAxAkDdu/VInBECyczNCTxUFQAEWtvBq2vQ/j/lD3UA89j/64GNk3rDsPzh8BEsRsOM/poZnWKmS5z8b6fIO04bdP/crcavmRtI/GqGCPgdX1T+o7CsyMvDIP0sjafFE2AJA",
            "dtype": "f8"
           },
           "yaxis": "y2"
          }
         ],
         "layout": {
          "title": {
           "text": "Income and Wage Distribution Comparison (2018)<br><sub>Comparing Austin/Texas with National Averages</sub>"
          }
         },
         "name": "2018"
        },
        {
         "data": [
          {
           "hovertemplate": "<b>%{x}</b><br>Austin: %{y:.2f}%<br><extra></extra>",
           "legendgroup": "region1",
           "marker": {
            "color": "#FF6B35"
           },
           "name": "Austin, TX",
           "showlegend": true,
           "type": "bar",
           "x": [
            "< $10,000",
            "$10,000-$14,999",
            "$15,000-$19,999",
            "$20,000-$24,999",
            "$25,000-$29,999",
            "$30,000-$34,999",
            "$35,000-$39,999",
            "$40,000-$44,999",
            "$45,000-$49,999",
            "$50,000-$59,999",
            "$60,000-$74,999",
            "$75,000-$99,999",
            "$100,000-$124,999",
            "$125,000-$149,999",
            "$150,000-$199,999",
            "$200,000+"
           ],
           "xaxis": "x",
           "y": {
            "bdata": "zB11E4o6F0Bl8CSv8Z4GQLeu7FNMiwdAjxAuJMB4DEDREpDYYGwOQCWJLHBhZhBAMjX3dF+WDkAIRd5sv+EOQAjkky+X+w5AMu4Hq503HkCQ3MNJl+wjQDZKs8dMpyhAoNFJxQxsI0Ct3DYaF4EbQNXL4TF79h9Ad6CPJzz3JUA=",
            "dtype": "f8"
           },
           "yaxis": "y"
          },
          {
           "hovertemplate": "<b>%{x}</b><br>U.S.: %{y:.2f}%<br><extra></extra>",
           "legendgroup": "region2",
           "marker": {
            "color": "#4A90B5"
           },
           "name": "United States",
           "showlegend": true,
           "type": "bar",
           "x": [
            "< $10,000",
            "$10,000-$14,999",
            "$15,000-$19,999",
            "$20,000-$24,999",
            "$25,000-$29,999",
            "$30,000-$34,999",
            "$35,000-$39,999",
            "$40,000-$44,999",
            "$45,000-$49,999",
            "$50,000-$59,999",
            "$60,000-$74,999",
            "$75,000-$99,999",
            "$100,000-$124,999",
            "$125,000-$149,999",
            "$150,000-$199,999",
            "$200,000+"
           ],
           "xaxis": "x",
           "y": {
            "bdata": "vNVlL8QwGEAI9MrGtzARQFbQ7y3hjhFAONHNNp8VEkCiEXMZcIIRQC+Y2NwwPRJAdwa/iH/fEEBFAUhX0dQQQP4tzIZHyQ5AJwEwQT0cHkBWsc1RsmAjQGxvgwjEdilAWY9tDwVAIkBZ+kJZARMYQJ4f+uIaExtAZ1Buuh2wHkA=",
            "dtype": "f8"
           },
           "yaxis": "y"
          },
          {
           "hovertemplate": "<b>%{x}</b><br>Texas: %{y:.2f}%<br><extra></extra>",
           "legendgroup": "region1",
           "marker": {
            "color": "#FF6B35"
           },
           "name": "Texas",
           "showlegend": false,
           "type": "bar",
           "x": [
            "< $10K",
            "$10-20k",
            "$20-30k",
            "$30-40k",
            "$40-50k",
            "$50-60k",
            "$60-70k",
            "$70-80k",
            "$80-90k",
            "$90-100k",
            "$100-110k",
            "$110-120k",
            "$120-130k",
            "$130-140k",
            "$140-150k",
            "$150-160k",
            "$160-170k",
            "$170-180k",
            "$180-190k",
            "$190-200k",
            "$200k+"
           ],
           "xaxis": "x2",
           "y": {
            "bdata": "6iZBiFttJkDEE9joF+UrQLsCooti2y1AaFMkaMqMKUAOkx5gDt4jQDuf1F9cwSFATU5GwVBWGUD2emybp3oRQFftgROIlQxAndJivl8jA0BGLUQ/cHQFQNkoqBYnU/Q/8fAQsH1Z+D9XMndfN/PqP2clQ25CI+M/q+B7vb6+6D8V8vuPHd/hP2fTHx4g7tQ/xXSlkI3O1T9SfM7W4JzLP6fKt/S+MwRA",
            "dtype": "f8"
           },
           "yaxis": "y2"
          },
          {
           "hovertemplate": "<b>%{x}</b><br>U.S.: %{y:.2f}%<br><extra></extra>",
           "legendgroup": "region2",
           "marker": {
            "color": "#4A90B5"
           },
           "name": "United States",
           "showlegend": false,
           "type": "bar",
           "x": [
            "< $10K",
            "$10-20k",
            "$20-30k",
            "$30-40k",
            "$40-50k",
            "$50-60k",
            "$60-70k",
            "$70-80k",
            "$80-90k",
            "$90-100k",
            "$100-110k",
            "$110-120k",
            "$120-130k",
            "$130-140k",
            "$140-150k",
            "$150-160k",
            "$160-170k",
            "$170-180k",
            "$180-190k",
            "$190-200k",
            "$200k+"
           ],
           "xaxis": "x2",
           "y": {
            "bdata": "ESIJJp86J0AaGSqd/t0pQAxEKGgUECxApnGUqRb5KUBjkioi5eIkQEtSFZJWDyFAKIQWU02DGUAAULSJ9cgSQIR3hzNwwQ5AtnLg0uKrBEBVe6A4CB0GQASHUjzy8fU/lHf+7cQE+D+ppKYqjo/sP9Olfy6lPOQ/SSTucgnU6D9YmGN0D/fhPy4mk0s2LdY/v0U34DQ41z+3ey86GXXLP7LUP0TfRwRA",
            "dtype": "f8"
           },
           "yaxis": "y2"
          }
         ],
         "layout": {
          "title": {
           "text": "Income and Wage Distribution Comparison (2019)<br><sub>Comparing Austin/Texas with National Averages</sub>"
          }
         },
         "name": "2019"
        },
        {
         "data": [
          {
           "hovertemplate": "<b>%{x}</b><br>Austin: %{y:.2f}%<br><extra></extra>",
           "legendgroup": "region1",
           "marker": {
            "color": "#FF6B35"
           },
           "name": "Austin, TX",
           "showlegend": true,
           "type": "bar",
           "x": [
            "< $10,000",
            "$10,000-$14,999",
            "$15,000-$19,999",
            "$20,000-$24,999",
            "$25,000-$29,999",
            "$30,000-$34,999",
            "$35,000-$39,999",
            "$40,000-$44,999",
            "$45,000-$49,999",
            "$50,000-$59,999",
            "$60,000-$74,999",
            "$75,000-$99,999",
            "$100,000-$124,999",
            "$125,000-$149,999",
            "$150,000-$199,999",
            "$200,000+"
           ],
           "xaxis": "x",
           "y": {
            "bdata": "20/isFLUFkArus4SaWQGQP7DnQehTAVAegRI2jfyCUD4NIVJyZ8KQPV7PnJvfQ1AcilgwPuZDEA3s/Fj01AOQKylBV8uBQ5AD16ImICGHUDG8nonHiIjQEtQusRXailAakb1ip48JEC51e8X+jkfQMyapHNoICFAQqyPV/6fJkA=",
            "dtype": "f8"
           },
           "yaxis": "y"
          },
          {
           "hovertemplate": "<b>%{x}</b><br>U.S.: %{y:.2f}%<br><extra></extra>",
           "legendgroup": "region2",
           "marker": {
            "color": "#4A90B5"
           },
           "name": "United States",
           "showlegend": true,
           "type": "bar",
           "x": [
            "< $10,000",
            "$10,000-$14,999",
            "$15,000-$19,999",
            "$20,000-$24,999",
            "$25,000-$29,999",
            "$30,000-$34,999",
            "$35,000-$39,999",
            "$40,000-$44,999",
            "$45,000-$49,999",
            "$50,000-$59,999",
            "$60,000-$74,999",
            "$75,000-$99,999",
            "$100,000-$124,999",
            "$125,000-$149,999",
            "$150,000-$199,999",
            "$200,000+"
           ],
           "xaxis": "x",
           "y": {
            "bdata": "HLAdp2FcF0DJMl4iZGkQQB3pPtjdcRBAXzpQm1BsEUCYiDm/TPUQQA6c7vBzmBFAx5yWoD03EEDxsBZYD8QQQN3w6M2UFg5AcGR60hPTHUA5vtiGnXgjQFSqKTR5hSlAafDPDoi5IkAsJysxOBYZQPfli5o9ZxxAh3WqQPaDIEA=",
            "dtype": "f8"
           },
           "yaxis": "y"
          },
          {
           "hovertemplate": "<b>%{x}</b><br>Texas: %{y:.2f}%<br><extra></extra>",
           "legendgroup": "region1",
           "marker": {
            "color": "#FF6B35"
           },
           "name": "Texas",
           "showlegend": false,
           "type": "bar",
           "x": [
            "< $10K",
            "$10-20k",
            "$20-30k",
            "$30-40k",
            "$40-50k",
            "$50-60k",
            "$60-70k",
            "$70-80k",
            "$80-90k",
            "$90-100k",
            "$100-110k",
            "$110-120k",
            "$120-130k",
            "$130-140k",
            "$140-150k",
            "$150-160k",
            "$160-170k",
            "$170-180k",
            "$180-190k",
            "$190-200k",
            "$200k+"
           ],
           "xaxis": "x2",
           "y": {
            "bdata": "QTsZUuywJUDRFdzj9a0qQFF3fGKuTC1AHQXbn3ljKUC2zw7bxZAjQBmI497CcyJAm8QSkt8YGkCEPXMya/sRQN4WP1iNcQ1A+BKQCCbCBEDs2jW3FREGQCuGxDL0o/Q/RMeRTsUz9j9PkgHV4t3wP6C8jGDIieY/bVUYrVoh6D9sVDCse5jjPwx7PkFwaNg/gUhFzMT31D9nWVDjfnnQP9+TNj5pHQVA",
            "dtype": "f8"
           },
           "yaxis": "y2"
          },
          {
           "hovertemplate": "<b>%{x}</b><br>U.S.: %{y:.2f}%<br><extra></extra>",
           "legendgroup": "region2",
           "marker": {
            "color": "#4A90B5"
           },
           "name": "United States",
           "showlegend": false,
           "type": "bar",
           "x": [
            "< $10K",
            "$10-20k",
            "$20-30k",
            "$30-40k",
            "$40-50k",
            "$50-60k",
            "$60-70k",
            "$70-80k",
            "$80-90k",
            "$90-100k",
            "$100-110k",
            "$110-120k",
            "$120-130k",
            "$130-140k",
            "$140-150k",
            "$150-160k",
            "$160-170k",
            "$170-180k",
            "$180-190k",
            "$190-200k",
            "$200k+"
           ],
           "xaxis": "x2",
           "y": {
            "bdata": "Aa/L9VIlJkCSYOfsOZooQIGKY3zCiStAVsnvySrFKUCH1CU2vrokQIui55gKpSFAIAxz3ccwGkBHeZO+WzYTQLim052+yA9AvZcgKOF0BkBcmOEfYyEHQBxMeaGxF/Y/Qn7HjWeu9j/jQ3lHFN/xP5H3alpwuuc/g3Ra1r276D+2J6Amx43jP9y2k/2fWdk/MyiLT/k+1j+DJ5mgdAPRP5hG4DKUsgVA",
            "dtype": "f8"
           },
           "yaxis": "y2"
          }
         ],
         "layout": {
          "title": {
           "text": "Income and Wage Distribution Comparison (2020)<br><sub>Comparing Austin/Texas with National Averages</sub>"
          }
         },
         "name": "2020"
        },
        {
         "data": [
          {
           "hovertemplate": "<b>%{x}</b><br>Austin: %{y:.2f}%<br><extra></extra>",
           "legendgroup": "region1",
           "marker": {
            "color": "#FF6B35"
           },
           "name": "Austin, TX",
           "showlegend": true,
           "type": "bar",
           "x": [
            "< $10,000",
            "$10,000-$14,999",
            "$15,000-$19,999",
            "$20,000-$24,999",
            "$25,000-$29,999",
            "$30,000-$34,999",
            "$35,000-$39,999",
            "$40,000-$44,999",
            "$45,000-$49,999",
            "$50,000-$59,999",
            "$60,000-$74,999",
            "$75,000-$99,999",
            "$100,000-$124,999",
            "$125,000-$149,999",
            "$150,000-$199,999",
            "$200,000+"
           ],
           "xaxis": "x",
           "y": {
            "bdata": "zSagmYdGFkDm+e3DossFQEkoWFscxARAVLgjHDNGB0DVhA44HUsJQOXwSjLgJAxAEICsg+xnCkB8owaQiRwPQKgW9OoHtQlA0oSERhHhHUDbzOjmd5siQApXaAEiJylAJuiPpTS8I0Dziwgs4YAfQPcCgixsvSJAZbJr1qxPKUA=",
            "dtype": "f8"
           },
           "yaxis": "y"
          },
          {
           "hovertemplate": "<b>%{x}</b><br>U.S.: %{y:.2f}%<br><extra></extra>",
           "legendgroup": "region2",
           "marker": {
            "color": "#4A90B5"
           },
           "name": "United States",
           "showlegend": true,
           "type": "bar",
           "x": [
            "< $10,000",
            "$10,000-$14,999",
            "$15,000-$19,999",
            "$20,000-$24,999",
            "$25,000-$29,999",
            "$30,000-$34,999",
            "$35,000-$39,999",
            "$40,000-$44,999",
            "$45,000-$49,999",
            "$50,000-$59,999",
            "$60,000-$74,999",
            "$75,000-$99,999",
            "$100,000-$124,999",
            "$125,000-$149,999",
            "$150,000-$199,999",
            "$200,000+"
           ],
           "xaxis": "x",
           "y": {
            "bdata": "vo8g8OgLFkDZ6Huz4EYPQJ4BvI4kJQ5Afq7xwH7qD0AgjtfgMEUQQFDJPuOJcBBA9WJjGO31DkDtIdkNZQYQQNf8BxOfWgxAp2l1U9T4HEAZXfhC7SEjQFyliRrCoilALwOyt88yI0BIkh0vi+EaQKwdUut4RR9AnyosR8zqIkA=",
            "dtype": "f8"
           },
           "yaxis": "y"
          },
          {
           "hovertemplate": "<b>%{x}</b><br>Texas: %{y:.2f}%<br><extra></extra>",
           "legendgroup": "region1",
           "marker": {
            "color": "#FF6B35"
           },
           "name": "Texas",
           "showlegend": false,
           "type": "bar",
           "x": [
            "< $10K",
            "$10-20k",
            "$20-30k",
            "$30-40k",
            "$40-50k",
            "$50-60k",
            "$60-70k",
            "$70-80k",
            "$80-90k",
            "$90-100k",
            "$100-110k",
            "$110-120k",
            "$120-130k",
            "$130-140k",
            "$140-150k",
            "$150-160k",
            "$160-170k",
            "$170-180k",
            "$180-190k",
            "$190-200k",
            "$200k+"
           ],
           "xaxis": "x2",
           "y": {
            "bdata": "G6Naj+eJJED1T0+oFgkoQKVLg+IrEixA7+T+hoGqKED2tJWJv5wjQC/QTCDHiiJANgNfGpLTHEDwaEMlFC4TQMv2r+2UeBBAa8OAld7lA0DPJPlWeZwHQMzfGxVkPfk/NnJSvTw4+D8ErGuJKGX0P59lyHx/4Og/T/BX0j176D+HdTYGSpLoPwcgLmR6ptk/bfPgFn5H2j8Km6yKWhfRP0iGrKjXogdA",
            "dtype": "f8"
           },
           "yaxis": "y2"
          },
          {
           "hovertemplate": "<b>%{x}</b><br>U.S.: %{y:.2f}%<br><extra></extra>",
           "legendgroup": "region2",
           "marker": {
            "color": "#4A90B5"
           },
           "name": "United States",
           "showlegend": false,
           "type": "bar",
           "x": [
            "< $10K",
            "$10-20k",
            "$20-30k",
            "$30-40k",
            "$40-50k",
            "$50-60k",
            "$60-70k",
            "$70-80k",
            "$80-90k",
            "$90-100k",
            "$100-110k",
            "$110-120k",
            "$120-130k",
            "$130-140k",
            "$140-150k",
            "$150-160k",
            "$160-170k",
            "$170-180k",
            "$180-190k",
            "$190-200k",
            "$200k+"
           ],
           "xaxis": "x2",
           "y": {
            "bdata": "NgHLkA0mJUDPWT7kBWQmQBolnjLdNipA/AujwdnIKECtDOOtDKwkQOAG9hVjwyFAFN2PqfHgG0ATwFV1OmIUQBJBRSFDmhFAimhTmO0KBkAn7SPm+LcIQOdhsq8Tyvo/Yh5pOKAX+T/YhXtHOUb1P/OUmMke1+o/sAt7Fv+U6T/9LcLEnaHoP5hg1ld/Rdo/pXnGz3zc2j864k+LiTjSP0DgRRWc2ghA",
            "dtype": "f8"
           },
           "yaxis": "y2"
          }
         ],
         "layout": {
          "title": {
           "text": "Income and Wage Distribution Comparison (2021)<br><sub>Comparing Austin/Texas with National Averages</sub>"
          }
         },
         "name": "2021"
        },
        {
         "data": [
          {
           "hovertemplate": "<b>%{x}</b><br>Austin: %{y:.2f}%<br><extra></extra>",
           "legendgroup": "region1",
           "marker": {
            "color": "#FF6B35"
           },
           "name": "Austin, TX",
           "showlegend": true,
           "type": "bar",
           "x": [
            "< $10,000",
            "$10,000-$14,999",
            "$15,000-$19,999",
            "$20,000-$24,999",
            "$25,000-$29,999",
            "$30,000-$34,999",
            "$35,000-$39,999",
            "$40,000-$44,999",
            "$45,000-$49,999",
            "$50,000-$59,999",
            "$60,000-$74,999",
            "$75,000-$99,999",
            "$100,000-$124,999",
            "$125,000-$149,999",
            "$150,000-$199,999",
            "$200,000+"
           ],
           "xaxis": "x",
           "y": {
            "bdata": "jGkh67WoFED3KlKrLogGQC/e3Gr3VwJAr4Qw+LMLBUDytUtkCgYHQMaG7e1czAVAje5DbLU9B0ChflW1cg0JQHzQ6ptVugpAxpYBEm60HECqFWqBfeEhQE4hAK/XMilA0U7jNbI4I0Duk7tZcakeQFoYJp79tiRAlNWViMCHL0A=",
            "dtype": "f8"
           },
           "yaxis": "y"
          },
          {
           "hovertemplate": "<b>%{x}</b><br>U.S.: %{y:.2f}%<br><extra></extra>",
           "legendgroup": "region2",
           "marker": {
            "color": "#4A90B5"
           },
           "name": "United States",
           "showlegend": true,
           "type": "bar",
           "x": [
            "< $10,000",
            "$10,000-$14,999",
            "$15,000-$19,999",
            "$20,000-$24,999",
            "$25,000-$29,999",
            "$30,000-$34,999",
            "$35,000-$39,999",
            "$40,000-$44,999",
            "$45,000-$49,999",
            "$50,000-$59,999",
            "$60,000-$74,999",
            "$75,000-$99,999",
            "$100,000-$124,999",
            "$125,000-$149,999",
            "$150,000-$199,999",
            "$200,000+"
           ],
           "xaxis": "x",
           "y": {
            "bdata": "xH2FbdiyE0DzTtQblC4OQLEvIjA88gpA8140ztowDUAdrhYYn+kNQAPWND2eUQ1AQwg8DDOADEApCfQ4uWkMQOgw4zQuwAxAjY1RhXGtG0C6sTm7UFYiQBI5QH/0lSlASuBxZJzKI0As4uylfrUcQKRdDEPqnSFAV3dDF4/SJkA=",
            "dtype": "f8"
           },
           "yaxis": "y"
          },
          {
           "hovertemplate": "<b>%{x}</b><br>Texas: %{y:.2f}%<br><extra></extra>",
           "legendgroup": "region1",
           "marker": {
            "color": "#FF6B35"
           },
           "name": "Texas",
           "showlegend": false,
           "type": "bar",
           "x": [
            "< $10K",
            "$10-20k",
            "$20-30k",
            "$30-40k",
            "$40-50k",
            "$50-60k",
            "$60-70k",
            "$70-80k",
            "$80-90k",
            "$90-100k",
            "$100-110k",
            "$110-120k",
            "$120-130k",
            "$130-140k",
            "$140-150k",
            "$150-160k",
            "$160-170k",
            "$170-180k",
            "$180-190k",
            "$190-200k",
            "$200k+"
           ],
           "xaxis": "x2",
           "y": {
            "bdata": "NkP/uitTI0CsROJibHQlQNj9hbu6VypACMtMEow+J0DrGTwtLpsjQK13a3iZRiJADifIakKPHUC3AGfYOT4VQE/sYrsoSRFAEZzkK2o6CEClw3VYpioFQO5ZNwouYAVAp9b/oHc29T9qyuAWnxP4P4W2s9K1NvA/Ra1JIDpH7j+MLfB33T/lP+v7J1iDaeg/E78mYJcN3j/ubzmr8NXTP6fsCyzfFQxA",
            "dtype": "f8"
           },
           "yaxis": "y2"
          },
          {
           "hovertemplate": "<b>%{x}</b><br>U.S.: %{y:.2f}%<br><extra></extra>",
           "legendgroup": "region2",
           "marker": {
            "color": "#4A90B5"
           },
           "name": "United States",
           "showlegend": false,
           "type": "bar",
           "x": [
            "< $10K",
            "$10-20k",
            "$20-30k",
            "$30-40k",
            "$40-50k",
            "$50-60k",
            "$60-70k",
            "$70-80k",
            "$80-90k",
            "$90-100k",
            "$100-110k",
            "$110-120k",
            "$120-130k",
            "$130-140k",
            "$140-150k",
            "$150-160k",
            "$160-170k",
            "$170-180k",
            "$180-190k",
            "$190-200k",
            "$200k+"
           ],
           "xaxis": "x2",
           "y": {
            "bdata": "VwE1iMPMI0BNMU4saAskQDzT9yV+8ydAhxKz0LwqJ0DQ31Ak4Z4kQIv6dlZ6ZiJAjFpvZQn+G0CTZpj1AKgVQFA2AKRYMxJAFETeMLZLCkC0HyloNBoHQAxRyUdMmAZAIL3A2lpj9j/C9GEAofr4P18VTIK9TfE/oBIPb5zi7z9aCPwGPf3lP6UhkhWTIek/HqkpEtuS3j9VbIrfSMvUP/5acjn+3Q1A",
            "dtype": "f8"
           },
           "yaxis": "y2"
          }
         ],
         "layout": {
          "title": {
           "text": "Income and Wage Distribution Comparison (2022)<br><sub>Comparing Austin/Texas with National Averages</sub>"
          }
         },
         "name": "2022"
        },
        {
         "data": [
          {
           "hovertemplate": "<b>%{x}</b><br>Austin: %{y:.2f}%<br><extra></extra>",
           "legendgroup": "region1",
           "marker": {
            "color": "#FF6B35"
           },
           "name": "Austin, TX",
           "showlegend": true,
           "type": "bar",
           "x": [
            "< $10,000",
            "$10,000-$14,999",
            "$15,000-$19,999",
            "$20,000-$24,999",
            "$25,000-$29,999",
            "$30,000-$34,999",
            "$35,000-$39,999",
            "$40,000-$44,999",
            "$45,000-$49,999",
            "$50,000-$59,999",
            "$60,000-$74,999",
            "$75,000-$99,999",
            "$100,000-$124,999",
            "$125,000-$149,999",
            "$150,000-$199,999",
            "$200,000+"
           ],
           "xaxis": "x",
           "y": {
            "bdata": "sXEA9pHLFEC714WCf6QEQIieq4CiYAFAkKsfL3zIA0DIVtNh0UIEQG7h4JL0lQJAxb2ViqiNB0B746R0JM4IQF/HIiQvBwpALvrO3kR9GUAn4l0bJoohQCA3ok2tyChAr9jrQCnkI0B8jUEEfPgcQHECUzgEoSZADe9Pz35iMUA=",
            "dtype": "f8"
           },
           "yaxis": "y"
          },
          {
           "hovertemplate": "<b>%{x}</b><br>U.S.: %{y:.2f}%<br><extra></extra>",
           "legendgroup": "region2",
           "marker": {
            "color": "#4A90B5"
           },
           "name": "United States",
           "showlegend": true,
           "type": "bar",
           "x": [
            "< $10,000",
            "$10,000-$14,999",
            "$15,000-$19,999",
            "$20,000-$24,999",
            "$25,000-$29,999",
            "$30,000-$34,999",
            "$35,000-$39,999",
            "$40,000-$44,999",
            "$45,000-$49,999",
            "$50,000-$59,999",
            "$60,000-$74,999",
            "$75,000-$99,999",
            "$100,000-$124,999",
            "$125,000-$149,999",
            "$150,000-$199,999",
            "$200,000+"
           ],
           "xaxis": "x",
           "y": {
            "bdata": "Ab0yNNl/E0Bh0jVninAMQK5yExk+AQlA4ESqkS+GC0D1Al6mN3gLQHci307rSgtA2LKYAQnzC0ATtYfaJvYLQCQtF0V8mgtAWjT7db9qGkAcOXYdAkoiQAwhIptgaylAKp0Boq4eJEAO3IaUS2kdQNRJDZp4lCJA3UbkIdIdKUA=",
            "dtype": "f8"
           },
           "yaxis": "y"
          },
          {
           "hovertemplate": "<b>%{x}</b><br>Texas: %{y:.2f}%<br><extra></extra>",
           "legendgroup": "region1",
           "marker": {
            "color": "#FF6B35"
           },
           "name": "Texas",
           "showlegend": false,
           "type": "bar",
           "x": [
            "< $10K",
            "$10-20k",
            "$20-30k",
            "$30-40k",
            "$40-50k",
            "$50-60k",
            "$60-70k",
            "$70-80k",
            "$80-90k",
            "$90-100k",
            "$100-110k",
            "$110-120k",
            "$120-130k",
            "$130-140k",
            "$140-150k",
            "$150-160k",
            "$160-170k",
            "$170-180k",
            "$180-190k",
            "$190-200k",
            "$200k+"
           ],
           "xaxis": "x2",
           "y": {
            "bdata": "TEKfbI/HIkBufiBzSfEjQKLA1uA93CdAc9IXad0fJ0CIVEm6RQglQIkzeEw0nCBAF5oKcjJtHUCmrACOCMkXQKnhUwl/AhJAC6IQ5pWnDEDyRUVzEKkHQNaLm7dOHgJA22ylyo+F+T8wbwx/+Dn4P3m3O3nTFPM/Hu9XNwdS8D/mgax9HNDqP3RptL5j2+Y/05kO8MkI4z8R7XwATIDXP9iKQpKQCQ9A",
            "dtype": "f8"
           },
           "yaxis": "y2"
          },
          {
           "hovertemplate": "<b>%{x}</b><br>U.S.: %{y:.2f}%<br><extra></extra>",
           "legendgroup": "region2",
           "marker": {
            "color": "#4A90B5"
           },
           "name": "United States",
           "showlegend": false,
           "type": "bar",
           "x": [
            "< $10K",
            "$10-20k",
            "$20-30k",
            "$30-40k",
            "$40-50k",
            "$50-60k",
            "$60-70k",
            "$70-80k",
            "$80-90k",
            "$90-100k",
            "$100-110k",
            "$110-120k",
            "$120-130k",
            "$130-140k",
            "$140-150k",
            "$150-160k",
            "$160-170k",
            "$170-180k",
            "$180-190k",
            "$190-200k",
            "$200k+"
           ],
           "xaxis": "x2",
           "y": {
            "bdata": "RcFNrCEDI0BhcuTBCqwiQF9cNxjbYiVAtEc2TaHkJkASx5vAJ+8lQN+yZnmmFyFA8xLTXY/jG0ABcOPvrsQXQB6+vuORHxNA2AqSKF7KDkAPiSb7obYJQJ1QY5EucANAFVNB2glL+z8ecTeAGib5P1oZgGIuwPM/w5UQKLwF8T/MSYodBf7rPzqqJSryUeg/HYg0AQJf4z/lLpR1NhTYP5P5/w7EfxBA",
            "dtype": "f8"
           },
           "yaxis": "y2"
          }
         ],
         "layout": {
          "title": {
           "text": "Income and Wage Distribution Comparison (2023)<br><sub>Comparing Austin/Texas with National Averages</sub>"
          }
         },
         "name": "2023"
        }
       ],
       "layout": {
        "annotations": [
         {
          "font": {
           "size": 16
          },
          "showarrow": false,
          "text": "Household Income Distribution",
          "x": 0.22,
          "xanchor": "center",
          "xref": "paper",
          "y": 1,
          "yanchor": "bottom",
          "yref": "paper"
         },
         {
          "font": {
           "size": 16
          },
          "showarrow": false,
          "text": "Wage Distribution",
          "x": 0.78,
          "xanchor": "center",
          "xref": "paper",
          "y": 1,
          "yanchor": "bottom",
          "yref": "paper"
         },
         {
          "arrowcolor": "#FF6B35",
          "arrowhead": 2,
          "arrowsize": 1,
          "arrowwidth": 2,
          "ax": 80,
          "ay": -50,
          "bgcolor": "rgba(255, 255, 255, 0.95)",
          "bordercolor": "#FF6B35",
          "borderpad": 4,
          "borderwidth": 2,
          "font": {
           "color": "#333333",
           "size": 10
          },
          "showarrow": true,
          "text": "<b>Austin's higher $200k+ share<br>reflects wealth concentration</b>",
          "x": 15,
          "xref": "x",
          "y": 18.88474746419438,
          "yref": "y"
         },
         {
          "arrowcolor": "#FF6B35",
          "arrowhead": 2,
          "arrowsize": 1,
          "arrowwidth": 2,
          "ax": 60,
          "ay": -40,
          "bgcolor": "rgba(255, 255, 255, 0.95)",
          "bordercolor": "#FF6B35",
          "borderpad": 4,
          "borderwidth": 2,
          "font": {
           "color": "#333333",
           "size": 10
          },
          "showarrow": true,
          "text": "<b>Texas wages more concentrated<br>in lower brackets</b>",
          "x": 2,
          "xref": "x2",
          "y": 10.97126350185064,
          "yref": "y2"
         }
        ],
        "barmode": "group",
        "font": {
         "size": 11
        },
        "height": 650,
        "hovermode": "x unified",
        "legend": {
         "font": {
          "size": 12
         },
         "orientation": "h",
         "title": {
          "text": "Region"
         },
         "x": 0.5,
         "xanchor": "center",
         "y": -0.4,
         "yanchor": "bottom"
        },
        "paper_bgcolor": "white",
        "plot_bgcolor": "rgba(240, 240, 240, 0.5)",
        "showlegend": true,
        "sliders": [
         {
          "active": 9,
          "currentvalue": {
           "font": {
            "size": 16
           },
           "prefix": "Year: ",
           "visible": true,
           "xanchor": "center"
          },
          "len": 0.8,
          "pad": {
           "b": 10,
           "t": 10
          },
          "steps": [
           {
            "args": [
             [
              "2014"
             ],
             {
              "frame": {
               "duration": 300,
               "redraw": true
              },
              "mode": "immediate",
              "transition": {
               "duration": 300
              }
             }
            ],
            "label": "2014",
            "method": "animate"
           },
           {
            "args": [
             [
              "2015"
             ],
             {
              "frame": {
               "duration": 300,
               "redraw": true
              },
              "mode": "immediate",
              "transition": {
               "duration": 300
              }
             }
            ],
            "label": "2015",
            "method": "animate"
           },
           {
            "args": [
             [
              "2016"
             ],
             {
              "frame": {
               "duration": 300,
               "redraw": true
              },
              "mode": "immediate",
              "transition": {
               "duration": 300
              }
             }
            ],
            "label": "2016",
            "method": "animate"
           },
           {
            "args": [
             [
              "2017"
             ],
             {
              "frame": {
               "duration": 300,
               "redraw": true
              },
              "mode": "immediate",
              "transition": {
               "duration": 300
              }
             }
            ],
            "label": "2017",
            "method": "animate"
           },
           {
            "args": [
             [
              "2018"
             ],
             {
              "frame": {
               "duration": 300,
               "redraw": true
              },
              "mode": "immediate",
              "transition": {
               "duration": 300
              }
             }
            ],
            "label": "2018",
            "method": "animate"
           },
           {
            "args": [
             [
              "2019"
             ],
             {
              "frame": {
               "duration": 300,
               "redraw": true
              },
              "mode": "immediate",
              "transition": {
               "duration": 300
              }
             }
            ],
            "label": "2019",
            "method": "animate"
           },
           {
            "args": [
             [
              "2020"
             ],
             {
              "frame": {
               "duration": 300,
               "redraw": true
              },
              "mode": "immediate",
              "transition": {
               "duration": 300
              }
             }
            ],
            "label": "2020",
            "method": "animate"
           },
           {
            "args": [
             [
              "2021"
             ],
             {
              "frame": {
               "duration": 300,
               "redraw": true
              },
              "mode": "immediate",
              "transition": {
               "duration": 300
              }
             }
            ],
            "label": "2021",
            "method": "animate"
           },
           {
            "args": [
             [
              "2022"
             ],
             {
              "frame": {
               "duration": 300,
               "redraw": true
              },
              "mode": "immediate",
              "transition": {
               "duration": 300
              }
             }
            ],
            "label": "2022",
            "method": "animate"
           },
           {
            "args": [
             [
              "2023"
             ],
             {
              "frame": {
               "duration": 300,
               "redraw": true
              },
              "mode": "immediate",
              "transition": {
               "duration": 300
              }
             }
            ],
            "label": "2023",
            "method": "animate"
           }
          ],
          "transition": {
           "duration": 300
          },
          "x": 0.1,
          "xanchor": "left",
          "y": -0.3,
          "yanchor": "top"
         }
        ],
        "template": {
         "data": {
          "bar": [
           {
            "error_x": {
             "color": "#2a3f5f"
            },
            "error_y": {
             "color": "#2a3f5f"
            },
            "marker": {
             "line": {
              "color": "#E5ECF6",
              "width": 0.5
             },
             "pattern": {
              "fillmode": "overlay",
              "size": 10,
              "solidity": 0.2
             }
            },
            "type": "bar"
           }
          ],
          "barpolar": [
           {
            "marker": {
             "line": {
              "color": "#E5ECF6",
              "width": 0.5
             },
             "pattern": {
              "fillmode": "overlay",
              "size": 10,
              "solidity": 0.2
             }
            },
            "type": "barpolar"
           }
          ],
          "carpet": [
           {
            "aaxis": {
             "endlinecolor": "#2a3f5f",
             "gridcolor": "white",
             "linecolor": "white",
             "minorgridcolor": "white",
             "startlinecolor": "#2a3f5f"
            },
            "baxis": {
             "endlinecolor": "#2a3f5f",
             "gridcolor": "white",
             "linecolor": "white",
             "minorgridcolor": "white",
             "startlinecolor": "#2a3f5f"
            },
            "type": "carpet"
           }
          ],
          "choropleth": [
           {
            "colorbar": {
             "outlinewidth": 0,
             "ticks": ""
            },
            "type": "choropleth"
           }
          ],
          "contour": [
           {
            "colorbar": {
             "outlinewidth": 0,
             "ticks": ""
            },
            "colorscale": [
             [
              0,
              "#0d0887"
             ],
             [
              0.1111111111111111,
              "#46039f"
             ],
             [
              0.2222222222222222,
              "#7201a8"
             ],
             [
              0.3333333333333333,
              "#9c179e"
             ],
             [
              0.4444444444444444,
              "#bd3786"
             ],
             [
              0.5555555555555556,
              "#d8576b"
             ],
             [
              0.6666666666666666,
              "#ed7953"
             ],
             [
              0.7777777777777778,
              "#fb9f3a"
             ],
             [
              0.8888888888888888,
              "#fdca26"
             ],
             [
              1,
              "#f0f921"
             ]
            ],
            "type": "contour"
           }
          ],
          "contourcarpet": [
           {
            "colorbar": {
             "outlinewidth": 0,
             "ticks": ""
            },
            "type": "contourcarpet"
           }
          ],
          "heatmap": [
           {
            "colorbar": {
             "outlinewidth": 0,
             "ticks": ""
            },
            "colorscale": [
             [
              0,
              "#0d0887"
             ],
             [
              0.1111111111111111,
              "#46039f"
             ],
             [
              0.2222222222222222,
              "#7201a8"
             ],
             [
              0.3333333333333333,
              "#9c179e"
             ],
             [
              0.4444444444444444,
              "#bd3786"
             ],
             [
              0.5555555555555556,
              "#d8576b"
             ],
             [
              0.6666666666666666,
              "#ed7953"
             ],
             [
              0.7777777777777778,
              "#fb9f3a"
             ],
             [
              0.8888888888888888,
              "#fdca26"
             ],
             [
              1,
              "#f0f921"
             ]
            ],
            "type": "heatmap"
           }
          ],
          "histogram": [
           {
            "marker": {
             "pattern": {
              "fillmode": "overlay",
              "size": 10,
              "solidity": 0.2
             }
            },
            "type": "histogram"
           }
          ],
          "histogram2d": [
           {
            "colorbar": {
             "outlinewidth": 0,
             "ticks": ""
            },
            "colorscale": [
             [
              0,
              "#0d0887"
             ],
             [
              0.1111111111111111,
              "#46039f"
             ],
             [
              0.2222222222222222,
              "#7201a8"
             ],
             [
              0.3333333333333333,
              "#9c179e"
             ],
             [
              0.4444444444444444,
              "#bd3786"
             ],
             [
              0.5555555555555556,
              "#d8576b"
             ],
             [
              0.6666666666666666,
              "#ed7953"
             ],
             [
              0.7777777777777778,
              "#fb9f3a"
             ],
             [
              0.8888888888888888,
              "#fdca26"
             ],
             [
              1,
              "#f0f921"
             ]
            ],
            "type": "histogram2d"
           }
          ],
          "histogram2dcontour": [
           {
            "colorbar": {
             "outlinewidth": 0,
             "ticks": ""
            },
            "colorscale": [
             [
              0,
              "#0d0887"
             ],
             [
              0.1111111111111111,
              "#46039f"
             ],
             [
              0.2222222222222222,
              "#7201a8"
             ],
             [
              0.3333333333333333,
              "#9c179e"
             ],
             [
              0.4444444444444444,
              "#bd3786"
             ],
             [
              0.5555555555555556,
              "#d8576b"
             ],
             [
              0.6666666666666666,
              "#ed7953"
             ],
             [
              0.7777777777777778,
              "#fb9f3a"
             ],
             [
              0.8888888888888888,
              "#fdca26"
             ],
             [
              1,
              "#f0f921"
             ]
            ],
            "type": "histogram2dcontour"
           }
          ],
          "mesh3d": [
           {
            "colorbar": {
             "outlinewidth": 0,
             "ticks": ""
            },
            "type": "mesh3d"
           }
          ],
          "parcoords": [
           {
            "line": {
             "colorbar": {
              "outlinewidth": 0,
              "ticks": ""
             }
            },
            "type": "parcoords"
           }
          ],
          "pie": [
           {
            "automargin": true,
            "type": "pie"
           }
          ],
          "scatter": [
           {
            "fillpattern": {
             "fillmode": "overlay",
             "size": 10,
             "solidity": 0.2
            },
            "type": "scatter"
           }
          ],
          "scatter3d": [
           {
            "line": {
             "colorbar": {
              "outlinewidth": 0,
              "ticks": ""
             }
            },
            "marker": {
             "colorbar": {
              "outlinewidth": 0,
              "ticks": ""
             }
            },
            "type": "scatter3d"
           }
          ],
          "scattercarpet": [
           {
            "marker": {
             "colorbar": {
              "outlinewidth": 0,
              "ticks": ""
             }
            },
            "type": "scattercarpet"
           }
          ],
          "scattergeo": [
           {
            "marker": {
             "colorbar": {
              "outlinewidth": 0,
              "ticks": ""
             }
            },
            "type": "scattergeo"
           }
          ],
          "scattergl": [
           {
            "marker": {
             "colorbar": {
              "outlinewidth": 0,
              "ticks": ""
             }
            },
            "type": "scattergl"
           }
          ],
          "scattermap": [
           {
            "marker": {
             "colorbar": {
              "outlinewidth": 0,
              "ticks": ""
             }
            },
            "type": "scattermap"
           }
          ],
          "scattermapbox": [
           {
            "marker": {
             "colorbar": {
              "outlinewidth": 0,
              "ticks": ""
             }
            },
            "type": "scattermapbox"
           }
          ],
          "scatterpolar": [
           {
            "marker": {
             "colorbar": {
              "outlinewidth": 0,
              "ticks": ""
             }
            },
            "type": "scatterpolar"
           }
          ],
          "scatterpolargl": [
           {
            "marker": {
             "colorbar": {
              "outlinewidth": 0,
              "ticks": ""
             }
            },
            "type": "scatterpolargl"
           }
          ],
          "scatterternary": [
           {
            "marker": {
             "colorbar": {
              "outlinewidth": 0,
              "ticks": ""
             }
            },
            "type": "scatterternary"
           }
          ],
          "surface": [
           {
            "colorbar": {
             "outlinewidth": 0,
             "ticks": ""
            },
            "colorscale": [
             [
              0,
              "#0d0887"
             ],
             [
              0.1111111111111111,
              "#46039f"
             ],
             [
              0.2222222222222222,
              "#7201a8"
             ],
             [
              0.3333333333333333,
              "#9c179e"
             ],
             [
              0.4444444444444444,
              "#bd3786"
             ],
             [
              0.5555555555555556,
              "#d8576b"
             ],
             [
              0.6666666666666666,
              "#ed7953"
             ],
             [
              0.7777777777777778,
              "#fb9f3a"
             ],
             [
              0.8888888888888888,
              "#fdca26"
             ],
             [
              1,
              "#f0f921"
             ]
            ],
            "type": "surface"
           }
          ],
          "table": [
           {
            "cells": {
             "fill": {
              "color": "#EBF0F8"
             },
             "line": {
              "color": "white"
             }
            },
            "header": {
             "fill": {
              "color": "#C8D4E3"
             },
             "line": {
              "color": "white"
             }
            },
            "type": "table"
           }
          ]
         },
         "layout": {
          "annotationdefaults": {
           "arrowcolor": "#2a3f5f",
           "arrowhead": 0,
           "arrowwidth": 1
          },
          "autotypenumbers": "strict",
          "coloraxis": {
           "colorbar": {
            "outlinewidth": 0,
            "ticks": ""
           }
          },
          "colorscale": {
           "diverging": [
            [
             0,
             "#8e0152"
            ],
            [
             0.1,
             "#c51b7d"
            ],
            [
             0.2,
             "#de77ae"
            ],
            [
             0.3,
             "#f1b6da"
            ],
            [
             0.4,
             "#fde0ef"
            ],
            [
             0.5,
             "#f7f7f7"
            ],
            [
             0.6,
             "#e6f5d0"
            ],
            [
             0.7,
             "#b8e186"
            ],
            [
             0.8,
             "#7fbc41"
            ],
            [
             0.9,
             "#4d9221"
            ],
            [
             1,
             "#276419"
            ]
           ],
           "sequential": [
            [
             0,
             "#0d0887"
            ],
            [
             0.1111111111111111,
             "#46039f"
            ],
            [
             0.2222222222222222,
             "#7201a8"
            ],
            [
             0.3333333333333333,
             "#9c179e"
            ],
            [
             0.4444444444444444,
             "#bd3786"
            ],
            [
             0.5555555555555556,
             "#d8576b"
            ],
            [
             0.6666666666666666,
             "#ed7953"
            ],
            [
             0.7777777777777778,
             "#fb9f3a"
            ],
            [
             0.8888888888888888,
             "#fdca26"
            ],
            [
             1,
             "#f0f921"
            ]
           ],
           "sequentialminus": [
            [
             0,
             "#0d0887"
            ],
            [
             0.1111111111111111,
             "#46039f"
            ],
            [
             0.2222222222222222,
             "#7201a8"
            ],
            [
             0.3333333333333333,
             "#9c179e"
            ],
            [
             0.4444444444444444,
             "#bd3786"
            ],
            [
             0.5555555555555556,
             "#d8576b"
            ],
            [
             0.6666666666666666,
             "#ed7953"
            ],
            [
             0.7777777777777778,
             "#fb9f3a"
            ],
            [
             0.8888888888888888,
             "#fdca26"
            ],
            [
             1,
             "#f0f921"
            ]
           ]
          },
          "colorway": [
           "#636efa",
           "#EF553B",
           "#00cc96",
           "#ab63fa",
           "#FFA15A",
           "#19d3f3",
           "#FF6692",
           "#B6E880",
           "#FF97FF",
           "#FECB52"
          ],
          "font": {
           "color": "#2a3f5f"
          },
          "geo": {
           "bgcolor": "white",
           "lakecolor": "white",
           "landcolor": "#E5ECF6",
           "showlakes": true,
           "showland": true,
           "subunitcolor": "white"
          },
          "hoverlabel": {
           "align": "left"
          },
          "hovermode": "closest",
          "mapbox": {
           "style": "light"
          },
          "paper_bgcolor": "white",
          "plot_bgcolor": "#E5ECF6",
          "polar": {
           "angularaxis": {
            "gridcolor": "white",
            "linecolor": "white",
            "ticks": ""
           },
           "bgcolor": "#E5ECF6",
           "radialaxis": {
            "gridcolor": "white",
            "linecolor": "white",
            "ticks": ""
           }
          },
          "scene": {
           "xaxis": {
            "backgroundcolor": "#E5ECF6",
            "gridcolor": "white",
            "gridwidth": 2,
            "linecolor": "white",
            "showbackground": true,
            "ticks": "",
            "zerolinecolor": "white"
           },
           "yaxis": {
            "backgroundcolor": "#E5ECF6",
            "gridcolor": "white",
            "gridwidth": 2,
            "linecolor": "white",
            "showbackground": true,
            "ticks": "",
            "zerolinecolor": "white"
           },
           "zaxis": {
            "backgroundcolor": "#E5ECF6",
            "gridcolor": "white",
            "gridwidth": 2,
            "linecolor": "white",
            "showbackground": true,
            "ticks": "",
            "zerolinecolor": "white"
           }
          },
          "shapedefaults": {
           "line": {
            "color": "#2a3f5f"
           }
          },
          "ternary": {
           "aaxis": {
            "gridcolor": "white",
            "linecolor": "white",
            "ticks": ""
           },
           "baxis": {
            "gridcolor": "white",
            "linecolor": "white",
            "ticks": ""
           },
           "bgcolor": "#E5ECF6",
           "caxis": {
            "gridcolor": "white",
            "linecolor": "white",
            "ticks": ""
           }
          },
          "title": {
           "x": 0.05
          },
          "xaxis": {
           "automargin": true,
           "gridcolor": "white",
           "linecolor": "white",
           "ticks": "",
           "title": {
            "standoff": 15
           },
           "zerolinecolor": "white",
           "zerolinewidth": 2
          },
          "yaxis": {
           "automargin": true,
           "gridcolor": "white",
           "linecolor": "white",
           "ticks": "",
           "title": {
            "standoff": 15
           },
           "zerolinecolor": "white",
           "zerolinewidth": 2
          }
         }
        },
        "title": {
         "font": {
          "size": 20
         },
         "text": "Income and Wage Distribution Comparison (2014)<br><sub>Comparing Austin/Texas with National Averages</sub>",
         "x": 0.5,
         "xanchor": "center"
        },
        "updatemenus": [
         {
          "buttons": [
           {
            "args": [
             null,
             {
              "frame": {
               "duration": 500,
               "redraw": true
              },
              "fromcurrent": true,
              "mode": "immediate",
              "transition": {
               "duration": 300
              }
             }
            ],
            "label": "Play",
            "method": "animate"
           },
           {
            "args": [
             [
              null
             ],
             {
              "frame": {
               "duration": 0,
               "redraw": false
              },
              "mode": "immediate",
              "transition": {
               "duration": 0
              }
             }
            ],
            "label": "Pause",
            "method": "animate"
           }
          ],
          "direction": "left",
          "pad": {
           "r": 10,
           "t": 10
          },
          "type": "buttons",
          "x": 0.1,
          "xanchor": "left",
          "y": -0.25,
          "yanchor": "top"
         }
        ],
        "width": 1600,
        "xaxis": {
         "anchor": "y",
         "domain": [
          0,
          0.44
         ],
         "tickangle": -45,
         "title": {
          "text": "Income Bracket"
         }
        },
        "xaxis2": {
         "anchor": "y2",
         "domain": [
          0.56,
          1
         ],
         "tickangle": -45,
         "title": {
          "text": "Wage Bracket"
         }
        },
        "yaxis": {
         "anchor": "x",
         "domain": [
          0,
          1
         ],
         "range": [
          0,
          18
         ],
         "title": {
          "text": "Share of Households (%)"
         }
        },
        "yaxis2": {
         "anchor": "x2",
         "domain": [
          0,
          1
         ],
         "range": [
          0,
          18
         ],
         "title": {
          "text": "Share of Workers (%)"
         }
        }
       }
      }
     },
     "metadata": {},
     "output_type": "display_data"
    }
   ],
   "source": [
    "# Create an interactive version with year slider\n",
    "def create_interactive_comparison_with_slider():\n",
    "    \"\"\"\n",
    "    Create an interactive visualization with a year slider that updates both panels\n",
    "    \"\"\"\n",
    "    \n",
    "    # Get all available years (common to both datasets)\n",
    "    years = sorted(list(set(income_austin['Year'].unique()) & set(wage_texas['Year'].unique())))\n",
    "    \n",
    "    # Create initial figure for first year\n",
    "    initial_year = years[0]\n",
    "    \n",
    "    # Initialize the figure structure\n",
    "    fig = make_subplots(\n",
    "        rows=1, cols=2,\n",
    "        subplot_titles=('Household Income Distribution', 'Wage Distribution'),\n",
    "        horizontal_spacing=0.12\n",
    "    )\n",
    "    \n",
    "    # Define colors\n",
    "    color_austin_texas = '#FF6B35'  # Warm orange\n",
    "    color_us = '#4A90B5'  # Cool gray-blue\n",
    "    \n",
    "    # Create frames for animation/slider\n",
    "    frames = []\n",
    "    \n",
    "    for year in years:\n",
    "        # Filter data for this year\n",
    "        income_austin_year = income_austin[income_austin['Year'] == year].sort_values('Household Income Bucket ID')\n",
    "        income_us_year = income_us[income_us['Year'] == year].sort_values('Household Income Bucket ID')\n",
    "        wage_texas_year = wage_texas[wage_texas['Year'] == year].sort_values('Wage Bin ID')\n",
    "        wage_us_year = wage_us[wage_us['Year'] == year].sort_values('Wage Bin ID')\n",
    "        \n",
    "        frame_data = [\n",
    "            # Income - Austin\n",
    "            go.Bar(\n",
    "                x=income_austin_year['Household Income Bucket'],\n",
    "                y=income_austin_year['share'] * 100,\n",
    "                name='Austin, TX',\n",
    "                marker_color=color_austin_texas,\n",
    "                hovertemplate='<b>%{x}</b><br>Austin: %{y:.2f}%<br><extra></extra>',\n",
    "                legendgroup='region1',\n",
    "                showlegend=True,\n",
    "                xaxis='x',\n",
    "                yaxis='y'\n",
    "            ),\n",
    "            # Income - US\n",
    "            go.Bar(\n",
    "                x=income_us_year['Household Income Bucket'],\n",
    "                y=income_us_year['share'] * 100,\n",
    "                name='United States',\n",
    "                marker_color=color_us,\n",
    "                hovertemplate='<b>%{x}</b><br>U.S.: %{y:.2f}%<br><extra></extra>',\n",
    "                legendgroup='region2',\n",
    "                showlegend=True,\n",
    "                xaxis='x',\n",
    "                yaxis='y'\n",
    "            ),\n",
    "            # Wage - Texas\n",
    "            go.Bar(\n",
    "                x=wage_texas_year['Wage Bin'],\n",
    "                y=wage_texas_year['share'] * 100,\n",
    "                name='Texas',\n",
    "                marker_color=color_austin_texas,\n",
    "                hovertemplate='<b>%{x}</b><br>Texas: %{y:.2f}%<br><extra></extra>',\n",
    "                legendgroup='region1',\n",
    "                showlegend=False,\n",
    "                xaxis='x2',\n",
    "                yaxis='y2'\n",
    "            ),\n",
    "            # Wage - US\n",
    "            go.Bar(\n",
    "                x=wage_us_year['Wage Bin'],\n",
    "                y=wage_us_year['share'] * 100,\n",
    "                name='United States',\n",
    "                marker_color=color_us,\n",
    "                hovertemplate='<b>%{x}</b><br>U.S.: %{y:.2f}%<br><extra></extra>',\n",
    "                legendgroup='region2',\n",
    "                showlegend=False,\n",
    "                xaxis='x2',\n",
    "                yaxis='y2'\n",
    "            )\n",
    "        ]\n",
    "        \n",
    "        frames.append(go.Frame(\n",
    "            data=frame_data,\n",
    "            name=str(year),\n",
    "            layout=go.Layout(\n",
    "                title_text=f'Income and Wage Distribution Comparison ({year})<br>' +\n",
    "                          '<sub>Comparing Austin/Texas with National Averages</sub>'\n",
    "            )\n",
    "        ))\n",
    "    \n",
    "    # Add initial data (first year)\n",
    "    income_austin_init = income_austin[income_austin['Year'] == initial_year].sort_values('Household Income Bucket ID')\n",
    "    income_us_init = income_us[income_us['Year'] == initial_year].sort_values('Household Income Bucket ID')\n",
    "    wage_texas_init = wage_texas[wage_texas['Year'] == initial_year].sort_values('Wage Bin ID')\n",
    "    wage_us_init = wage_us[wage_us['Year'] == initial_year].sort_values('Wage Bin ID')\n",
    "    \n",
    "    fig.add_trace(\n",
    "        go.Bar(\n",
    "            x=income_austin_init['Household Income Bucket'],\n",
    "            y=income_austin_init['share'] * 100,\n",
    "            name='Austin, TX',\n",
    "            marker_color=color_austin_texas,\n",
    "            hovertemplate='<b>%{x}</b><br>Austin: %{y:.2f}%<br><extra></extra>',\n",
    "            legendgroup='region1'\n",
    "        ),\n",
    "        row=1, col=1\n",
    "    )\n",
    "    \n",
    "    fig.add_trace(\n",
    "        go.Bar(\n",
    "            x=income_us_init['Household Income Bucket'],\n",
    "            y=income_us_init['share'] * 100,\n",
    "            name='United States',\n",
    "            marker_color=color_us,\n",
    "            hovertemplate='<b>%{x}</b><br>U.S.: %{y:.2f}%<br><extra></extra>',\n",
    "            legendgroup='region2'\n",
    "        ),\n",
    "        row=1, col=1\n",
    "    )\n",
    "    \n",
    "    fig.add_trace(\n",
    "        go.Bar(\n",
    "            x=wage_texas_init['Wage Bin'],\n",
    "            y=wage_texas_init['share'] * 100,\n",
    "            name='Texas',\n",
    "            marker_color=color_austin_texas,\n",
    "            hovertemplate='<b>%{x}</b><br>Texas: %{y:.2f}%<br><extra></extra>',\n",
    "            legendgroup='region1',\n",
    "            showlegend=False\n",
    "        ),\n",
    "        row=1, col=2\n",
    "    )\n",
    "    \n",
    "    fig.add_trace(\n",
    "        go.Bar(\n",
    "            x=wage_us_init['Wage Bin'],\n",
    "            y=wage_us_init['share'] * 100,\n",
    "            name='United States',\n",
    "            marker_color=color_us,\n",
    "            hovertemplate='<b>%{x}</b><br>U.S.: %{y:.2f}%<br><extra></extra>',\n",
    "            legendgroup='region2',\n",
    "            showlegend=False\n",
    "        ),\n",
    "        row=1, col=2\n",
    "    )\n",
    "    \n",
    "    # Add frames to figure\n",
    "    fig.frames = frames\n",
    "    \n",
    "    # Update x-axes\n",
    "    fig.update_xaxes(title_text=\"Income Bracket\", row=1, col=1, tickangle=-45)\n",
    "    fig.update_xaxes(title_text=\"Wage Bracket\", row=1, col=2, tickangle=-45)\n",
    "    \n",
    "    # Update y-axes\n",
    "    fig.update_yaxes(title_text=\"Share of Households (%)\", row=1, col=1, range=[0, 18])\n",
    "    fig.update_yaxes(title_text=\"Share of Workers (%)\", row=1, col=2, range=[0, 18])\n",
    "    \n",
    "    # Create slider steps\n",
    "    sliders = [dict(\n",
    "        active=len(years) - 1,  # Start at most recent year\n",
    "        yanchor=\"top\",\n",
    "        y=-0.3,\n",
    "        xanchor=\"left\",\n",
    "        x=0.1,\n",
    "        currentvalue=dict(\n",
    "            prefix=\"Year: \",\n",
    "            visible=True,\n",
    "            xanchor=\"center\",\n",
    "            font=dict(size=16)\n",
    "        ),\n",
    "        pad=dict(b=10, t=10),\n",
    "        len=0.8,\n",
    "        transition=dict(duration=300),\n",
    "        steps=[\n",
    "            dict(\n",
    "                args=[\n",
    "                    [str(year)],\n",
    "                    dict(\n",
    "                        frame=dict(duration=300, redraw=True),\n",
    "                        mode=\"immediate\",\n",
    "                        transition=dict(duration=300)\n",
    "                    )\n",
    "                ],\n",
    "                method=\"animate\",\n",
    "                label=str(year)\n",
    "            )\n",
    "            for year in years\n",
    "        ]\n",
    "    )]\n",
    "    \n",
    "    # Update layout\n",
    "    fig.update_layout(\n",
    "        title={\n",
    "            'text': f'Income and Wage Distribution Comparison ({initial_year})<br>' +\n",
    "                   '<sub>Comparing Austin/Texas with National Averages</sub>',\n",
    "            'x': 0.5,\n",
    "            'xanchor': 'center',\n",
    "            'font': {'size': 20}\n",
    "        },\n",
    "        barmode='group',\n",
    "        height=650,\n",
    "        width=1600,\n",
    "        showlegend=True,\n",
    "        legend=dict(\n",
    "            title=dict(text='Region'),\n",
    "            orientation='h',\n",
    "            yanchor='bottom',\n",
    "            y=-0.4,\n",
    "            xanchor='center',\n",
    "            x=0.5,\n",
    "            font=dict(size=12)\n",
    "        ),\n",
    "        sliders=sliders,\n",
    "        font=dict(size=11),\n",
    "        hovermode='x unified',\n",
    "        paper_bgcolor='white',\n",
    "        plot_bgcolor='rgba(240, 240, 240, 0.5)',\n",
    "        updatemenus=[\n",
    "            dict(\n",
    "                type=\"buttons\",\n",
    "                direction=\"left\",\n",
    "                x=0.1,\n",
    "                y=-0.25,\n",
    "                xanchor=\"left\",\n",
    "                yanchor=\"top\",\n",
    "                pad=dict(r=10, t=10),\n",
    "                buttons=[\n",
    "                    dict(\n",
    "                        label=\"Play\",\n",
    "                        method=\"animate\",\n",
    "                        args=[None, dict(\n",
    "                            frame=dict(duration=500, redraw=True),\n",
    "                            fromcurrent=True,\n",
    "                            mode=\"immediate\",\n",
    "                            transition=dict(duration=300)\n",
    "                        )]\n",
    "                    ),\n",
    "                    dict(\n",
    "                        label=\"Pause\",\n",
    "                        method=\"animate\",\n",
    "                        args=[[None], dict(\n",
    "                            frame=dict(duration=0, redraw=False),\n",
    "                            mode=\"immediate\",\n",
    "                            transition=dict(duration=0)\n",
    "                        )]\n",
    "                    )\n",
    "                ]\n",
    "            )\n",
    "        ]\n",
    "    )\n",
    "    \n",
    "    # Add annotations for key insights (will be visible for initial year)\n",
    "    # These annotations highlight the key story\n",
    "    last_year_data = years[-1]\n",
    "    income_austin_last = income_austin[income_austin['Year'] == last_year_data].sort_values('Household Income Bucket ID')\n",
    "    wage_texas_last = wage_texas[wage_texas['Year'] == last_year_data].sort_values('Wage Bin ID')\n",
    "    \n",
    "    fig.add_annotation(\n",
    "        text=\"<b>Austin's higher $200k+ share<br>reflects wealth concentration</b>\",\n",
    "        xref=\"x\", yref=\"y\",\n",
    "        x=15, y=income_austin_last[income_austin_last['Household Income Bucket ID'] == 15]['share'].values[0] * 100 + 1.5,\n",
    "        showarrow=True,\n",
    "        arrowhead=2,\n",
    "        arrowsize=1,\n",
    "        arrowwidth=2,\n",
    "        arrowcolor=\"#FF6B35\",\n",
    "        ax=80,\n",
    "        ay=-50,\n",
    "        bordercolor=\"#FF6B35\",\n",
    "        borderwidth=2,\n",
    "        borderpad=4,\n",
    "        bgcolor=\"rgba(255, 255, 255, 0.95)\",\n",
    "        font=dict(size=10, color=\"#333333\"),\n",
    "        row=1, col=1\n",
    "    )\n",
    "    \n",
    "    fig.add_annotation(\n",
    "        text=\"<b>Texas wages more concentrated<br>in lower brackets</b>\",\n",
    "        xref=\"x2\", yref=\"y2\",\n",
    "        x=2, y=wage_texas_last[wage_texas_last['Wage Bin ID'] == 2]['share'].values[0] * 100 + 1,\n",
    "        showarrow=True,\n",
    "        arrowhead=2,\n",
    "        arrowsize=1,\n",
    "        arrowwidth=2,\n",
    "        arrowcolor=\"#FF6B35\",\n",
    "        ax=60,\n",
    "        ay=-40,\n",
    "        bordercolor=\"#FF6B35\",\n",
    "        borderwidth=2,\n",
    "        borderpad=4,\n",
    "        bgcolor=\"rgba(255, 255, 255, 0.95)\",\n",
    "        font=dict(size=10, color=\"#333333\"),\n",
    "        row=1, col=2\n",
    "    )\n",
    "    \n",
    "    return fig\n",
    "\n",
    "# Create the interactive visualization with slider\n",
    "fig_interactive = create_interactive_comparison_with_slider()\n",
    "fig_interactive.show()"
   ]
  }
 ],
 "metadata": {
  "kernelspec": {
   "display_name": ".venv",
   "language": "python",
   "name": "python3"
  },
  "language_info": {
   "codemirror_mode": {
    "name": "ipython",
    "version": 3
   },
   "file_extension": ".py",
   "mimetype": "text/x-python",
   "name": "python",
   "nbconvert_exporter": "python",
   "pygments_lexer": "ipython3",
   "version": "3.12.3"
  }
 },
 "nbformat": 4,
 "nbformat_minor": 5
}

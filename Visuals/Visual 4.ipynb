{
 "cells": [
  {
   "cell_type": "markdown",
   "id": "b8d2c78f",
   "metadata": {},
   "source": [
    "# Visual 4: Geographic Distribution of Median Housing Prices"
   ]
  },
  {
   "cell_type": "code",
   "execution_count": 3,
   "id": "import_cell",
   "metadata": {},
   "outputs": [],
   "source": [
    "# Import required libraries\n",
    "import pandas as pd\n",
    "import numpy as np\n",
    "import plotly.express as px\n",
    "import plotly.graph_objects as go\n",
    "from plotly.subplots import make_subplots\n",
    "import warnings\n",
    "warnings.filterwarnings('ignore')"
   ]
  },
  {
   "cell_type": "code",
   "execution_count": 4,
   "id": "load_data_cell",
   "metadata": {},
   "outputs": [
    {
     "name": "stdout",
     "output_type": "stream",
     "text": [
      "Loaded data.csv with 15171 records\n",
      "\n",
      "Columns available: ['zpid', 'city', 'streetAddress', 'zipcode', 'description', 'latitude', 'longitude', 'propertyTaxRate', 'garageSpaces', 'hasAssociation', 'hasCooling', 'hasGarage', 'hasHeating', 'hasSpa', 'hasView', 'homeType', 'parkingSpaces', 'yearBuilt', 'latestPrice', 'numPriceChanges', 'latest_saledate', 'latest_salemonth', 'latest_saleyear', 'latestPriceSource', 'numOfPhotos', 'numOfAccessibilityFeatures', 'numOfAppliances', 'numOfParkingFeatures', 'numOfPatioAndPorchFeatures', 'numOfSecurityFeatures', 'numOfWaterfrontFeatures', 'numOfWindowFeatures', 'numOfCommunityFeatures', 'lotSizeSqFt', 'livingAreaSqFt', 'numOfPrimarySchools', 'numOfElementarySchools', 'numOfMiddleSchools', 'numOfHighSchools', 'avgSchoolDistance', 'avgSchoolRating', 'avgSchoolSize', 'MedianStudentsPerTeacher', 'numOfBathrooms', 'numOfBedrooms', 'numOfStories', 'homeImage']\n",
      "Year range: 2018 - 2021\n",
      "Number of ZIP codes: 48\n",
      "\n",
      "First few rows:\n"
     ]
    },
    {
     "data": {
      "text/html": [
       "<div>\n",
       "<style scoped>\n",
       "    .dataframe tbody tr th:only-of-type {\n",
       "        vertical-align: middle;\n",
       "    }\n",
       "\n",
       "    .dataframe tbody tr th {\n",
       "        vertical-align: top;\n",
       "    }\n",
       "\n",
       "    .dataframe thead th {\n",
       "        text-align: right;\n",
       "    }\n",
       "</style>\n",
       "<table border=\"1\" class=\"dataframe\">\n",
       "  <thead>\n",
       "    <tr style=\"text-align: right;\">\n",
       "      <th></th>\n",
       "      <th>zipcode</th>\n",
       "      <th>latitude</th>\n",
       "      <th>longitude</th>\n",
       "      <th>latestPrice</th>\n",
       "      <th>latest_saleyear</th>\n",
       "    </tr>\n",
       "  </thead>\n",
       "  <tbody>\n",
       "    <tr>\n",
       "      <th>0</th>\n",
       "      <td>78660</td>\n",
       "      <td>30.430632</td>\n",
       "      <td>-97.663078</td>\n",
       "      <td>305000</td>\n",
       "      <td>2019</td>\n",
       "    </tr>\n",
       "    <tr>\n",
       "      <th>1</th>\n",
       "      <td>78660</td>\n",
       "      <td>30.432672</td>\n",
       "      <td>-97.661697</td>\n",
       "      <td>295000</td>\n",
       "      <td>2020</td>\n",
       "    </tr>\n",
       "    <tr>\n",
       "      <th>2</th>\n",
       "      <td>78660</td>\n",
       "      <td>30.409748</td>\n",
       "      <td>-97.639771</td>\n",
       "      <td>256125</td>\n",
       "      <td>2019</td>\n",
       "    </tr>\n",
       "    <tr>\n",
       "      <th>3</th>\n",
       "      <td>78660</td>\n",
       "      <td>30.432112</td>\n",
       "      <td>-97.661659</td>\n",
       "      <td>240000</td>\n",
       "      <td>2018</td>\n",
       "    </tr>\n",
       "    <tr>\n",
       "      <th>4</th>\n",
       "      <td>78660</td>\n",
       "      <td>30.437368</td>\n",
       "      <td>-97.656860</td>\n",
       "      <td>239900</td>\n",
       "      <td>2018</td>\n",
       "    </tr>\n",
       "  </tbody>\n",
       "</table>\n",
       "</div>"
      ],
      "text/plain": [
       "   zipcode   latitude  longitude  latestPrice  latest_saleyear\n",
       "0    78660  30.430632 -97.663078       305000             2019\n",
       "1    78660  30.432672 -97.661697       295000             2020\n",
       "2    78660  30.409748 -97.639771       256125             2019\n",
       "3    78660  30.432112 -97.661659       240000             2018\n",
       "4    78660  30.437368 -97.656860       239900             2018"
      ]
     },
     "execution_count": 4,
     "metadata": {},
     "output_type": "execute_result"
    }
   ],
   "source": [
    "# Load housing data\n",
    "# Automatically detect the correct file based on available columns\n",
    "try:\n",
    "    # Try main data.csv first\n",
    "    df = pd.read_csv('../data files/data.csv')\n",
    "    print(f\"Loaded data.csv with {len(df)} records\")\n",
    "except FileNotFoundError:\n",
    "    # Try alternative file\n",
    "    df = pd.read_csv('../data files/austin_housing_cleaned.csv')\n",
    "    print(f\"Loaded austin_housing_cleaned.csv with {len(df)} records\")\n",
    "\n",
    "# Display basic information\n",
    "print(f\"\\nColumns available: {list(df.columns)}\")\n",
    "print(f\"Year range: {df['latest_saleyear'].min()} - {df['latest_saleyear'].max()}\")\n",
    "print(f\"Number of ZIP codes: {df['zipcode'].nunique()}\")\n",
    "print(f\"\\nFirst few rows:\")\n",
    "df[['zipcode', 'latitude', 'longitude', 'latestPrice', 'latest_saleyear']].head()"
   ]
  },
  {
   "cell_type": "code",
   "execution_count": 5,
   "id": "clean_data_cell",
   "metadata": {},
   "outputs": [
    {
     "name": "stdout",
     "output_type": "stream",
     "text": [
      "Cleaned data shape: (15168, 5)\n",
      "Years available: [np.int64(2018), np.int64(2019), np.int64(2020), np.int64(2021)]\n",
      "ZIP codes: 48\n"
     ]
    }
   ],
   "source": [
    "# Data cleaning and preparation\n",
    "# Remove rows with missing critical data\n",
    "df_clean = df[['zipcode', 'latitude', 'longitude', 'latestPrice', 'latest_saleyear']].copy()\n",
    "df_clean = df_clean.dropna(subset=['zipcode', 'latestPrice', 'latest_saleyear'])\n",
    "\n",
    "# Ensure proper data types\n",
    "df_clean['zipcode'] = df_clean['zipcode'].astype(str)\n",
    "df_clean['latest_saleyear'] = df_clean['latest_saleyear'].astype(int)\n",
    "df_clean['latestPrice'] = df_clean['latestPrice'].astype(float)\n",
    "\n",
    "# Filter out outliers (prices must be positive and reasonable)\n",
    "df_clean = df_clean[(df_clean['latestPrice'] > 0) & (df_clean['latestPrice'] < 10000000)]\n",
    "\n",
    "print(f\"Cleaned data shape: {df_clean.shape}\")\n",
    "print(f\"Years available: {sorted(df_clean['latest_saleyear'].unique())}\")\n",
    "print(f\"ZIP codes: {df_clean['zipcode'].nunique()}\")"
   ]
  },
  {
   "cell_type": "code",
   "execution_count": 6,
   "id": "aggregate_cell",
   "metadata": {},
   "outputs": [
    {
     "name": "stdout",
     "output_type": "stream",
     "text": [
      "\n",
      "Aggregated data shape: (171, 9)\n",
      "\n",
      "Sample of aggregated data:\n"
     ]
    },
    {
     "data": {
      "text/html": [
       "<div>\n",
       "<style scoped>\n",
       "    .dataframe tbody tr th:only-of-type {\n",
       "        vertical-align: middle;\n",
       "    }\n",
       "\n",
       "    .dataframe tbody tr th {\n",
       "        vertical-align: top;\n",
       "    }\n",
       "\n",
       "    .dataframe thead th {\n",
       "        text-align: right;\n",
       "    }\n",
       "</style>\n",
       "<table border=\"1\" class=\"dataframe\">\n",
       "  <thead>\n",
       "    <tr style=\"text-align: right;\">\n",
       "      <th></th>\n",
       "      <th>zipcode</th>\n",
       "      <th>year</th>\n",
       "      <th>median_price</th>\n",
       "      <th>latitude</th>\n",
       "      <th>longitude</th>\n",
       "      <th>prev_year_price</th>\n",
       "      <th>yoy_change</th>\n",
       "      <th>median_price_fmt</th>\n",
       "      <th>yoy_change_fmt</th>\n",
       "    </tr>\n",
       "  </thead>\n",
       "  <tbody>\n",
       "    <tr>\n",
       "      <th>0</th>\n",
       "      <td>78617</td>\n",
       "      <td>2018</td>\n",
       "      <td>194900.0</td>\n",
       "      <td>30.166473</td>\n",
       "      <td>-97.633489</td>\n",
       "      <td>NaN</td>\n",
       "      <td>0.000000</td>\n",
       "      <td>$194,900</td>\n",
       "      <td>N/A</td>\n",
       "    </tr>\n",
       "    <tr>\n",
       "      <th>1</th>\n",
       "      <td>78617</td>\n",
       "      <td>2019</td>\n",
       "      <td>205000.0</td>\n",
       "      <td>30.163992</td>\n",
       "      <td>-97.634620</td>\n",
       "      <td>194900.0</td>\n",
       "      <td>5.182145</td>\n",
       "      <td>$205,000</td>\n",
       "      <td>+5.2%</td>\n",
       "    </tr>\n",
       "    <tr>\n",
       "      <th>2</th>\n",
       "      <td>78617</td>\n",
       "      <td>2020</td>\n",
       "      <td>200000.0</td>\n",
       "      <td>30.162966</td>\n",
       "      <td>-97.633781</td>\n",
       "      <td>205000.0</td>\n",
       "      <td>-2.439024</td>\n",
       "      <td>$200,000</td>\n",
       "      <td>-2.4%</td>\n",
       "    </tr>\n",
       "    <tr>\n",
       "      <th>3</th>\n",
       "      <td>78617</td>\n",
       "      <td>2021</td>\n",
       "      <td>137500.0</td>\n",
       "      <td>30.160576</td>\n",
       "      <td>-97.639084</td>\n",
       "      <td>200000.0</td>\n",
       "      <td>-31.250000</td>\n",
       "      <td>$137,500</td>\n",
       "      <td>-31.2%</td>\n",
       "    </tr>\n",
       "    <tr>\n",
       "      <th>4</th>\n",
       "      <td>78619</td>\n",
       "      <td>2018</td>\n",
       "      <td>650000.0</td>\n",
       "      <td>30.139151</td>\n",
       "      <td>-97.972824</td>\n",
       "      <td>NaN</td>\n",
       "      <td>0.000000</td>\n",
       "      <td>$650,000</td>\n",
       "      <td>N/A</td>\n",
       "    </tr>\n",
       "    <tr>\n",
       "      <th>5</th>\n",
       "      <td>78619</td>\n",
       "      <td>2019</td>\n",
       "      <td>719495.0</td>\n",
       "      <td>30.138452</td>\n",
       "      <td>-97.974190</td>\n",
       "      <td>650000.0</td>\n",
       "      <td>10.691538</td>\n",
       "      <td>$719,495</td>\n",
       "      <td>+10.7%</td>\n",
       "    </tr>\n",
       "    <tr>\n",
       "      <th>6</th>\n",
       "      <td>78619</td>\n",
       "      <td>2020</td>\n",
       "      <td>720000.0</td>\n",
       "      <td>30.133125</td>\n",
       "      <td>-97.978281</td>\n",
       "      <td>719495.0</td>\n",
       "      <td>0.070188</td>\n",
       "      <td>$720,000</td>\n",
       "      <td>+0.1%</td>\n",
       "    </tr>\n",
       "    <tr>\n",
       "      <th>7</th>\n",
       "      <td>78652</td>\n",
       "      <td>2020</td>\n",
       "      <td>360929.5</td>\n",
       "      <td>30.147471</td>\n",
       "      <td>-97.846363</td>\n",
       "      <td>NaN</td>\n",
       "      <td>0.000000</td>\n",
       "      <td>$360,930</td>\n",
       "      <td>N/A</td>\n",
       "    </tr>\n",
       "    <tr>\n",
       "      <th>8</th>\n",
       "      <td>78653</td>\n",
       "      <td>2019</td>\n",
       "      <td>369900.0</td>\n",
       "      <td>30.330337</td>\n",
       "      <td>-97.601929</td>\n",
       "      <td>NaN</td>\n",
       "      <td>0.000000</td>\n",
       "      <td>$369,900</td>\n",
       "      <td>N/A</td>\n",
       "    </tr>\n",
       "    <tr>\n",
       "      <th>9</th>\n",
       "      <td>78653</td>\n",
       "      <td>2020</td>\n",
       "      <td>297490.0</td>\n",
       "      <td>30.366128</td>\n",
       "      <td>-97.605877</td>\n",
       "      <td>369900.0</td>\n",
       "      <td>-19.575561</td>\n",
       "      <td>$297,490</td>\n",
       "      <td>-19.6%</td>\n",
       "    </tr>\n",
       "  </tbody>\n",
       "</table>\n",
       "</div>"
      ],
      "text/plain": [
       "  zipcode  year  median_price   latitude  longitude  prev_year_price  \\\n",
       "0   78617  2018      194900.0  30.166473 -97.633489              NaN   \n",
       "1   78617  2019      205000.0  30.163992 -97.634620         194900.0   \n",
       "2   78617  2020      200000.0  30.162966 -97.633781         205000.0   \n",
       "3   78617  2021      137500.0  30.160576 -97.639084         200000.0   \n",
       "4   78619  2018      650000.0  30.139151 -97.972824              NaN   \n",
       "5   78619  2019      719495.0  30.138452 -97.974190         650000.0   \n",
       "6   78619  2020      720000.0  30.133125 -97.978281         719495.0   \n",
       "7   78652  2020      360929.5  30.147471 -97.846363              NaN   \n",
       "8   78653  2019      369900.0  30.330337 -97.601929              NaN   \n",
       "9   78653  2020      297490.0  30.366128 -97.605877         369900.0   \n",
       "\n",
       "   yoy_change median_price_fmt yoy_change_fmt  \n",
       "0    0.000000         $194,900            N/A  \n",
       "1    5.182145         $205,000          +5.2%  \n",
       "2   -2.439024         $200,000          -2.4%  \n",
       "3  -31.250000         $137,500         -31.2%  \n",
       "4    0.000000         $650,000            N/A  \n",
       "5   10.691538         $719,495         +10.7%  \n",
       "6    0.070188         $720,000          +0.1%  \n",
       "7    0.000000         $360,930            N/A  \n",
       "8    0.000000         $369,900            N/A  \n",
       "9  -19.575561         $297,490         -19.6%  "
      ]
     },
     "execution_count": 6,
     "metadata": {},
     "output_type": "execute_result"
    }
   ],
   "source": [
    "# Calculate median housing prices by ZIP code and year\n",
    "median_by_zip_year = df_clean.groupby(['zipcode', 'latest_saleyear']).agg({\n",
    "    'latestPrice': 'median',\n",
    "    'latitude': 'mean',\n",
    "    'longitude': 'mean'\n",
    "}).reset_index()\n",
    "\n",
    "# Rename columns for clarity\n",
    "median_by_zip_year.columns = ['zipcode', 'year', 'median_price', 'latitude', 'longitude']\n",
    "\n",
    "# Calculate year-over-year price change\n",
    "median_by_zip_year = median_by_zip_year.sort_values(['zipcode', 'year'])\n",
    "median_by_zip_year['prev_year_price'] = median_by_zip_year.groupby('zipcode')['median_price'].shift(1)\n",
    "median_by_zip_year['yoy_change'] = ((median_by_zip_year['median_price'] - median_by_zip_year['prev_year_price']) / \n",
    "                                      median_by_zip_year['prev_year_price'] * 100)\n",
    "median_by_zip_year['yoy_change'] = median_by_zip_year['yoy_change'].fillna(0)\n",
    "\n",
    "# Format for display\n",
    "median_by_zip_year['median_price_fmt'] = median_by_zip_year['median_price'].apply(lambda x: f'${x:,.0f}')\n",
    "median_by_zip_year['yoy_change_fmt'] = median_by_zip_year['yoy_change'].apply(\n",
    "    lambda x: f'+{x:.1f}%' if x > 0 else f'{x:.1f}%' if x < 0 else 'N/A'\n",
    ")\n",
    "\n",
    "print(f\"\\nAggregated data shape: {median_by_zip_year.shape}\")\n",
    "print(f\"\\nSample of aggregated data:\")\n",
    "median_by_zip_year.head(10)"
   ]
  },
  {
   "cell_type": "code",
   "execution_count": 7,
   "id": "identify_insights_cell",
   "metadata": {},
   "outputs": [
    {
     "name": "stdout",
     "output_type": "stream",
     "text": [
      "Top 3 ZIP codes by average YoY growth:\n",
      "   zipcode  yoy_change  median_price\n",
      "5    78701  180.126720  1.678667e+06\n",
      "9    78705   24.559938  5.864333e+05\n",
      "12   78721   22.600990  4.162250e+05\n",
      "\n",
      "East Austin (787xx) average YoY growth: 10.00%\n"
     ]
    }
   ],
   "source": [
    "# Identify key insights for annotations\n",
    "# Find ZIP codes with highest growth\n",
    "growth_by_zip = median_by_zip_year.groupby('zipcode').agg({\n",
    "    'yoy_change': 'mean',\n",
    "    'median_price': 'mean',\n",
    "    'latitude': 'first',\n",
    "    'longitude': 'first'\n",
    "}).reset_index()\n",
    "\n",
    "# Get top growth areas\n",
    "top_growth_zip = growth_by_zip.nlargest(3, 'yoy_change')\n",
    "print(\"Top 3 ZIP codes by average YoY growth:\")\n",
    "print(top_growth_zip[['zipcode', 'yoy_change', 'median_price']])\n",
    "\n",
    "# Identify East Austin ZIP codes (typically 787xx range)\n",
    "east_austin_zips = median_by_zip_year[median_by_zip_year['zipcode'].str.startswith('787')]\n",
    "if len(east_austin_zips) > 0:\n",
    "    avg_growth_east = east_austin_zips['yoy_change'].mean()\n",
    "    print(f\"\\nEast Austin (787xx) average YoY growth: {avg_growth_east:.2f}%\")"
   ]
  },
  {
   "cell_type": "code",
   "execution_count": 8,
   "id": "create_map_cell",
   "metadata": {},
   "outputs": [
    {
     "name": "stdout",
     "output_type": "stream",
     "text": [
      "Choropleth map created successfully!\n",
      "Note: Using scatter mapbox visualization since we don't have GeoJSON boundaries for ZIP codes.\n",
      "The map shows data points for each ZIP code with animation across years.\n"
     ]
    }
   ],
   "source": [
    "# Create the choropleth map with animation\n",
    "fig = px.choropleth_mapbox(\n",
    "    median_by_zip_year,\n",
    "    geojson=None,\n",
    "    locations='zipcode',\n",
    "    color='median_price',\n",
    "    animation_frame='year',\n",
    "    hover_name='zipcode',\n",
    "    hover_data={\n",
    "        'zipcode': True,\n",
    "        'median_price_fmt': True,\n",
    "        'yoy_change_fmt': True,\n",
    "        'year': True,\n",
    "        'median_price': False,\n",
    "        'latitude': False,\n",
    "        'longitude': False\n",
    "    },\n",
    "    color_continuous_scale='Viridis',\n",
    "    mapbox_style='carto-positron',\n",
    "    zoom=9,\n",
    "    center={'lat': median_by_zip_year['latitude'].mean(), \n",
    "            'lon': median_by_zip_year['longitude'].mean()},\n",
    "    opacity=0.6,\n",
    "    labels={\n",
    "        'median_price': 'Median Home Price ($)',\n",
    "        'median_price_fmt': 'Median Price',\n",
    "        'yoy_change_fmt': 'YoY Change',\n",
    "        'zipcode': 'ZIP Code',\n",
    "        'year': 'Year'\n",
    "    }\n",
    ")\n",
    "\n",
    "# Update layout for better visualization\n",
    "fig.update_layout(\n",
    "    title={\n",
    "        'text': 'Geographic Distribution of Median Housing Prices in Austin, TX',\n",
    "        'x': 0.5,\n",
    "        'xanchor': 'center',\n",
    "        'font': {'size': 20, 'color': '#333333'}\n",
    "    },\n",
    "    coloraxis_colorbar={\n",
    "        'title': {\n",
    "            'text': 'Median Home Price ($)',\n",
    "            'side': 'bottom'\n",
    "        },\n",
    "        'thickness': 20,\n",
    "        'len': 0.7,\n",
    "        'x': 0.5,\n",
    "        'xanchor': 'center',\n",
    "        'y': -0.15,\n",
    "        'yanchor': 'bottom',\n",
    "        'orientation': 'h'\n",
    "    },\n",
    "    height=700,\n",
    "    margin={'r': 0, 't': 80, 'l': 0, 'b': 100}\n",
    ")\n",
    "\n",
    "# Configure animation settings\n",
    "fig.layout.updatemenus[0].buttons[0].args[1]['frame']['duration'] = 1000\n",
    "fig.layout.updatemenus[0].buttons[0].args[1]['transition']['duration'] = 500\n",
    "\n",
    "print(\"Choropleth map created successfully!\")\n",
    "print(\"Note: Using scatter mapbox visualization since we don't have GeoJSON boundaries for ZIP codes.\")\n",
    "print(\"The map shows data points for each ZIP code with animation across years.\")"
   ]
  },
  {
   "cell_type": "code",
   "execution_count": 9,
   "id": "alternative_map_cell",
   "metadata": {},
   "outputs": [
    {
     "data": {
      "application/vnd.plotly.v1+json": {
       "config": {
        "plotlyServerURL": "https://plot.ly"
       },
       "data": [
        {
         "customdata": [
          [
           "78617",
           "$194,900",
           "N/A",
           2018,
           194900,
           30.16647305965517,
           -97.63348941103447
          ],
          [
           "78619",
           "$650,000",
           "N/A",
           2018,
           650000,
           30.13915062,
           -97.9728241
          ],
          [
           "78660",
           "$244,544",
           "N/A",
           2018,
           244543.5,
           30.43140172875,
           -97.65859317875
          ],
          [
           "78701",
           "$492,000",
           "N/A",
           2018,
           492000,
           30.272718745000002,
           -97.74716568000001
          ],
          [
           "78702",
           "$424,944",
           "N/A",
           2018,
           424944,
           30.265536686037734,
           -97.71594418235848
          ],
          [
           "78703",
           "$940,000",
           "N/A",
           2018,
           940000,
           30.293879235445544,
           -97.76424536356436
          ],
          [
           "78704",
           "$673,000",
           "N/A",
           2018,
           673000,
           30.24480771764398,
           -97.76383776429319
          ],
          [
           "78705",
           "$414,950",
           "N/A",
           2018,
           414950,
           30.294269909090907,
           -97.73605624181819
          ],
          [
           "78717",
           "$384,950",
           "N/A",
           2018,
           384950,
           30.49779674282609,
           -97.76068326690216
          ],
          [
           "78719",
           "$250,000",
           "N/A",
           2018,
           250000,
           30.12716103,
           -97.68093109
          ],
          [
           "78721",
           "$333,900",
           "N/A",
           2018,
           333900,
           30.275732289565216,
           -97.6849497915942
          ],
          [
           "78722",
           "$415,000",
           "N/A",
           2018,
           415000,
           30.291096100384614,
           -97.71488894038461
          ],
          [
           "78723",
           "$390,000",
           "N/A",
           2018,
           390000,
           30.30567534859873,
           -97.68577833248408
          ],
          [
           "78724",
           "$227,000",
           "N/A",
           2018,
           227000,
           30.28425623367647,
           -97.62771460573529
          ],
          [
           "78725",
           "$187,450",
           "N/A",
           2018,
           187450,
           30.240164060192306,
           -97.60284482557692
          ],
          [
           "78726",
           "$461,800",
           "N/A",
           2018,
           461800,
           30.433755460833332,
           -97.83287595133334
          ],
          [
           "78727",
           "$344,000",
           "N/A",
           2018,
           344000,
           30.423725334833332,
           -97.71000232725001
          ],
          [
           "78728",
           "$284,900",
           "N/A",
           2018,
           284900,
           30.44965191115942,
           -97.68130692231884
          ],
          [
           "78729",
           "$304,900",
           "N/A",
           2018,
           304900,
           30.4523845415534,
           -97.76778656262135
          ],
          [
           "78730",
           "$875,000",
           "N/A",
           2018,
           875000,
           30.364800753972602,
           -97.83851299575342
          ],
          [
           "78731",
           "$725,000",
           "N/A",
           2018,
           725000,
           30.348064046190476,
           -97.76733299836734
          ],
          [
           "78732",
           "$517,450",
           "N/A",
           2018,
           517450,
           30.363538372849465,
           -97.90086336021506
          ],
          [
           "78733",
           "$750,000",
           "N/A",
           2018,
           750000,
           30.3276570734375,
           -97.87145435812499
          ],
          [
           "78734",
           "$975,000",
           "N/A",
           2018,
           975000,
           30.376546859999998,
           -97.9158325225
          ],
          [
           "78735",
           "$585,000",
           "N/A",
           2018,
           585000,
           30.262293323894735,
           -97.85683906978947
          ],
          [
           "78736",
           "$337,500",
           "N/A",
           2018,
           337500,
           30.240106638235293,
           -97.90157048794117
          ],
          [
           "78737",
           "$475,000",
           "N/A",
           2018,
           475000,
           30.192953686258996,
           -97.97204474597122
          ],
          [
           "78739",
           "$512,950",
           "N/A",
           2018,
           512950,
           30.184250788764043,
           -97.89512029938203
          ],
          [
           "78741",
           "$299,500",
           "N/A",
           2018,
           299500,
           30.229090638363637,
           -97.71521828327272
          ],
          [
           "78742",
           "$197,500",
           "N/A",
           2018,
           197500,
           30.223750115,
           -97.673812865
          ],
          [
           "78744",
           "$226,000",
           "N/A",
           2018,
           226000,
           30.182989976542057,
           -97.73624177728972
          ],
          [
           "78745",
           "$329,000",
           "N/A",
           2018,
           329000,
           30.20631158903915,
           -97.80050515274021
          ],
          [
           "78746",
           "$1,134,000",
           "N/A",
           2018,
           1134000,
           30.297347990338984,
           -97.80331912254238
          ],
          [
           "78747",
           "$254,990",
           "N/A",
           2018,
           254990,
           30.147455281565215,
           -97.75940525217392
          ],
          [
           "78748",
           "$299,500",
           "N/A",
           2018,
           299500,
           30.165383442871285,
           -97.82716014574257
          ],
          [
           "78749",
           "$380,000",
           "N/A",
           2018,
           380000,
           30.213291987957447,
           -97.86166297438298
          ],
          [
           "78750",
           "$549,975",
           "N/A",
           2018,
           549975,
           30.422441443020833,
           -97.79997110281249
          ],
          [
           "78751",
           "$540,000",
           "N/A",
           2018,
           540000,
           30.31125792722222,
           -97.72336846796297
          ],
          [
           "78752",
           "$335,000",
           "N/A",
           2018,
           335000,
           30.332943546734693,
           -97.70778064367346
          ],
          [
           "78753",
           "$249,950",
           "N/A",
           2018,
           249950,
           30.377355870000002,
           -97.67002223507353
          ],
          [
           "78754",
           "$249,900",
           "N/A",
           2018,
           249900,
           30.359713658359375,
           -97.63409715882813
          ],
          [
           "78756",
           "$587,000",
           "N/A",
           2018,
           587000,
           30.32067826235294,
           -97.74220904176471
          ],
          [
           "78757",
           "$459,500",
           "N/A",
           2018,
           459500,
           30.34867821435583,
           -97.73060935570551
          ],
          [
           "78758",
           "$309,000",
           "N/A",
           2018,
           309000,
           30.381332950841124,
           -97.70138592588785
          ],
          [
           "78759",
           "$479,900",
           "N/A",
           2018,
           479900,
           30.40639558344633,
           -97.7601994659887
          ]
         ],
         "hovertemplate": "<b>%{hovertext}</b><br><br>Year=%{customdata[3]}<br>ZIP Code=%{customdata[0]}<br>Median Price=%{customdata[1]}<br>YoY Change=%{customdata[2]}<extra></extra>",
         "hovertext": [
          "78617",
          "78619",
          "78660",
          "78701",
          "78702",
          "78703",
          "78704",
          "78705",
          "78717",
          "78719",
          "78721",
          "78722",
          "78723",
          "78724",
          "78725",
          "78726",
          "78727",
          "78728",
          "78729",
          "78730",
          "78731",
          "78732",
          "78733",
          "78734",
          "78735",
          "78736",
          "78737",
          "78739",
          "78741",
          "78742",
          "78744",
          "78745",
          "78746",
          "78747",
          "78748",
          "78749",
          "78750",
          "78751",
          "78752",
          "78753",
          "78754",
          "78756",
          "78757",
          "78758",
          "78759"
         ],
         "lat": {
          "bdata": "T+J6+p0qPkA9HgJgnyM+QEtr/Fdwbj5A+8dK5dBFPkCYa1Y2+kM+QEw2aas7Sz5A3Bb1t6s+PkAKvtNFVUs+QE5+eptvfz5A+SwRoI0gPkBBIi5klkY+QCIlJ0aFSj5AyWxZvUBOPkAXUzsExUg+QFYzUGR7PT5Alr0OmQpvPkCHmHdDeWw+QHwDPWMccz5AFDArec9zPkBU3guVY10+QDFNr7kaWT5AwTrO2RBdPkCWt35V4VM+QIocAWBlYD5ARxbApyVDPkDpxe6gdz0+QAIgrGllMT5A9wBIDysvPkBylx+vpTo+QLhmArBHOT5Ac75cbtguPkB9tRfW0DQ+QIoJdv8eTD5A8PEbob8lPkCbbr6RVio+QKzGwE2aNj5A4T9WHyVsPkBJCnqZrk8+QMejzMk7VT5AiJrwZJpgPkD6k74xFlw+QA9YefgXUj5AaHy3+UJZPkDzv0gJn2E+QA0kfIoJaD5A",
          "dtype": "f8"
         },
         "legendgroup": "",
         "lon": {
          "bdata": "WLArF4toWMCukAPAQn5YwGUGAWQmaljAyxIAkNFvWMBvP4wH0m1YwDqoYmXpcFjAskXKt+JwWMANqKOLG29YwGR93givcFjATJj+X5RrWMAlk6Y31mtYwFbOir3AbVjAxZTNyuNrWMCytuF5LGhYwJuadgKVZljAgCbv1k11WMDa55mtcG1YwHZ5WYiaa1jAFjFAaiNxWMALgmkyqnVYwEdI3fsbcVjAdJLLvqd5WMCgBoDoxXdYwAswAwCdeljAk6uJc9Z2WMDAL7RUs3lYwHuMKvs1fljAOPWmpkl5WMAWCugixm1YwCSz/r8fa1jAIdrUlR5vWMAe0/Z5O3NYwIrkm5Rpc1jA2Z98GJpwWMA2oRsx8HRYwInJdXwld1jAyBT/uTJzWMDzNkKrS25YwHBUL0dMbVjA9M7wpOFqWMDQ6T8MlWhYwDJLWlqAb1jACTq+TcJuWMAIZMuB42xYwOw2qRuncFjA",
          "dtype": "f8"
         },
         "marker": {
          "color": {
           "bdata": "AAAAAKDKB0EAAAAAINYjQQAAAAD82Q1BAAAAAIAHHkEAAAAAwO8ZQQAAAADAryxBAAAAANCJJEEAAAAAmFMZQQAAAADYfhdBAAAAAICEDkEAAAAAMGEUQQAAAABgVBlBAAAAAMDNF0EAAAAAwLULQQAAAADQ4QZBAAAAAKAvHEEAAAAAAP8UQQAAAACQYxFBAAAAABCcEkEAAAAA8LMqQQAAAAAQICZBAAAAACiVH0EAAAAAYOMmQQAAAAAwwS1BAAAAAFDaIUEAAAAAcJkUQQAAAADg/RxBAAAAANhOH0EAAAAAsEcSQQAAAADgGwhBAAAAAICWC0EAAAAAoBQUQQAAAACwTTFBAAAAAHAgD0EAAAAAsEcSQQAAAACAMRdBAAAAAK7IIEEAAAAAwHogQQAAAABgchRBAAAAAPCCDkEAAAAAYIEOQQAAAADw6SFBAAAAALALHEEAAAAAINwSQQAAAABwSh1B",
           "dtype": "f8"
          },
          "coloraxis": "coloraxis",
          "size": {
           "bdata": "AAAAAKDKB0EAAAAAINYjQQAAAAD82Q1BAAAAAIAHHkEAAAAAwO8ZQQAAAADAryxBAAAAANCJJEEAAAAAmFMZQQAAAADYfhdBAAAAAICEDkEAAAAAMGEUQQAAAABgVBlBAAAAAMDNF0EAAAAAwLULQQAAAADQ4QZBAAAAAKAvHEEAAAAAAP8UQQAAAACQYxFBAAAAABCcEkEAAAAA8LMqQQAAAAAQICZBAAAAACiVH0EAAAAAYOMmQQAAAAAwwS1BAAAAAFDaIUEAAAAAcJkUQQAAAADg/RxBAAAAANhOH0EAAAAAsEcSQQAAAADgGwhBAAAAAICWC0EAAAAAoBQUQQAAAACwTTFBAAAAAHAgD0EAAAAAsEcSQQAAAACAMRdBAAAAAK7IIEEAAAAAwHogQQAAAABgchRBAAAAAPCCDkEAAAAAYIEOQQAAAADw6SFBAAAAALALHEEAAAAAINwSQQAAAABwSh1B",
           "dtype": "f8"
          },
          "sizemode": "area",
          "sizeref": 2184.375
         },
         "mode": "markers",
         "name": "",
         "showlegend": false,
         "subplot": "mapbox",
         "type": "scattermapbox"
        }
       ],
       "frames": [
        {
         "data": [
          {
           "customdata": [
            [
             "78617",
             "$194,900",
             "N/A",
             2018,
             194900,
             30.16647305965517,
             -97.63348941103447
            ],
            [
             "78619",
             "$650,000",
             "N/A",
             2018,
             650000,
             30.13915062,
             -97.9728241
            ],
            [
             "78660",
             "$244,544",
             "N/A",
             2018,
             244543.5,
             30.43140172875,
             -97.65859317875
            ],
            [
             "78701",
             "$492,000",
             "N/A",
             2018,
             492000,
             30.272718745000002,
             -97.74716568000001
            ],
            [
             "78702",
             "$424,944",
             "N/A",
             2018,
             424944,
             30.265536686037734,
             -97.71594418235848
            ],
            [
             "78703",
             "$940,000",
             "N/A",
             2018,
             940000,
             30.293879235445544,
             -97.76424536356436
            ],
            [
             "78704",
             "$673,000",
             "N/A",
             2018,
             673000,
             30.24480771764398,
             -97.76383776429319
            ],
            [
             "78705",
             "$414,950",
             "N/A",
             2018,
             414950,
             30.294269909090907,
             -97.73605624181819
            ],
            [
             "78717",
             "$384,950",
             "N/A",
             2018,
             384950,
             30.49779674282609,
             -97.76068326690216
            ],
            [
             "78719",
             "$250,000",
             "N/A",
             2018,
             250000,
             30.12716103,
             -97.68093109
            ],
            [
             "78721",
             "$333,900",
             "N/A",
             2018,
             333900,
             30.275732289565216,
             -97.6849497915942
            ],
            [
             "78722",
             "$415,000",
             "N/A",
             2018,
             415000,
             30.291096100384614,
             -97.71488894038461
            ],
            [
             "78723",
             "$390,000",
             "N/A",
             2018,
             390000,
             30.30567534859873,
             -97.68577833248408
            ],
            [
             "78724",
             "$227,000",
             "N/A",
             2018,
             227000,
             30.28425623367647,
             -97.62771460573529
            ],
            [
             "78725",
             "$187,450",
             "N/A",
             2018,
             187450,
             30.240164060192306,
             -97.60284482557692
            ],
            [
             "78726",
             "$461,800",
             "N/A",
             2018,
             461800,
             30.433755460833332,
             -97.83287595133334
            ],
            [
             "78727",
             "$344,000",
             "N/A",
             2018,
             344000,
             30.423725334833332,
             -97.71000232725001
            ],
            [
             "78728",
             "$284,900",
             "N/A",
             2018,
             284900,
             30.44965191115942,
             -97.68130692231884
            ],
            [
             "78729",
             "$304,900",
             "N/A",
             2018,
             304900,
             30.4523845415534,
             -97.76778656262135
            ],
            [
             "78730",
             "$875,000",
             "N/A",
             2018,
             875000,
             30.364800753972602,
             -97.83851299575342
            ],
            [
             "78731",
             "$725,000",
             "N/A",
             2018,
             725000,
             30.348064046190476,
             -97.76733299836734
            ],
            [
             "78732",
             "$517,450",
             "N/A",
             2018,
             517450,
             30.363538372849465,
             -97.90086336021506
            ],
            [
             "78733",
             "$750,000",
             "N/A",
             2018,
             750000,
             30.3276570734375,
             -97.87145435812499
            ],
            [
             "78734",
             "$975,000",
             "N/A",
             2018,
             975000,
             30.376546859999998,
             -97.9158325225
            ],
            [
             "78735",
             "$585,000",
             "N/A",
             2018,
             585000,
             30.262293323894735,
             -97.85683906978947
            ],
            [
             "78736",
             "$337,500",
             "N/A",
             2018,
             337500,
             30.240106638235293,
             -97.90157048794117
            ],
            [
             "78737",
             "$475,000",
             "N/A",
             2018,
             475000,
             30.192953686258996,
             -97.97204474597122
            ],
            [
             "78739",
             "$512,950",
             "N/A",
             2018,
             512950,
             30.184250788764043,
             -97.89512029938203
            ],
            [
             "78741",
             "$299,500",
             "N/A",
             2018,
             299500,
             30.229090638363637,
             -97.71521828327272
            ],
            [
             "78742",
             "$197,500",
             "N/A",
             2018,
             197500,
             30.223750115,
             -97.673812865
            ],
            [
             "78744",
             "$226,000",
             "N/A",
             2018,
             226000,
             30.182989976542057,
             -97.73624177728972
            ],
            [
             "78745",
             "$329,000",
             "N/A",
             2018,
             329000,
             30.20631158903915,
             -97.80050515274021
            ],
            [
             "78746",
             "$1,134,000",
             "N/A",
             2018,
             1134000,
             30.297347990338984,
             -97.80331912254238
            ],
            [
             "78747",
             "$254,990",
             "N/A",
             2018,
             254990,
             30.147455281565215,
             -97.75940525217392
            ],
            [
             "78748",
             "$299,500",
             "N/A",
             2018,
             299500,
             30.165383442871285,
             -97.82716014574257
            ],
            [
             "78749",
             "$380,000",
             "N/A",
             2018,
             380000,
             30.213291987957447,
             -97.86166297438298
            ],
            [
             "78750",
             "$549,975",
             "N/A",
             2018,
             549975,
             30.422441443020833,
             -97.79997110281249
            ],
            [
             "78751",
             "$540,000",
             "N/A",
             2018,
             540000,
             30.31125792722222,
             -97.72336846796297
            ],
            [
             "78752",
             "$335,000",
             "N/A",
             2018,
             335000,
             30.332943546734693,
             -97.70778064367346
            ],
            [
             "78753",
             "$249,950",
             "N/A",
             2018,
             249950,
             30.377355870000002,
             -97.67002223507353
            ],
            [
             "78754",
             "$249,900",
             "N/A",
             2018,
             249900,
             30.359713658359375,
             -97.63409715882813
            ],
            [
             "78756",
             "$587,000",
             "N/A",
             2018,
             587000,
             30.32067826235294,
             -97.74220904176471
            ],
            [
             "78757",
             "$459,500",
             "N/A",
             2018,
             459500,
             30.34867821435583,
             -97.73060935570551
            ],
            [
             "78758",
             "$309,000",
             "N/A",
             2018,
             309000,
             30.381332950841124,
             -97.70138592588785
            ],
            [
             "78759",
             "$479,900",
             "N/A",
             2018,
             479900,
             30.40639558344633,
             -97.7601994659887
            ]
           ],
           "hovertemplate": "<b>%{hovertext}</b><br><br>Year=%{customdata[3]}<br>ZIP Code=%{customdata[0]}<br>Median Price=%{customdata[1]}<br>YoY Change=%{customdata[2]}<extra></extra>",
           "hovertext": [
            "78617",
            "78619",
            "78660",
            "78701",
            "78702",
            "78703",
            "78704",
            "78705",
            "78717",
            "78719",
            "78721",
            "78722",
            "78723",
            "78724",
            "78725",
            "78726",
            "78727",
            "78728",
            "78729",
            "78730",
            "78731",
            "78732",
            "78733",
            "78734",
            "78735",
            "78736",
            "78737",
            "78739",
            "78741",
            "78742",
            "78744",
            "78745",
            "78746",
            "78747",
            "78748",
            "78749",
            "78750",
            "78751",
            "78752",
            "78753",
            "78754",
            "78756",
            "78757",
            "78758",
            "78759"
           ],
           "lat": {
            "bdata": "T+J6+p0qPkA9HgJgnyM+QEtr/Fdwbj5A+8dK5dBFPkCYa1Y2+kM+QEw2aas7Sz5A3Bb1t6s+PkAKvtNFVUs+QE5+eptvfz5A+SwRoI0gPkBBIi5klkY+QCIlJ0aFSj5AyWxZvUBOPkAXUzsExUg+QFYzUGR7PT5Alr0OmQpvPkCHmHdDeWw+QHwDPWMccz5AFDArec9zPkBU3guVY10+QDFNr7kaWT5AwTrO2RBdPkCWt35V4VM+QIocAWBlYD5ARxbApyVDPkDpxe6gdz0+QAIgrGllMT5A9wBIDysvPkBylx+vpTo+QLhmArBHOT5Ac75cbtguPkB9tRfW0DQ+QIoJdv8eTD5A8PEbob8lPkCbbr6RVio+QKzGwE2aNj5A4T9WHyVsPkBJCnqZrk8+QMejzMk7VT5AiJrwZJpgPkD6k74xFlw+QA9YefgXUj5AaHy3+UJZPkDzv0gJn2E+QA0kfIoJaD5A",
            "dtype": "f8"
           },
           "legendgroup": "",
           "lon": {
            "bdata": "WLArF4toWMCukAPAQn5YwGUGAWQmaljAyxIAkNFvWMBvP4wH0m1YwDqoYmXpcFjAskXKt+JwWMANqKOLG29YwGR93givcFjATJj+X5RrWMAlk6Y31mtYwFbOir3AbVjAxZTNyuNrWMCytuF5LGhYwJuadgKVZljAgCbv1k11WMDa55mtcG1YwHZ5WYiaa1jAFjFAaiNxWMALgmkyqnVYwEdI3fsbcVjAdJLLvqd5WMCgBoDoxXdYwAswAwCdeljAk6uJc9Z2WMDAL7RUs3lYwHuMKvs1fljAOPWmpkl5WMAWCugixm1YwCSz/r8fa1jAIdrUlR5vWMAe0/Z5O3NYwIrkm5Rpc1jA2Z98GJpwWMA2oRsx8HRYwInJdXwld1jAyBT/uTJzWMDzNkKrS25YwHBUL0dMbVjA9M7wpOFqWMDQ6T8MlWhYwDJLWlqAb1jACTq+TcJuWMAIZMuB42xYwOw2qRuncFjA",
            "dtype": "f8"
           },
           "marker": {
            "color": {
             "bdata": "AAAAAKDKB0EAAAAAINYjQQAAAAD82Q1BAAAAAIAHHkEAAAAAwO8ZQQAAAADAryxBAAAAANCJJEEAAAAAmFMZQQAAAADYfhdBAAAAAICEDkEAAAAAMGEUQQAAAABgVBlBAAAAAMDNF0EAAAAAwLULQQAAAADQ4QZBAAAAAKAvHEEAAAAAAP8UQQAAAACQYxFBAAAAABCcEkEAAAAA8LMqQQAAAAAQICZBAAAAACiVH0EAAAAAYOMmQQAAAAAwwS1BAAAAAFDaIUEAAAAAcJkUQQAAAADg/RxBAAAAANhOH0EAAAAAsEcSQQAAAADgGwhBAAAAAICWC0EAAAAAoBQUQQAAAACwTTFBAAAAAHAgD0EAAAAAsEcSQQAAAACAMRdBAAAAAK7IIEEAAAAAwHogQQAAAABgchRBAAAAAPCCDkEAAAAAYIEOQQAAAADw6SFBAAAAALALHEEAAAAAINwSQQAAAABwSh1B",
             "dtype": "f8"
            },
            "coloraxis": "coloraxis",
            "size": {
             "bdata": "AAAAAKDKB0EAAAAAINYjQQAAAAD82Q1BAAAAAIAHHkEAAAAAwO8ZQQAAAADAryxBAAAAANCJJEEAAAAAmFMZQQAAAADYfhdBAAAAAICEDkEAAAAAMGEUQQAAAABgVBlBAAAAAMDNF0EAAAAAwLULQQAAAADQ4QZBAAAAAKAvHEEAAAAAAP8UQQAAAACQYxFBAAAAABCcEkEAAAAA8LMqQQAAAAAQICZBAAAAACiVH0EAAAAAYOMmQQAAAAAwwS1BAAAAAFDaIUEAAAAAcJkUQQAAAADg/RxBAAAAANhOH0EAAAAAsEcSQQAAAADgGwhBAAAAAICWC0EAAAAAoBQUQQAAAACwTTFBAAAAAHAgD0EAAAAAsEcSQQAAAACAMRdBAAAAAK7IIEEAAAAAwHogQQAAAABgchRBAAAAAPCCDkEAAAAAYIEOQQAAAADw6SFBAAAAALALHEEAAAAAINwSQQAAAABwSh1B",
             "dtype": "f8"
            },
            "sizemode": "area",
            "sizeref": 2184.375
           },
           "mode": "markers",
           "name": "",
           "showlegend": false,
           "subplot": "mapbox",
           "type": "scattermapbox"
          }
         ],
         "name": "2018"
        },
        {
         "data": [
          {
           "customdata": [
            [
             "78617",
             "$205,000",
             "+5.2%",
             2019,
             205000,
             30.163992448787877,
             -97.63461997333333
            ],
            [
             "78619",
             "$719,495",
             "+10.7%",
             2019,
             719495,
             30.138451891666666,
             -97.97418975666666
            ],
            [
             "78653",
             "$369,900",
             "N/A",
             2019,
             369900,
             30.33033657,
             -97.60192871000001
            ],
            [
             "78660",
             "$296,650",
             "+21.3%",
             2019,
             296650,
             30.417691231666666,
             -97.646528245
            ],
            [
             "78701",
             "$3,495,000",
             "+610.4%",
             2019,
             3495000,
             30.28206253,
             -97.74810791
            ],
            [
             "78702",
             "$465,000",
             "+9.4%",
             2019,
             465000,
             30.264984629253732,
             -97.7157662235821
            ],
            [
             "78703",
             "$995,000",
             "+5.9%",
             2019,
             995000,
             30.2934099768932,
             -97.76462014262135
            ],
            [
             "78704",
             "$697,500",
             "+3.6%",
             2019,
             697500,
             30.243904455613208,
             -97.7638609540566
            ],
            [
             "78705",
             "$567,350",
             "+36.7%",
             2019,
             567350,
             30.295699628,
             -97.73793945366667
            ],
            [
             "78717",
             "$400,000",
             "+3.9%",
             2019,
             400000,
             30.496075055776398,
             -97.76322415757764
            ],
            [
             "78721",
             "$317,000",
             "-5.1%",
             2019,
             317000,
             30.2734014697561,
             -97.68495559743903
            ],
            [
             "78722",
             "$425,000",
             "+2.4%",
             2019,
             425000,
             30.287227924871797,
             -97.71508065230769
            ],
            [
             "78723",
             "$399,700",
             "+2.5%",
             2019,
             399700,
             30.306833985,
             -97.68575542670587
            ],
            [
             "78724",
             "$239,900",
             "+5.7%",
             2019,
             239900,
             30.286741205733335,
             -97.62930887813333
            ],
            [
             "78725",
             "$204,450",
             "+9.1%",
             2019,
             204450,
             30.236930025,
             -97.59996282620689
            ],
            [
             "78726",
             "$480,000",
             "+3.9%",
             2019,
             480000,
             30.426815668666666,
             -97.83767937511111
            ],
            [
             "78727",
             "$370,000",
             "+7.6%",
             2019,
             370000,
             30.424238336482755,
             -97.70835392393103
            ],
            [
             "78728",
             "$299,995",
             "+5.3%",
             2019,
             299995,
             30.450467139090907,
             -97.68237397181818
            ],
            [
             "78729",
             "$331,000",
             "+8.6%",
             2019,
             331000,
             30.45312800939655,
             -97.76818413568965
            ],
            [
             "78730",
             "$874,900",
             "-0.0%",
             2019,
             874900,
             30.364377952222224,
             -97.84190867888888
            ],
            [
             "78731",
             "$725,000",
             "N/A",
             2019,
             725000,
             30.345258217734806,
             -97.76627784
            ],
            [
             "78732",
             "$500,000",
             "-3.4%",
             2019,
             500000,
             30.363644941210527,
             -97.89984231263158
            ],
            [
             "78733",
             "$750,000",
             "N/A",
             2019,
             750000,
             30.32700352573171,
             -97.87191614280488
            ],
            [
             "78734",
             "$1,775,000",
             "+82.1%",
             2019,
             1775000,
             30.37078857,
             -97.9152298
            ],
            [
             "78735",
             "$599,950",
             "+2.6%",
             2019,
             599950,
             30.263235076416667,
             -97.86006221766667
            ],
            [
             "78736",
             "$379,000",
             "+12.3%",
             2019,
             379000,
             30.240533565344826,
             -97.89853773396553
            ],
            [
             "78737",
             "$475,000",
             "N/A",
             2019,
             475000,
             30.189432551772725,
             -97.97459595427273
            ],
            [
             "78738",
             "$697,000",
             "N/A",
             2019,
             697000,
             30.19170952,
             -97.73672485
            ],
            [
             "78739",
             "$500,000",
             "-2.5%",
             2019,
             500000,
             30.18328023911894,
             -97.89535088881057
            ],
            [
             "78741",
             "$346,450",
             "+15.7%",
             2019,
             346450,
             30.2284666065,
             -97.716411781625
            ],
            [
             "78744",
             "$250,000",
             "+10.6%",
             2019,
             250000,
             30.181604127058826,
             -97.73733556405882
            ],
            [
             "78745",
             "$338,000",
             "+2.7%",
             2019,
             338000,
             30.20587056025641,
             -97.8001814623077
            ],
            [
             "78746",
             "$960,000",
             "-15.3%",
             2019,
             960000,
             30.296332877285717,
             -97.80570046614285
            ],
            [
             "78747",
             "$275,000",
             "+7.8%",
             2019,
             274999.5,
             30.14785769492424,
             -97.7618844584091
            ],
            [
             "78748",
             "$300,000",
             "+0.2%",
             2019,
             300000,
             30.166736915966183,
             -97.82586216584541
            ],
            [
             "78749",
             "$385,000",
             "+1.3%",
             2019,
             385000,
             30.21043422760148,
             -97.86168375036901
            ],
            [
             "78750",
             "$595,000",
             "+8.2%",
             2019,
             595000,
             30.417820473697482,
             -97.79828829747899
            ],
            [
             "78751",
             "$449,900",
             "-16.7%",
             2019,
             449900,
             30.31161947111111,
             -97.72083863793651
            ],
            [
             "78752",
             "$340,000",
             "+1.5%",
             2019,
             340000,
             30.332190513571426,
             -97.70383317089285
            ],
            [
             "78753",
             "$269,900",
             "+8.0%",
             2019,
             269900,
             30.375095506201117,
             -97.67291984335196
            ],
            [
             "78754",
             "$249,998",
             "+0.0%",
             2019,
             249998.5,
             30.35812394236842,
             -97.63217795539474
            ],
            [
             "78756",
             "$600,000",
             "+2.2%",
             2019,
             600000,
             30.322216831818185,
             -97.74051555363636
            ],
            [
             "78757",
             "$449,750",
             "-2.1%",
             2019,
             449750,
             30.35013376,
             -97.73070494303572
            ],
            [
             "78758",
             "$329,950",
             "+6.8%",
             2019,
             329950,
             30.38077274958333,
             -97.70157093513889
            ],
            [
             "78759",
             "$514,950",
             "+7.3%",
             2019,
             514950,
             30.40462828665,
             -97.7568265533
            ]
           ],
           "hovertemplate": "<b>%{hovertext}</b><br><br>Year=%{customdata[3]}<br>ZIP Code=%{customdata[0]}<br>Median Price=%{customdata[1]}<br>YoY Change=%{customdata[2]}<extra></extra>",
           "hovertext": [
            "78617",
            "78619",
            "78653",
            "78660",
            "78701",
            "78702",
            "78703",
            "78704",
            "78705",
            "78717",
            "78721",
            "78722",
            "78723",
            "78724",
            "78725",
            "78726",
            "78727",
            "78728",
            "78729",
            "78730",
            "78731",
            "78732",
            "78733",
            "78734",
            "78735",
            "78736",
            "78737",
            "78738",
            "78739",
            "78741",
            "78744",
            "78745",
            "78746",
            "78747",
            "78748",
            "78749",
            "78750",
            "78751",
            "78752",
            "78753",
            "78754",
            "78756",
            "78757",
            "78758",
            "78759"
           ],
           "lat": {
            "bdata": "u1W8aPspPkAVx0qVcSM+QKTS/O+QVD5AlNUD0O1qPkDrxv0/NUg+QGSWXAjWQz5AkBOP6hxLPkAZNbyFcD4+QAqzh/iySz5Ax+tcxv5+PkDhR4Oj/UU+QIPS78SHST5AWeAKrIxOPkBQCiXfZ0k+QMLQNHKnPD5A/VeqykNtPkAj5zTimmw+QHFRftBRcz5AgEJ9MgB0PkCLLZzfR10+QKPYsddiWD5A5dq51RddPkDDsciAtlM+QG/h7f/rXj5AoV68X2NDPkAOv5Sbkz0+QGSp1qZ+MD5AW7sG4BMxPkDXBCl06y4+QEYlm8l8Oj5ASomqm30uPkCvgtvuszQ+QPersHjcSz5AXCl8ANolPkBUHEFFryo+QOOBfQTfNT5AQiFWSPZqPkATOC1Lxk8+QKrU/28KVT5ApwJUQgZgPkAPY7wCrls+QD3hYs18Uj5A7my4XaJZPkAcq6pSemE+QMEyKriVZz5A",
            "dtype": "f8"
           },
           "legendgroup": "",
           "lon": {
            "bdata": "ubYXnZ1oWMDRPv4fWX5YwE7+/v+FZljAxw0BuGBpWMAN1f//4G9YwHV3Ih3PbVjA+5pSie9wWMBTFw4Z43BYwEv7ZmY6b1jAChQjqthwWMCejQBQ1mtYwH3qo+HDbVjAZrC6auNrWMCRqr6YRmhYwPVXe8plZljAsyj0iZx1WMC7UbKrVW1YwHIm4QOsa1jA9QXL7SlxWMD3gvDU4XVYwMWcNbIKcVjA0RM2BJd5WMDkjF15zXdYwMfUAiCTeljA1FlmQgt3WMCmZmmkgXlYwJSatcdffljAojn8fyZvWMCzeNBtTXlYwBojzbDZbVjA3XOBgTBvWMCI3k4sNnNYwCcdsJiQc1jAqAwIt8JwWMDTU/zs2nRYwBfVmdMld1jA6pzMJxdzWMBa6GE4Im5YwMm0SJoLbVjArAFkHhFrWMAL64aadWhYwApDWZtkb1jAS1eq3sNuWMC5j8eJ5mxYwL/Ko9hvcFjA",
            "dtype": "f8"
           },
           "marker": {
            "color": {
             "bdata": "AAAAAEAGCUEAAAAADvUlQQAAAACwkxZBAAAAACgbEkEAAAAALKpKQQAAAACgYRxBAAAAAHBdLkEAAAAAOEklQQAAAABsUCFBAAAAAABqGEEAAAAAIFkTQQAAAACg8BlBAAAAAFBlGEEAAAAA4EgNQQAAAAAQ9QhBAAAAAABMHUEAAAAAQJUWQQAAAABsTxJBAAAAAOAzFEEAAAAAKLMqQQAAAAAQICZBAAAAAICEHkEAAAAAYOMmQQAAAACYFTtBAAAAABxPIkEAAAAA4CEXQQAAAADg/RxBAAAAAFBFJUEAAAAAgIQeQQAAAABIJRVBAAAAAICEDkEAAAAAQKEUQQAAAAAATC1BAAAAAN7IEEEAAAAAgE8SQQAAAACgfxdBAAAAAHAoIkEAAAAAsHUbQQAAAACAwBRBAAAAADB5EEEAAAAAdIQOQQAAAACATyJBAAAAAFhzG0EAAAAAeCMUQQAAAAAYbh9B",
             "dtype": "f8"
            },
            "coloraxis": "coloraxis",
            "size": {
             "bdata": "AAAAAEAGCUEAAAAADvUlQQAAAACwkxZBAAAAACgbEkEAAAAALKpKQQAAAACgYRxBAAAAAHBdLkEAAAAAOEklQQAAAABsUCFBAAAAAABqGEEAAAAAIFkTQQAAAACg8BlBAAAAAFBlGEEAAAAA4EgNQQAAAAAQ9QhBAAAAAABMHUEAAAAAQJUWQQAAAABsTxJBAAAAAOAzFEEAAAAAKLMqQQAAAAAQICZBAAAAAICEHkEAAAAAYOMmQQAAAACYFTtBAAAAABxPIkEAAAAA4CEXQQAAAADg/RxBAAAAAFBFJUEAAAAAgIQeQQAAAABIJRVBAAAAAICEDkEAAAAAQKEUQQAAAAAATC1BAAAAAN7IEEEAAAAAgE8SQQAAAACgfxdBAAAAAHAoIkEAAAAAsHUbQQAAAACAwBRBAAAAADB5EEEAAAAAdIQOQQAAAACATyJBAAAAAFhzG0EAAAAAeCMUQQAAAAAYbh9B",
             "dtype": "f8"
            },
            "sizemode": "area",
            "sizeref": 2184.375
           },
           "mode": "markers",
           "name": "",
           "showlegend": false,
           "subplot": "mapbox",
           "type": "scattermapbox"
          }
         ],
         "name": "2019"
        },
        {
         "data": [
          {
           "customdata": [
            [
             "78617",
             "$200,000",
             "-2.4%",
             2020,
             200000,
             30.162965607826084,
             -97.63378143304348
            ],
            [
             "78619",
             "$720,000",
             "+0.1%",
             2020,
             720000,
             30.133124923999997,
             -97.97828064000001
            ],
            [
             "78652",
             "$360,930",
             "N/A",
             2020,
             360929.5,
             30.1474714275,
             -97.8463630675
            ],
            [
             "78653",
             "$297,490",
             "-19.6%",
             2020,
             297490,
             30.36612797,
             -97.605876925
            ],
            [
             "78660",
             "$299,945",
             "+1.1%",
             2020,
             299945,
             30.42385447125,
             -97.651443958125
            ],
            [
             "78702",
             "$515,000",
             "+10.8%",
             2020,
             515000,
             30.26573629562914,
             -97.71476088768212
            ],
            [
             "78703",
             "$1,035,000",
             "+4.0%",
             2020,
             1035000,
             30.29508124957895,
             -97.76379490936841
            ],
            [
             "78704",
             "$749,700",
             "+7.5%",
             2020,
             749700,
             30.243444017263517,
             -97.76370270202702
            ],
            [
             "78705",
             "$777,000",
             "+37.0%",
             2020,
             777000,
             30.294882536875,
             -97.737753390625
            ],
            [
             "78717",
             "$437,450",
             "+9.4%",
             2020,
             437450,
             30.496102535294117,
             -97.76353046229413
            ],
            [
             "78719",
             "$251,950",
             "+0.8%",
             2020,
             251950,
             30.13666296,
             -97.69124221749999
            ],
            [
             "78721",
             "$359,500",
             "+13.4%",
             2020,
             359500,
             30.275326148823527,
             -97.68585953049019
            ],
            [
             "78722",
             "$500,000",
             "+17.6%",
             2020,
             500000,
             30.289433855757576,
             -97.71400729121213
            ],
            [
             "78723",
             "$449,900",
             "+12.6%",
             2020,
             449900,
             30.30537269215859,
             -97.68482702277532
            ],
            [
             "78724",
             "$296,250",
             "+23.5%",
             2020,
             296250,
             30.293769287875,
             -97.63658809674999
            ],
            [
             "78725",
             "$221,000",
             "+8.1%",
             2020,
             221000,
             30.242308636078434,
             -97.60931635901962
            ],
            [
             "78726",
             "$527,500",
             "+9.9%",
             2020,
             527500,
             30.428139289166666,
             -97.83755026902777
            ],
            [
             "78727",
             "$405,000",
             "+9.5%",
             2020,
             405000,
             30.42504649554054,
             -97.70976381060811
            ],
            [
             "78728",
             "$335,000",
             "+11.7%",
             2020,
             335000,
             30.45001259292135,
             -97.68200289258428
            ],
            [
             "78729",
             "$376,000",
             "+13.6%",
             2020,
             376000,
             30.45393868636364,
             -97.76640250515152
            ],
            [
             "78730",
             "$925,000",
             "+5.7%",
             2020,
             925000,
             30.36360361337079,
             -97.84103582134831
            ],
            [
             "78731",
             "$799,500",
             "+10.3%",
             2020,
             799500,
             30.34452982640244,
             -97.76690636615854
            ],
            [
             "78732",
             "$584,950",
             "+17.0%",
             2020,
             584950,
             30.365545555740738,
             -97.89947749939815
            ],
            [
             "78733",
             "$804,995",
             "+7.3%",
             2020,
             804995,
             30.327297731060604,
             -97.87236115469696
            ],
            [
             "78734",
             "$1,325,000",
             "-25.4%",
             2020,
             1325000,
             30.359313489999998,
             -97.9233264925
            ],
            [
             "78735",
             "$680,580",
             "+13.4%",
             2020,
             680580,
             30.261598648064517,
             -97.85684015473119
            ],
            [
             "78736",
             "$387,000",
             "+2.1%",
             2020,
             387000,
             30.24000116085714,
             -97.897175162
            ],
            [
             "78737",
             "$520,000",
             "+9.5%",
             2020,
             520000,
             30.187095961478597,
             -97.9761245670428
            ],
            [
             "78739",
             "$559,900",
             "+12.0%",
             2020,
             559900,
             30.1847215937,
             -97.8951921842
            ],
            [
             "78741",
             "$376,500",
             "+8.7%",
             2020,
             376500,
             30.22904214139535,
             -97.71406546337211
            ],
            [
             "78742",
             "$222,450",
             "+12.6%",
             2020,
             222450,
             30.223043445000002,
             -97.67367935
            ],
            [
             "78744",
             "$294,000",
             "+17.6%",
             2020,
             294000,
             30.179325103367876,
             -97.73618490559585
            ],
            [
             "78745",
             "$380,000",
             "+12.4%",
             2020,
             380000,
             30.20559300987593,
             -97.80199337739454
            ],
            [
             "78746",
             "$1,295,000",
             "+34.9%",
             2020,
             1295000,
             30.295670003125,
             -97.80318379453125
            ],
            [
             "78747",
             "$295,000",
             "+7.3%",
             2020,
             295000,
             30.14746380556391,
             -97.76339343090225
            ],
            [
             "78748",
             "$329,900",
             "+10.0%",
             2020,
             329900,
             30.167990621018955,
             -97.82487173232228
            ],
            [
             "78749",
             "$425,000",
             "+10.4%",
             2020,
             425000,
             30.21067841750943,
             -97.86156696811321
            ],
            [
             "78750",
             "$615,000",
             "+3.4%",
             2020,
             615000,
             30.420993368857143,
             -97.80105300228571
            ],
            [
             "78751",
             "$485,000",
             "+7.8%",
             2020,
             484999.5,
             30.31106210685185,
             -97.72218280407407
            ],
            [
             "78752",
             "$400,000",
             "+17.6%",
             2020,
             400000,
             30.33274415191489,
             -97.70686389042552
            ],
            [
             "78753",
             "$309,000",
             "+14.5%",
             2020,
             309000,
             30.37880758648,
             -97.66912768464
            ],
            [
             "78754",
             "$269,262",
             "+7.7%",
             2020,
             269262.5,
             30.356909058454544,
             -97.63126796363636
            ],
            [
             "78756",
             "$615,000",
             "+2.5%",
             2020,
             615000,
             30.322860754509804,
             -97.74032054235293
            ],
            [
             "78757",
             "$520,000",
             "+15.6%",
             2020,
             520000,
             30.348821110890054,
             -97.73127482989528
            ],
            [
             "78758",
             "$379,900",
             "+15.1%",
             2020,
             379900,
             30.379536676312053,
             -97.70151086914895
            ],
            [
             "78759",
             "$500,000",
             "-2.9%",
             2020,
             500000,
             30.407784263076923,
             -97.75689684708792
            ]
           ],
           "hovertemplate": "<b>%{hovertext}</b><br><br>Year=%{customdata[3]}<br>ZIP Code=%{customdata[0]}<br>Median Price=%{customdata[1]}<br>YoY Change=%{customdata[2]}<extra></extra>",
           "hovertext": [
            "78617",
            "78619",
            "78652",
            "78653",
            "78660",
            "78702",
            "78703",
            "78704",
            "78705",
            "78717",
            "78719",
            "78721",
            "78722",
            "78723",
            "78724",
            "78725",
            "78726",
            "78727",
            "78728",
            "78729",
            "78730",
            "78731",
            "78732",
            "78733",
            "78734",
            "78735",
            "78736",
            "78737",
            "78739",
            "78741",
            "78742",
            "78744",
            "78745",
            "78746",
            "78747",
            "78748",
            "78749",
            "78750",
            "78751",
            "78752",
            "78753",
            "78754",
            "78756",
            "78757",
            "78758",
            "78759"
           ],
           "lat": {
            "bdata": "XfwzHbgpPkDL3Jp5FCI+QPo0/q/AJT5ABk0JkLpdPkA5SAS6gWw+QFwWO0sHRD5AuprccYpLPkC9jdxYUj4+QCYKBGx9Sz5ACY1kkwB/PkBJxv9X/CI+QEHuRMZ7Rj5Af9VQVhhKPkCh6Z3nLE4+QAr+y3Y0Sz5AyH5T8Ac+PkCAGlWJmm0+QEOg3djPbD5Ap2J5BjRzPkAvUmRTNXQ+QI0iXCAVXT5AIeVQGzNYPkDIGr9klF0+QNb1usjJUz5Axo8I+PtbPkBrHQYh+EI+QCriULdwPT5ApsNbheUvPkB3zhPqSS8+QOeyeoGiOj5AuNwNYBk5PkAdUf4/6C0+QA20Vb6hND5AgdSBB7FLPkCePR4wwCU+QKdP724BKz5AES1RBe81PkAFE684xms+QBz0J8ShTz5A42iCuC5VPkCGaLOI+WA+QFu1XWReWz5AEMidAKdSPkBbbR9XTFk+QI9kzFApYT5AJb2pjGRoPkA=",
            "dtype": "f8"
           },
           "legendgroup": "",
           "lon": {
            "bdata": "9u7/349oWMAKx2YmnH5YwBrd/88qdljAq5ECsMZmWMC31P9BsWlYwH9Dc6S+bVjArCULBOJwWMCqREyB4HBYwNdP/1k3b1jAZUPfrt1wWMC6cf9PPWxYwL1GXx/la1jAJTejS7JtWMAsj7g01GtYwBokANy9aFjADboKCv9mWMC9jnFsmnVYwI6cMMVsbVjAUtt176VrWMCwzBe9DHFYwCfd6IfTdVjAsG9w/hRxWMDJ2RIKkXlYwFpu4cPUd1jAWDQAyBd7WMAVnhZ41nZYwLTkXlFreVjAWBEt03h+WMCGsSjUSnlYwLkYoT+zbVjAZQ/+jx1rWMD0VUunHW9YwCnhB9xTc1jAF4wAXWdzWMA27R5w23BYwAVuzrLKdFjADNfH6SN3WMCBy89zRHNYwNROOT44bljAdgYLQj1tWMAhmOz80mpYwCq1vrFmaFjAn31paWFvWMBysvE0zW5YwCEy2I3lbFjACix5/3BwWMA=",
            "dtype": "f8"
           },
           "marker": {
            "color": {
             "bdata": "AAAAAABqCEEAAAAAAPklQQAAAACGBxZBAAAAAEgoEkEAAAAApE4SQQAAAADgbh9BAAAAAPCVL0EAAAAACOEmQQAAAABQtidBAAAAACizGkEAAAAAcMEOQQAAAAAw8RVBAAAAAICEHkEAAAAAsHUbQQAAAADoFBJBAAAAAED6CkEAAAAAGBkgQQAAAAAguBhBAAAAAGByFEEAAAAAAPMWQQAAAACQOixBAAAAABhmKEEAAAAA7NkhQQAAAAAGkShBAAAAAMg3NEEAAAAACMUkQQAAAADgnhdBAAAAAAC9H0EAAAAAOBYhQQAAAADQ+hZBAAAAAJAnC0EAAAAAwPERQQAAAACAMRdBAAAAAJjCM0EAAAAAYAESQQAAAACwIhRBAAAAAKDwGUEAAAAAsMQiQQAAAAAemh1BAAAAAABqGEEAAAAAINwSQQAAAAA6bxBBAAAAALDEIkEAAAAAAL0fQQAAAADwLxdBAAAAAICEHkE=",
             "dtype": "f8"
            },
            "coloraxis": "coloraxis",
            "size": {
             "bdata": "AAAAAABqCEEAAAAAAPklQQAAAACGBxZBAAAAAEgoEkEAAAAApE4SQQAAAADgbh9BAAAAAPCVL0EAAAAACOEmQQAAAABQtidBAAAAACizGkEAAAAAcMEOQQAAAAAw8RVBAAAAAICEHkEAAAAAsHUbQQAAAADoFBJBAAAAAED6CkEAAAAAGBkgQQAAAAAguBhBAAAAAGByFEEAAAAAAPMWQQAAAACQOixBAAAAABhmKEEAAAAA7NkhQQAAAAAGkShBAAAAAMg3NEEAAAAACMUkQQAAAADgnhdBAAAAAAC9H0EAAAAAOBYhQQAAAADQ+hZBAAAAAJAnC0EAAAAAwPERQQAAAACAMRdBAAAAAJjCM0EAAAAAYAESQQAAAACwIhRBAAAAAKDwGUEAAAAAsMQiQQAAAAAemh1BAAAAAABqGEEAAAAAINwSQQAAAAA6bxBBAAAAALDEIkEAAAAAAL0fQQAAAADwLxdBAAAAAICEHkE=",
             "dtype": "f8"
            },
            "sizemode": "area",
            "sizeref": 2184.375
           },
           "mode": "markers",
           "name": "",
           "showlegend": false,
           "subplot": "mapbox",
           "type": "scattermapbox"
          }
         ],
         "name": "2020"
        },
        {
         "data": [
          {
           "customdata": [
            [
             "78617",
             "$137,500",
             "-31.2%",
             2021,
             137500,
             30.16057587,
             -97.63908386
            ],
            [
             "78701",
             "$1,049,000",
             "-70.0%",
             2021,
             1049000,
             30.26563454,
             -97.73778534
            ],
            [
             "78702",
             "$332,500",
             "-35.4%",
             2021,
             332500,
             30.271818479999997,
             -97.70602671166667
            ],
            [
             "78703",
             "$1,389,000",
             "+34.2%",
             2021,
             1389000,
             30.287574766666665,
             -97.76017507
            ],
            [
             "78704",
             "$875,000",
             "+16.7%",
             2021,
             875000,
             30.24475915,
             -97.76056344142856
            ],
            [
             "78717",
             "$494,000",
             "+12.9%",
             2021,
             494000,
             30.50087547,
             -97.74420166
            ],
            [
             "78721",
             "$654,500",
             "+82.1%",
             2021,
             654500,
             30.276261329999997,
             -97.68465805
            ],
            [
             "78722",
             "$555,000",
             "+11.0%",
             2021,
             555000,
             30.29300499,
             -97.711738585
            ],
            [
             "78723",
             "$553,500",
             "+23.0%",
             2021,
             553500,
             30.298863412499998,
             -97.69314766
            ],
            [
             "78725",
             "$310,000",
             "+40.3%",
             2021,
             310000,
             30.21955872,
             -97.63343048
            ],
            [
             "78726",
             "$559,000",
             "+6.0%",
             2021,
             559000,
             30.40934753,
             -97.84365845
            ],
            [
             "78727",
             "$450,000",
             "+11.1%",
             2021,
             450000,
             30.4239029875,
             -97.70839882
            ],
            [
             "78728",
             "$427,750",
             "+27.7%",
             2021,
             427750,
             30.46616745,
             -97.68291473
            ],
            [
             "78730",
             "$470,900",
             "-49.1%",
             2021,
             470900,
             30.37883186,
             -97.80561829
            ],
            [
             "78731",
             "$1,172,000",
             "+46.6%",
             2021,
             1172000,
             30.367198945,
             -97.77576828
            ],
            [
             "78732",
             "$817,000",
             "+39.7%",
             2021,
             817000,
             30.3770046225,
             -97.90053749
            ],
            [
             "78733",
             "$789,000",
             "-2.0%",
             2021,
             789000,
             30.33516693,
             -97.85942841
            ],
            [
             "78735",
             "$1,125,000",
             "+65.3%",
             2021,
             1125000,
             30.28198687,
             -97.87488047333333
            ],
            [
             "78736",
             "$569,000",
             "+47.0%",
             2021,
             569000,
             30.2455349,
             -97.89753723
            ],
            [
             "78737",
             "$520,000",
             "N/A",
             2021,
             520000,
             30.17936707,
             -97.99307251
            ],
            [
             "78741",
             "$435,000",
             "+15.5%",
             2021,
             435000,
             30.229841866666664,
             -97.70665740666668
            ],
            [
             "78744",
             "$265,000",
             "-9.9%",
             2021,
             265000,
             30.177573205,
             -97.746078495
            ],
            [
             "78745",
             "$432,500",
             "+13.8%",
             2021,
             432500,
             30.21421814,
             -97.7944488525
            ],
            [
             "78746",
             "$1,099,000",
             "-15.1%",
             2021,
             1099000,
             30.304020880000003,
             -97.812488555
            ],
            [
             "78747",
             "$315,000",
             "+6.8%",
             2021,
             315000,
             30.1361351,
             -97.76929474
            ],
            [
             "78748",
             "$339,000",
             "+2.8%",
             2021,
             339000,
             30.172422792,
             -97.835487366
            ],
            [
             "78749",
             "$520,000",
             "+22.4%",
             2021,
             520000,
             30.19924863,
             -97.86305745333334
            ],
            [
             "78750",
             "$575,000",
             "-6.5%",
             2021,
             575000,
             30.43397141,
             -97.8055191
            ],
            [
             "78751",
             "$600,000",
             "+23.7%",
             2021,
             600000,
             30.311323166666668,
             -97.72275543333335
            ],
            [
             "78752",
             "$264,000",
             "-34.0%",
             2021,
             264000,
             30.32569122,
             -97.72068024
            ],
            [
             "78753",
             "$304,950",
             "-1.3%",
             2021,
             304950,
             30.390242575000002,
             -97.66649246
            ],
            [
             "78754",
             "$319,900",
             "+18.8%",
             2021,
             319900,
             30.36708577666667,
             -97.65029398333333
            ],
            [
             "78757",
             "$139,999",
             "-73.1%",
             2021,
             139999,
             30.36371803,
             -97.7274704
            ],
            [
             "78758",
             "$435,000",
             "+14.5%",
             2021,
             435000,
             30.36621983666667,
             -97.70509846666666
            ],
            [
             "78759",
             "$597,000",
             "+19.4%",
             2021,
             597000,
             30.416955950000002,
             -97.75852584500001
            ]
           ],
           "hovertemplate": "<b>%{hovertext}</b><br><br>Year=%{customdata[3]}<br>ZIP Code=%{customdata[0]}<br>Median Price=%{customdata[1]}<br>YoY Change=%{customdata[2]}<extra></extra>",
           "hovertext": [
            "78617",
            "78701",
            "78702",
            "78703",
            "78704",
            "78717",
            "78721",
            "78722",
            "78723",
            "78725",
            "78726",
            "78727",
            "78728",
            "78730",
            "78731",
            "78732",
            "78733",
            "78735",
            "78736",
            "78737",
            "78741",
            "78744",
            "78745",
            "78746",
            "78747",
            "78748",
            "78749",
            "78750",
            "78751",
            "78752",
            "78753",
            "78754",
            "78757",
            "78758",
            "78759"
           ],
           "lat": {
            "bdata": "Py0OgBspPkDu/A2gAEQ+QGUMWuWVRT5A+Pz5f55JPkCSpSCJqD4+QMUE8185gD5A3H8BELlGPkBknQFgAks+QJCoBlCCTD5AnfMRADU4PkBjDO7/ymg+QDz9++eEbD5AsDUAwFZ3PkACYvEf+2A+QJTmA8AAXj5ADRT8X4NgPkD8DPt/zVU+QCmNoEowSD5A0YYNYNs+PkAdoRMA6y0+QL2VpOrWOj5A9B4EcHUtPkCMggEA1zY+QLLm+E/UTT5Ac1b6v9kiPkCauWzmIyw+QHCfTfUBMz5AWVkVwBhvPkAMUgPgsk8+QI1+8n9gUz5AwCH57+ZjPkAwnF1V+V0+QMjQ858cXT5AO6FNlcBdPkBkHwmgvWo+QA==",
            "dtype": "f8"
           },
           "legendgroup": "",
           "lon": {
            "bdata": "fob9v+ZoWMArsQDgN29YwH0tqYovbVjAnDhWtaZwWMAC3kgSrXBYwA3V//+gb1jAXGz/b9FrWMAWeP4fjW1YwO6/AIhcbFjA7/j+H4poWMCf7wKA/nVYwDMbAWhWbVjAoNP737RrWMABJwRAj3NYwPL3/y+mcVjAzhf/Z6J5WMADjQTgAHdYwAs4qwr+d1jAt3L+P3F5WMBtQACAjn9YwAPH/N85bVjAiBEEwL9vWMBD9f8/2HJYwFsG/8//c1jAO1IBIDxxWMA8TACgeHVYwLAoVFU8d1jAarP7n41zWMATSwGgQW5YwBlrA6AfbljAwq79z6dqWMDxzKdqnmlYwLczAuCObljAwbJRVSBtWMCIXPyvi3BYwA==",
            "dtype": "f8"
           },
           "marker": {
            "color": {
             "bdata": "AAAAAODIAEEAAAAAqAEwQQAAAABQSxRBAAAAAMgxNUEAAAAA8LMqQQAAAADAJh5BAAAAAEj5I0EAAAAA8O8gQQAAAAA45CBBAAAAAMDrEkEAAAAAMA8hQQAAAABAdxtBAAAAAJgbGkEAAAAA0L0cQQAAAAAg4jFBAAAAANDuKEEAAAAAEBQoQQAAAACIKjFBAAAAAFBdIUEAAAAAAL0fQQAAAADgjBpBAAAAAKAsEEEAAAAA0GUaQQAAAAD4xDBBAAAAAOA5E0EAAAAA4LAUQQAAAAAAvR9BAAAAADCMIUEAAAAAgE8iQQAAAAAAHRBBAAAAANicEkEAAAAAcIYTQQAAAAD4FgFBAAAAAOCMGkEAAAAAEDgiQQ==",
             "dtype": "f8"
            },
            "coloraxis": "coloraxis",
            "size": {
             "bdata": "AAAAAODIAEEAAAAAqAEwQQAAAABQSxRBAAAAAMgxNUEAAAAA8LMqQQAAAADAJh5BAAAAAEj5I0EAAAAA8O8gQQAAAAA45CBBAAAAAMDrEkEAAAAAMA8hQQAAAABAdxtBAAAAAJgbGkEAAAAA0L0cQQAAAAAg4jFBAAAAANDuKEEAAAAAEBQoQQAAAACIKjFBAAAAAFBdIUEAAAAAAL0fQQAAAADgjBpBAAAAAKAsEEEAAAAA0GUaQQAAAAD4xDBBAAAAAOA5E0EAAAAA4LAUQQAAAAAAvR9BAAAAADCMIUEAAAAAgE8iQQAAAAAAHRBBAAAAANicEkEAAAAAcIYTQQAAAAD4FgFBAAAAAOCMGkEAAAAAEDgiQQ==",
             "dtype": "f8"
            },
            "sizemode": "area",
            "sizeref": 2184.375
           },
           "mode": "markers",
           "name": "",
           "showlegend": false,
           "subplot": "mapbox",
           "type": "scattermapbox"
          }
         ],
         "name": "2021"
        }
       ],
       "layout": {
        "annotations": [
         {
          "align": "left",
          "bgcolor": "rgba(255, 255, 255, 0.8)",
          "bordercolor": "#333333",
          "borderpad": 8,
          "borderwidth": 1,
          "font": {
           "color": "#333333",
           "size": 11
          },
          "showarrow": false,
          "text": "Higher prices concentrated in West and Central Austin<br>East Austin shows significant growth trends",
          "x": 0.02,
          "xanchor": "left",
          "xref": "paper",
          "y": 0.98,
          "yanchor": "top",
          "yref": "paper"
         }
        ],
        "coloraxis": {
         "colorbar": {
          "len": 0.7,
          "orientation": "h",
          "thickness": 20,
          "title": {
           "side": "bottom",
           "text": "Median Home Price ($)"
          },
          "x": 0.5,
          "xanchor": "center",
          "y": -0.15,
          "yanchor": "bottom"
         },
         "colorscale": [
          [
           0,
           "#440154"
          ],
          [
           0.1111111111111111,
           "#482878"
          ],
          [
           0.2222222222222222,
           "#3e4989"
          ],
          [
           0.3333333333333333,
           "#31688e"
          ],
          [
           0.4444444444444444,
           "#26828e"
          ],
          [
           0.5555555555555556,
           "#1f9e89"
          ],
          [
           0.6666666666666666,
           "#35b779"
          ],
          [
           0.7777777777777778,
           "#6ece58"
          ],
          [
           0.8888888888888888,
           "#b5de2b"
          ],
          [
           1,
           "#fde725"
          ]
         ]
        },
        "height": 700,
        "legend": {
         "itemsizing": "constant",
         "tracegroupgap": 0
        },
        "mapbox": {
         "center": {
          "lat": 30.30088167848115,
          "lon": -97.76222093675798
         },
         "domain": {
          "x": [
           0,
           1
          ],
          "y": [
           0,
           1
          ]
         },
         "style": "carto-positron",
         "zoom": 9.5
        },
        "margin": {
         "b": 100,
         "l": 0,
         "r": 0,
         "t": 100
        },
        "sliders": [
         {
          "active": 0,
          "currentvalue": {
           "prefix": "Year="
          },
          "len": 0.9,
          "pad": {
           "b": 10,
           "t": 60
          },
          "steps": [
           {
            "args": [
             [
              "2018"
             ],
             {
              "frame": {
               "duration": 0,
               "redraw": true
              },
              "fromcurrent": true,
              "mode": "immediate",
              "transition": {
               "duration": 0,
               "easing": "linear"
              }
             }
            ],
            "label": "2018",
            "method": "animate"
           },
           {
            "args": [
             [
              "2019"
             ],
             {
              "frame": {
               "duration": 0,
               "redraw": true
              },
              "fromcurrent": true,
              "mode": "immediate",
              "transition": {
               "duration": 0,
               "easing": "linear"
              }
             }
            ],
            "label": "2019",
            "method": "animate"
           },
           {
            "args": [
             [
              "2020"
             ],
             {
              "frame": {
               "duration": 0,
               "redraw": true
              },
              "fromcurrent": true,
              "mode": "immediate",
              "transition": {
               "duration": 0,
               "easing": "linear"
              }
             }
            ],
            "label": "2020",
            "method": "animate"
           },
           {
            "args": [
             [
              "2021"
             ],
             {
              "frame": {
               "duration": 0,
               "redraw": true
              },
              "fromcurrent": true,
              "mode": "immediate",
              "transition": {
               "duration": 0,
               "easing": "linear"
              }
             }
            ],
            "label": "2021",
            "method": "animate"
           }
          ],
          "x": 0.1,
          "xanchor": "left",
          "y": 0,
          "yanchor": "top"
         }
        ],
        "template": {
         "data": {
          "bar": [
           {
            "error_x": {
             "color": "#2a3f5f"
            },
            "error_y": {
             "color": "#2a3f5f"
            },
            "marker": {
             "line": {
              "color": "#E5ECF6",
              "width": 0.5
             },
             "pattern": {
              "fillmode": "overlay",
              "size": 10,
              "solidity": 0.2
             }
            },
            "type": "bar"
           }
          ],
          "barpolar": [
           {
            "marker": {
             "line": {
              "color": "#E5ECF6",
              "width": 0.5
             },
             "pattern": {
              "fillmode": "overlay",
              "size": 10,
              "solidity": 0.2
             }
            },
            "type": "barpolar"
           }
          ],
          "carpet": [
           {
            "aaxis": {
             "endlinecolor": "#2a3f5f",
             "gridcolor": "white",
             "linecolor": "white",
             "minorgridcolor": "white",
             "startlinecolor": "#2a3f5f"
            },
            "baxis": {
             "endlinecolor": "#2a3f5f",
             "gridcolor": "white",
             "linecolor": "white",
             "minorgridcolor": "white",
             "startlinecolor": "#2a3f5f"
            },
            "type": "carpet"
           }
          ],
          "choropleth": [
           {
            "colorbar": {
             "outlinewidth": 0,
             "ticks": ""
            },
            "type": "choropleth"
           }
          ],
          "contour": [
           {
            "colorbar": {
             "outlinewidth": 0,
             "ticks": ""
            },
            "colorscale": [
             [
              0,
              "#0d0887"
             ],
             [
              0.1111111111111111,
              "#46039f"
             ],
             [
              0.2222222222222222,
              "#7201a8"
             ],
             [
              0.3333333333333333,
              "#9c179e"
             ],
             [
              0.4444444444444444,
              "#bd3786"
             ],
             [
              0.5555555555555556,
              "#d8576b"
             ],
             [
              0.6666666666666666,
              "#ed7953"
             ],
             [
              0.7777777777777778,
              "#fb9f3a"
             ],
             [
              0.8888888888888888,
              "#fdca26"
             ],
             [
              1,
              "#f0f921"
             ]
            ],
            "type": "contour"
           }
          ],
          "contourcarpet": [
           {
            "colorbar": {
             "outlinewidth": 0,
             "ticks": ""
            },
            "type": "contourcarpet"
           }
          ],
          "heatmap": [
           {
            "colorbar": {
             "outlinewidth": 0,
             "ticks": ""
            },
            "colorscale": [
             [
              0,
              "#0d0887"
             ],
             [
              0.1111111111111111,
              "#46039f"
             ],
             [
              0.2222222222222222,
              "#7201a8"
             ],
             [
              0.3333333333333333,
              "#9c179e"
             ],
             [
              0.4444444444444444,
              "#bd3786"
             ],
             [
              0.5555555555555556,
              "#d8576b"
             ],
             [
              0.6666666666666666,
              "#ed7953"
             ],
             [
              0.7777777777777778,
              "#fb9f3a"
             ],
             [
              0.8888888888888888,
              "#fdca26"
             ],
             [
              1,
              "#f0f921"
             ]
            ],
            "type": "heatmap"
           }
          ],
          "histogram": [
           {
            "marker": {
             "pattern": {
              "fillmode": "overlay",
              "size": 10,
              "solidity": 0.2
             }
            },
            "type": "histogram"
           }
          ],
          "histogram2d": [
           {
            "colorbar": {
             "outlinewidth": 0,
             "ticks": ""
            },
            "colorscale": [
             [
              0,
              "#0d0887"
             ],
             [
              0.1111111111111111,
              "#46039f"
             ],
             [
              0.2222222222222222,
              "#7201a8"
             ],
             [
              0.3333333333333333,
              "#9c179e"
             ],
             [
              0.4444444444444444,
              "#bd3786"
             ],
             [
              0.5555555555555556,
              "#d8576b"
             ],
             [
              0.6666666666666666,
              "#ed7953"
             ],
             [
              0.7777777777777778,
              "#fb9f3a"
             ],
             [
              0.8888888888888888,
              "#fdca26"
             ],
             [
              1,
              "#f0f921"
             ]
            ],
            "type": "histogram2d"
           }
          ],
          "histogram2dcontour": [
           {
            "colorbar": {
             "outlinewidth": 0,
             "ticks": ""
            },
            "colorscale": [
             [
              0,
              "#0d0887"
             ],
             [
              0.1111111111111111,
              "#46039f"
             ],
             [
              0.2222222222222222,
              "#7201a8"
             ],
             [
              0.3333333333333333,
              "#9c179e"
             ],
             [
              0.4444444444444444,
              "#bd3786"
             ],
             [
              0.5555555555555556,
              "#d8576b"
             ],
             [
              0.6666666666666666,
              "#ed7953"
             ],
             [
              0.7777777777777778,
              "#fb9f3a"
             ],
             [
              0.8888888888888888,
              "#fdca26"
             ],
             [
              1,
              "#f0f921"
             ]
            ],
            "type": "histogram2dcontour"
           }
          ],
          "mesh3d": [
           {
            "colorbar": {
             "outlinewidth": 0,
             "ticks": ""
            },
            "type": "mesh3d"
           }
          ],
          "parcoords": [
           {
            "line": {
             "colorbar": {
              "outlinewidth": 0,
              "ticks": ""
             }
            },
            "type": "parcoords"
           }
          ],
          "pie": [
           {
            "automargin": true,
            "type": "pie"
           }
          ],
          "scatter": [
           {
            "fillpattern": {
             "fillmode": "overlay",
             "size": 10,
             "solidity": 0.2
            },
            "type": "scatter"
           }
          ],
          "scatter3d": [
           {
            "line": {
             "colorbar": {
              "outlinewidth": 0,
              "ticks": ""
             }
            },
            "marker": {
             "colorbar": {
              "outlinewidth": 0,
              "ticks": ""
             }
            },
            "type": "scatter3d"
           }
          ],
          "scattercarpet": [
           {
            "marker": {
             "colorbar": {
              "outlinewidth": 0,
              "ticks": ""
             }
            },
            "type": "scattercarpet"
           }
          ],
          "scattergeo": [
           {
            "marker": {
             "colorbar": {
              "outlinewidth": 0,
              "ticks": ""
             }
            },
            "type": "scattergeo"
           }
          ],
          "scattergl": [
           {
            "marker": {
             "colorbar": {
              "outlinewidth": 0,
              "ticks": ""
             }
            },
            "type": "scattergl"
           }
          ],
          "scattermap": [
           {
            "marker": {
             "colorbar": {
              "outlinewidth": 0,
              "ticks": ""
             }
            },
            "type": "scattermap"
           }
          ],
          "scattermapbox": [
           {
            "marker": {
             "colorbar": {
              "outlinewidth": 0,
              "ticks": ""
             }
            },
            "type": "scattermapbox"
           }
          ],
          "scatterpolar": [
           {
            "marker": {
             "colorbar": {
              "outlinewidth": 0,
              "ticks": ""
             }
            },
            "type": "scatterpolar"
           }
          ],
          "scatterpolargl": [
           {
            "marker": {
             "colorbar": {
              "outlinewidth": 0,
              "ticks": ""
             }
            },
            "type": "scatterpolargl"
           }
          ],
          "scatterternary": [
           {
            "marker": {
             "colorbar": {
              "outlinewidth": 0,
              "ticks": ""
             }
            },
            "type": "scatterternary"
           }
          ],
          "surface": [
           {
            "colorbar": {
             "outlinewidth": 0,
             "ticks": ""
            },
            "colorscale": [
             [
              0,
              "#0d0887"
             ],
             [
              0.1111111111111111,
              "#46039f"
             ],
             [
              0.2222222222222222,
              "#7201a8"
             ],
             [
              0.3333333333333333,
              "#9c179e"
             ],
             [
              0.4444444444444444,
              "#bd3786"
             ],
             [
              0.5555555555555556,
              "#d8576b"
             ],
             [
              0.6666666666666666,
              "#ed7953"
             ],
             [
              0.7777777777777778,
              "#fb9f3a"
             ],
             [
              0.8888888888888888,
              "#fdca26"
             ],
             [
              1,
              "#f0f921"
             ]
            ],
            "type": "surface"
           }
          ],
          "table": [
           {
            "cells": {
             "fill": {
              "color": "#EBF0F8"
             },
             "line": {
              "color": "white"
             }
            },
            "header": {
             "fill": {
              "color": "#C8D4E3"
             },
             "line": {
              "color": "white"
             }
            },
            "type": "table"
           }
          ]
         },
         "layout": {
          "annotationdefaults": {
           "arrowcolor": "#2a3f5f",
           "arrowhead": 0,
           "arrowwidth": 1
          },
          "autotypenumbers": "strict",
          "coloraxis": {
           "colorbar": {
            "outlinewidth": 0,
            "ticks": ""
           }
          },
          "colorscale": {
           "diverging": [
            [
             0,
             "#8e0152"
            ],
            [
             0.1,
             "#c51b7d"
            ],
            [
             0.2,
             "#de77ae"
            ],
            [
             0.3,
             "#f1b6da"
            ],
            [
             0.4,
             "#fde0ef"
            ],
            [
             0.5,
             "#f7f7f7"
            ],
            [
             0.6,
             "#e6f5d0"
            ],
            [
             0.7,
             "#b8e186"
            ],
            [
             0.8,
             "#7fbc41"
            ],
            [
             0.9,
             "#4d9221"
            ],
            [
             1,
             "#276419"
            ]
           ],
           "sequential": [
            [
             0,
             "#0d0887"
            ],
            [
             0.1111111111111111,
             "#46039f"
            ],
            [
             0.2222222222222222,
             "#7201a8"
            ],
            [
             0.3333333333333333,
             "#9c179e"
            ],
            [
             0.4444444444444444,
             "#bd3786"
            ],
            [
             0.5555555555555556,
             "#d8576b"
            ],
            [
             0.6666666666666666,
             "#ed7953"
            ],
            [
             0.7777777777777778,
             "#fb9f3a"
            ],
            [
             0.8888888888888888,
             "#fdca26"
            ],
            [
             1,
             "#f0f921"
            ]
           ],
           "sequentialminus": [
            [
             0,
             "#0d0887"
            ],
            [
             0.1111111111111111,
             "#46039f"
            ],
            [
             0.2222222222222222,
             "#7201a8"
            ],
            [
             0.3333333333333333,
             "#9c179e"
            ],
            [
             0.4444444444444444,
             "#bd3786"
            ],
            [
             0.5555555555555556,
             "#d8576b"
            ],
            [
             0.6666666666666666,
             "#ed7953"
            ],
            [
             0.7777777777777778,
             "#fb9f3a"
            ],
            [
             0.8888888888888888,
             "#fdca26"
            ],
            [
             1,
             "#f0f921"
            ]
           ]
          },
          "colorway": [
           "#636efa",
           "#EF553B",
           "#00cc96",
           "#ab63fa",
           "#FFA15A",
           "#19d3f3",
           "#FF6692",
           "#B6E880",
           "#FF97FF",
           "#FECB52"
          ],
          "font": {
           "color": "#2a3f5f"
          },
          "geo": {
           "bgcolor": "white",
           "lakecolor": "white",
           "landcolor": "#E5ECF6",
           "showlakes": true,
           "showland": true,
           "subunitcolor": "white"
          },
          "hoverlabel": {
           "align": "left"
          },
          "hovermode": "closest",
          "mapbox": {
           "style": "light"
          },
          "paper_bgcolor": "white",
          "plot_bgcolor": "#E5ECF6",
          "polar": {
           "angularaxis": {
            "gridcolor": "white",
            "linecolor": "white",
            "ticks": ""
           },
           "bgcolor": "#E5ECF6",
           "radialaxis": {
            "gridcolor": "white",
            "linecolor": "white",
            "ticks": ""
           }
          },
          "scene": {
           "xaxis": {
            "backgroundcolor": "#E5ECF6",
            "gridcolor": "white",
            "gridwidth": 2,
            "linecolor": "white",
            "showbackground": true,
            "ticks": "",
            "zerolinecolor": "white"
           },
           "yaxis": {
            "backgroundcolor": "#E5ECF6",
            "gridcolor": "white",
            "gridwidth": 2,
            "linecolor": "white",
            "showbackground": true,
            "ticks": "",
            "zerolinecolor": "white"
           },
           "zaxis": {
            "backgroundcolor": "#E5ECF6",
            "gridcolor": "white",
            "gridwidth": 2,
            "linecolor": "white",
            "showbackground": true,
            "ticks": "",
            "zerolinecolor": "white"
           }
          },
          "shapedefaults": {
           "line": {
            "color": "#2a3f5f"
           }
          },
          "ternary": {
           "aaxis": {
            "gridcolor": "white",
            "linecolor": "white",
            "ticks": ""
           },
           "baxis": {
            "gridcolor": "white",
            "linecolor": "white",
            "ticks": ""
           },
           "bgcolor": "#E5ECF6",
           "caxis": {
            "gridcolor": "white",
            "linecolor": "white",
            "ticks": ""
           }
          },
          "title": {
           "x": 0.05
          },
          "xaxis": {
           "automargin": true,
           "gridcolor": "white",
           "linecolor": "white",
           "ticks": "",
           "title": {
            "standoff": 15
           },
           "zerolinecolor": "white",
           "zerolinewidth": 2
          },
          "yaxis": {
           "automargin": true,
           "gridcolor": "white",
           "linecolor": "white",
           "ticks": "",
           "title": {
            "standoff": 15
           },
           "zerolinecolor": "white",
           "zerolinewidth": 2
          }
         }
        },
        "title": {
         "font": {
          "color": "#333333",
          "size": 18
         },
         "text": "Geographic Distribution of Median Housing Prices in Austin, TX<br><sub>Circle size and color represent median home prices by ZIP code</sub>",
         "x": 0.5,
         "xanchor": "center"
        },
        "updatemenus": [
         {
          "buttons": [
           {
            "args": [
             null,
             {
              "frame": {
               "duration": 1000,
               "redraw": true
              },
              "fromcurrent": true,
              "mode": "immediate",
              "transition": {
               "duration": 500,
               "easing": "linear"
              }
             }
            ],
            "label": "&#9654;",
            "method": "animate"
           },
           {
            "args": [
             [
              null
             ],
             {
              "frame": {
               "duration": 0,
               "redraw": true
              },
              "fromcurrent": true,
              "mode": "immediate",
              "transition": {
               "duration": 0,
               "easing": "linear"
              }
             }
            ],
            "label": "&#9724;",
            "method": "animate"
           }
          ],
          "direction": "left",
          "pad": {
           "r": 10,
           "t": 70
          },
          "showactive": false,
          "type": "buttons",
          "x": 0.1,
          "xanchor": "right",
          "y": 0,
          "yanchor": "top"
         }
        ]
       }
      }
     },
     "metadata": {},
     "output_type": "display_data"
    }
   ],
   "source": [
    "# Create an alternative scatter mapbox visualization\n",
    "# This works better without GeoJSON data for ZIP boundaries\n",
    "fig = px.scatter_mapbox(\n",
    "    median_by_zip_year,\n",
    "    lat='latitude',\n",
    "    lon='longitude',\n",
    "    size='median_price',\n",
    "    color='median_price',\n",
    "    animation_frame='year',\n",
    "    hover_name='zipcode',\n",
    "    hover_data={\n",
    "        'zipcode': True,\n",
    "        'median_price_fmt': True,\n",
    "        'yoy_change_fmt': True,\n",
    "        'year': True,\n",
    "        'median_price': False,\n",
    "        'latitude': False,\n",
    "        'longitude': False\n",
    "    },\n",
    "    color_continuous_scale='Viridis',\n",
    "    size_max=40,\n",
    "    zoom=9.5,\n",
    "    mapbox_style='carto-positron',\n",
    "    labels={\n",
    "        'median_price': 'Median Home Price ($)',\n",
    "        'median_price_fmt': 'Median Price',\n",
    "        'yoy_change_fmt': 'YoY Change',\n",
    "        'zipcode': 'ZIP Code',\n",
    "        'year': 'Year'\n",
    "    }\n",
    ")\n",
    "\n",
    "# Update layout\n",
    "fig.update_layout(\n",
    "    title={\n",
    "        'text': 'Geographic Distribution of Median Housing Prices in Austin, TX<br><sub>Circle size and color represent median home prices by ZIP code</sub>',\n",
    "        'x': 0.5,\n",
    "        'xanchor': 'center',\n",
    "        'font': {'size': 18, 'color': '#333333'}\n",
    "    },\n",
    "    coloraxis_colorbar={\n",
    "        'title': {\n",
    "            'text': 'Median Home Price ($)',\n",
    "            'side': 'bottom'\n",
    "        },\n",
    "        'thickness': 20,\n",
    "        'len': 0.7,\n",
    "        'x': 0.5,\n",
    "        'xanchor': 'center',\n",
    "        'y': -0.15,\n",
    "        'yanchor': 'bottom',\n",
    "        'orientation': 'h'\n",
    "    },\n",
    "    height=700,\n",
    "    margin={'r': 0, 't': 100, 'l': 0, 'b': 100}\n",
    ")\n",
    "\n",
    "# Add annotation for key insight\n",
    "fig.add_annotation(\n",
    "    text='Higher prices concentrated in West and Central Austin<br>East Austin shows significant growth trends',\n",
    "    xref='paper',\n",
    "    yref='paper',\n",
    "    x=0.02,\n",
    "    y=0.98,\n",
    "    showarrow=False,\n",
    "    bgcolor='rgba(255, 255, 255, 0.8)',\n",
    "    bordercolor='#333333',\n",
    "    borderwidth=1,\n",
    "    borderpad=8,\n",
    "    font={'size': 11, 'color': '#333333'},\n",
    "    align='left',\n",
    "    xanchor='left',\n",
    "    yanchor='top'\n",
    ")\n",
    "\n",
    "# Configure animation settings\n",
    "fig.layout.updatemenus[0].buttons[0].args[1]['frame']['duration'] = 1000\n",
    "fig.layout.updatemenus[0].buttons[0].args[1]['transition']['duration'] = 500\n",
    "\n",
    "# Show the interactive map\n",
    "fig.show()"
   ]
  }
 ],
 "metadata": {
  "kernelspec": {
   "display_name": ".venv",
   "language": "python",
   "name": "python3"
  },
  "language_info": {
   "codemirror_mode": {
    "name": "ipython",
    "version": 3
   },
   "file_extension": ".py",
   "mimetype": "text/x-python",
   "name": "python",
   "nbconvert_exporter": "python",
   "pygments_lexer": "ipython3",
   "version": "3.12.3"
  }
 },
 "nbformat": 4,
 "nbformat_minor": 5
}

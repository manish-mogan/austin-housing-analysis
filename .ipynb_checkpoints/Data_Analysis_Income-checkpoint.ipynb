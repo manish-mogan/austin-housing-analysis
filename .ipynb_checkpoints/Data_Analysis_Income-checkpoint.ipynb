{
 "cells": [
  {
   "cell_type": "markdown",
   "id": "564f598f-127a-43c6-bde5-b50bb4203a08",
   "metadata": {},
   "source": [
    "## This file is the data analysis for Austin household income over several years\n",
    "Data source: https://datausa.io/profile/geo/austin-tx/?race-income-income_geo=incomeRace5"
   ]
  },
  {
   "cell_type": "code",
   "execution_count": 1,
   "id": "661d9a9e-fb62-4957-8ddc-69c3b0f473d7",
   "metadata": {},
   "outputs": [],
   "source": [
    "# Import Necessary Libraries\n",
    "import numpy as np\n",
    "import pandas as pd"
   ]
  },
  {
   "cell_type": "code",
   "execution_count": null,
   "id": "c08c683a-b4e4-4c92-8a42-1d18fd13429f",
   "metadata": {},
   "outputs": [],
   "source": [
    "# Load in data sets\n",
    "\n",
    "# Set names of data set files for local access\n",
    "path_1 = 'austin_household_income.csv'\n",
    "\n",
    "austin_housing1_df = pd.read_csv(path_1)"
   ]
  }
 ],
 "metadata": {
  "kernelspec": {
   "display_name": "Python 3 (ipykernel)",
   "language": "python",
   "name": "python3"
  },
  "language_info": {
   "codemirror_mode": {
    "name": "ipython",
    "version": 3
   },
   "file_extension": ".py",
   "mimetype": "text/x-python",
   "name": "python",
   "nbconvert_exporter": "python",
   "pygments_lexer": "ipython3",
   "version": "3.13.5"
  }
 },
 "nbformat": 4,
 "nbformat_minor": 5
}

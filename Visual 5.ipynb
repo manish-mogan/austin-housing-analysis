{
 "cells": [
  {
   "cell_type": "code",
   "execution_count": 5,
   "id": "e5ef8012",
   "metadata": {},
   "outputs": [
    {
     "data": {
      "text/plain": [
       "'\\n**Purpose:**  \\nThis visualization illustrates how Austin\\'s housing composition has shifted over time, with a declining share of owner-occupied homes and a corresponding rise in renter-occupied units. It supports our claim that increasing housing costs are making ownership less attainable for many residents.\\n\\n**Design & Interactivity:**  \\nWe use a Plotly line graph that plots the share of owner-occupied homes in Austin from 2013 to 2023. The x-axis represents the year, and the y-axis represents the percentage of owner-occupied housing. The chart includes hover functionality to display the exact percentage for each year, as well as zoom and pan features for exploring specific time periods. A range slider at the bottom of the chart allows users to focus on shorter or more recent periods, such as 2020–2023, where the decline is most noticeable.\\n\\n**Colors, Legends, and Annotations:**  \\nA single orange line represents the owner-occupied share, chosen for consistency with earlier visuals where orange signified ownership or higher value. A subtle gray dashed reference line marks 50%, visually indicating the threshold where renters would outnumber owners. The legend, labeled \"Owner-Occupied Share\", appears in the top-right corner for clarity. Annotations highlight key points in time, such as \"2016: steady ownership decline begins\" and \"2021: owner share drops below 50%,\" emphasizing the connection between rising home prices and reduced accessibility to ownership.'"
      ]
     },
     "execution_count": 5,
     "metadata": {},
     "output_type": "execute_result"
    }
   ],
   "source": [
    "# Visual 5: Homeownership Housing Trends in Austin\n",
    "'''\n",
    "**Purpose:**  \n",
    "This visualization illustrates how Austin's housing composition has shifted over time, with a declining share of owner-occupied homes and a corresponding rise in renter-occupied units. It supports our claim that increasing housing costs are making ownership less attainable for many residents.\n",
    "\n",
    "**Design & Interactivity:**  \n",
    "We use a Plotly line graph that plots the share of owner-occupied homes in Austin from 2013 to 2023. The x-axis represents the year, and the y-axis represents the percentage of owner-occupied housing. The chart includes hover functionality to display the exact percentage for each year, as well as zoom and pan features for exploring specific time periods. A range slider at the bottom of the chart allows users to focus on shorter or more recent periods, such as 2020–2023, where the decline is most noticeable.\n",
    "\n",
    "**Colors, Legends, and Annotations:**  \n",
    "A single orange line represents the owner-occupied share, chosen for consistency with earlier visuals where orange signified ownership or higher value. A subtle gray dashed reference line marks 50%, visually indicating the threshold where renters would outnumber owners. The legend, labeled \"Owner-Occupied Share\", appears in the top-right corner for clarity. Annotations highlight key points in time, such as \"2016: steady ownership decline begins\" and \"2021: owner share drops below 50%,\" emphasizing the connection between rising home prices and reduced accessibility to ownership.'''"
   ]
  },
  {
   "cell_type": "markdown",
   "id": "825f9d6c",
   "metadata": {},
   "source": [
    "## Import Required Libraries"
   ]
  },
  {
   "cell_type": "code",
   "execution_count": 6,
   "id": "719dd712",
   "metadata": {},
   "outputs": [],
   "source": [
    "import pandas as pd\n",
    "import plotly.graph_objects as go"
   ]
  },
  {
   "cell_type": "markdown",
   "id": "5222251b",
   "metadata": {},
   "source": [
    "## Load and Prepare Data"
   ]
  },
  {
   "cell_type": "code",
   "execution_count": 7,
   "id": "c5b66f33",
   "metadata": {},
   "outputs": [
    {
     "name": "stdout",
     "output_type": "stream",
     "text": [
      "Austin Owner-Occupied Housing Share (2013-2023)\n",
      "    Year  owner_pct\n",
      "0   2013  45.014225\n",
      "1   2014  44.848950\n",
      "2   2015  44.813280\n",
      "3   2016  45.276380\n",
      "4   2017  45.254763\n",
      "5   2018  45.185560\n",
      "6   2019  45.133704\n",
      "7   2020  45.511283\n",
      "8   2021  44.678945\n",
      "9   2022  44.443000\n",
      "10  2023  44.442577\n"
     ]
    }
   ],
   "source": [
    "# Load the rent/own data\n",
    "df = pd.read_csv('data files/austin_RentOwn_cleaned.csv')\n",
    "\n",
    "# Filter for Austin city only (not metro area or county)\n",
    "austin_data = df[df['Place ID'] == '16000US4805000'].copy()\n",
    "\n",
    "# Convert share to percentage\n",
    "austin_data['owner_pct'] = austin_data['share'] * 100\n",
    "\n",
    "# Sort by year\n",
    "austin_data = austin_data.sort_values('Year')\n",
    "\n",
    "# Display the data\n",
    "print(\"Austin Owner-Occupied Housing Share (2013-2023)\")\n",
    "print(austin_data[['Year', 'owner_pct']])"
   ]
  },
  {
   "cell_type": "markdown",
   "id": "ea559e33",
   "metadata": {},
   "source": [
    "## Create Interactive Line Chart"
   ]
  },
  {
   "cell_type": "code",
   "execution_count": 8,
   "id": "912bba6d",
   "metadata": {},
   "outputs": [
    {
     "data": {
      "application/vnd.plotly.v1+json": {
       "config": {
        "plotlyServerURL": "https://plot.ly"
       },
       "data": [
        {
         "hovertemplate": "<b>Year: %{x}</b><br>Owner-Occupied: %{y:.2f}%<extra></extra>",
         "line": {
          "color": "#FF8C42",
          "width": 3
         },
         "marker": {
          "color": "#FF8C42",
          "size": 8
         },
         "mode": "lines+markers",
         "name": "Owner-Occupied Share",
         "type": "scatter",
         "x": {
          "bdata": "3QfeB98H4AfhB+IH4wfkB+UH5gfnBw==",
          "dtype": "i2"
         },
         "y": {
          "bdata": "h4cJHtKBRkA/3zBhqmxGQDKdOpIZaEZA8kePbmCjRkBMd90UnKBGQCl2CmrAl0ZATb7xNx2RRkAp79i5ccFGQFDo3KznVkZAokpnObQ4RkBUAAJdpjhGQA==",
          "dtype": "f8"
         }
        },
        {
         "hovertemplate": "50% Threshold<extra></extra>",
         "line": {
          "color": "gray",
          "dash": "dash",
          "width": 2
         },
         "mode": "lines",
         "name": "50% Threshold",
         "type": "scatter",
         "x": [
          2013,
          2023
         ],
         "y": [
          50,
          50
         ]
        }
       ],
       "layout": {
        "annotations": [
         {
          "arrowcolor": "#FF8C42",
          "arrowhead": 2,
          "arrowsize": 1,
          "arrowwidth": 2,
          "ax": -80,
          "ay": -40,
          "bgcolor": "white",
          "bordercolor": "#FF8C42",
          "borderwidth": 2,
          "font": {
           "color": "black",
           "size": 11
          },
          "showarrow": true,
          "text": "2016: Steady ownership<br>decline begins",
          "x": 2016,
          "y": 45.27638036724228
         },
         {
          "arrowcolor": "#FF8C42",
          "arrowhead": 2,
          "arrowsize": 1,
          "arrowwidth": 2,
          "ax": 80,
          "ay": -40,
          "bgcolor": "white",
          "bordercolor": "#FF8C42",
          "borderwidth": 2,
          "font": {
           "color": "black",
           "size": 11
          },
          "showarrow": true,
          "text": "2021: Owner share<br>drops below 50%",
          "x": 2021,
          "y": 44.678945167412735
         }
        ],
        "height": 600,
        "hovermode": "x unified",
        "legend": {
         "bgcolor": "rgba(255, 255, 255, 0.8)",
         "bordercolor": "gray",
         "borderwidth": 1,
         "font": {
          "size": 12
         },
         "x": 1,
         "xanchor": "right",
         "y": 1,
         "yanchor": "top"
        },
        "margin": {
         "b": 100,
         "l": 80,
         "r": 80,
         "t": 100
        },
        "paper_bgcolor": "white",
        "plot_bgcolor": "white",
        "template": {
         "data": {
          "bar": [
           {
            "error_x": {
             "color": "#2a3f5f"
            },
            "error_y": {
             "color": "#2a3f5f"
            },
            "marker": {
             "line": {
              "color": "#E5ECF6",
              "width": 0.5
             },
             "pattern": {
              "fillmode": "overlay",
              "size": 10,
              "solidity": 0.2
             }
            },
            "type": "bar"
           }
          ],
          "barpolar": [
           {
            "marker": {
             "line": {
              "color": "#E5ECF6",
              "width": 0.5
             },
             "pattern": {
              "fillmode": "overlay",
              "size": 10,
              "solidity": 0.2
             }
            },
            "type": "barpolar"
           }
          ],
          "carpet": [
           {
            "aaxis": {
             "endlinecolor": "#2a3f5f",
             "gridcolor": "white",
             "linecolor": "white",
             "minorgridcolor": "white",
             "startlinecolor": "#2a3f5f"
            },
            "baxis": {
             "endlinecolor": "#2a3f5f",
             "gridcolor": "white",
             "linecolor": "white",
             "minorgridcolor": "white",
             "startlinecolor": "#2a3f5f"
            },
            "type": "carpet"
           }
          ],
          "choropleth": [
           {
            "colorbar": {
             "outlinewidth": 0,
             "ticks": ""
            },
            "type": "choropleth"
           }
          ],
          "contour": [
           {
            "colorbar": {
             "outlinewidth": 0,
             "ticks": ""
            },
            "colorscale": [
             [
              0,
              "#0d0887"
             ],
             [
              0.1111111111111111,
              "#46039f"
             ],
             [
              0.2222222222222222,
              "#7201a8"
             ],
             [
              0.3333333333333333,
              "#9c179e"
             ],
             [
              0.4444444444444444,
              "#bd3786"
             ],
             [
              0.5555555555555556,
              "#d8576b"
             ],
             [
              0.6666666666666666,
              "#ed7953"
             ],
             [
              0.7777777777777778,
              "#fb9f3a"
             ],
             [
              0.8888888888888888,
              "#fdca26"
             ],
             [
              1,
              "#f0f921"
             ]
            ],
            "type": "contour"
           }
          ],
          "contourcarpet": [
           {
            "colorbar": {
             "outlinewidth": 0,
             "ticks": ""
            },
            "type": "contourcarpet"
           }
          ],
          "heatmap": [
           {
            "colorbar": {
             "outlinewidth": 0,
             "ticks": ""
            },
            "colorscale": [
             [
              0,
              "#0d0887"
             ],
             [
              0.1111111111111111,
              "#46039f"
             ],
             [
              0.2222222222222222,
              "#7201a8"
             ],
             [
              0.3333333333333333,
              "#9c179e"
             ],
             [
              0.4444444444444444,
              "#bd3786"
             ],
             [
              0.5555555555555556,
              "#d8576b"
             ],
             [
              0.6666666666666666,
              "#ed7953"
             ],
             [
              0.7777777777777778,
              "#fb9f3a"
             ],
             [
              0.8888888888888888,
              "#fdca26"
             ],
             [
              1,
              "#f0f921"
             ]
            ],
            "type": "heatmap"
           }
          ],
          "histogram": [
           {
            "marker": {
             "pattern": {
              "fillmode": "overlay",
              "size": 10,
              "solidity": 0.2
             }
            },
            "type": "histogram"
           }
          ],
          "histogram2d": [
           {
            "colorbar": {
             "outlinewidth": 0,
             "ticks": ""
            },
            "colorscale": [
             [
              0,
              "#0d0887"
             ],
             [
              0.1111111111111111,
              "#46039f"
             ],
             [
              0.2222222222222222,
              "#7201a8"
             ],
             [
              0.3333333333333333,
              "#9c179e"
             ],
             [
              0.4444444444444444,
              "#bd3786"
             ],
             [
              0.5555555555555556,
              "#d8576b"
             ],
             [
              0.6666666666666666,
              "#ed7953"
             ],
             [
              0.7777777777777778,
              "#fb9f3a"
             ],
             [
              0.8888888888888888,
              "#fdca26"
             ],
             [
              1,
              "#f0f921"
             ]
            ],
            "type": "histogram2d"
           }
          ],
          "histogram2dcontour": [
           {
            "colorbar": {
             "outlinewidth": 0,
             "ticks": ""
            },
            "colorscale": [
             [
              0,
              "#0d0887"
             ],
             [
              0.1111111111111111,
              "#46039f"
             ],
             [
              0.2222222222222222,
              "#7201a8"
             ],
             [
              0.3333333333333333,
              "#9c179e"
             ],
             [
              0.4444444444444444,
              "#bd3786"
             ],
             [
              0.5555555555555556,
              "#d8576b"
             ],
             [
              0.6666666666666666,
              "#ed7953"
             ],
             [
              0.7777777777777778,
              "#fb9f3a"
             ],
             [
              0.8888888888888888,
              "#fdca26"
             ],
             [
              1,
              "#f0f921"
             ]
            ],
            "type": "histogram2dcontour"
           }
          ],
          "mesh3d": [
           {
            "colorbar": {
             "outlinewidth": 0,
             "ticks": ""
            },
            "type": "mesh3d"
           }
          ],
          "parcoords": [
           {
            "line": {
             "colorbar": {
              "outlinewidth": 0,
              "ticks": ""
             }
            },
            "type": "parcoords"
           }
          ],
          "pie": [
           {
            "automargin": true,
            "type": "pie"
           }
          ],
          "scatter": [
           {
            "fillpattern": {
             "fillmode": "overlay",
             "size": 10,
             "solidity": 0.2
            },
            "type": "scatter"
           }
          ],
          "scatter3d": [
           {
            "line": {
             "colorbar": {
              "outlinewidth": 0,
              "ticks": ""
             }
            },
            "marker": {
             "colorbar": {
              "outlinewidth": 0,
              "ticks": ""
             }
            },
            "type": "scatter3d"
           }
          ],
          "scattercarpet": [
           {
            "marker": {
             "colorbar": {
              "outlinewidth": 0,
              "ticks": ""
             }
            },
            "type": "scattercarpet"
           }
          ],
          "scattergeo": [
           {
            "marker": {
             "colorbar": {
              "outlinewidth": 0,
              "ticks": ""
             }
            },
            "type": "scattergeo"
           }
          ],
          "scattergl": [
           {
            "marker": {
             "colorbar": {
              "outlinewidth": 0,
              "ticks": ""
             }
            },
            "type": "scattergl"
           }
          ],
          "scattermap": [
           {
            "marker": {
             "colorbar": {
              "outlinewidth": 0,
              "ticks": ""
             }
            },
            "type": "scattermap"
           }
          ],
          "scattermapbox": [
           {
            "marker": {
             "colorbar": {
              "outlinewidth": 0,
              "ticks": ""
             }
            },
            "type": "scattermapbox"
           }
          ],
          "scatterpolar": [
           {
            "marker": {
             "colorbar": {
              "outlinewidth": 0,
              "ticks": ""
             }
            },
            "type": "scatterpolar"
           }
          ],
          "scatterpolargl": [
           {
            "marker": {
             "colorbar": {
              "outlinewidth": 0,
              "ticks": ""
             }
            },
            "type": "scatterpolargl"
           }
          ],
          "scatterternary": [
           {
            "marker": {
             "colorbar": {
              "outlinewidth": 0,
              "ticks": ""
             }
            },
            "type": "scatterternary"
           }
          ],
          "surface": [
           {
            "colorbar": {
             "outlinewidth": 0,
             "ticks": ""
            },
            "colorscale": [
             [
              0,
              "#0d0887"
             ],
             [
              0.1111111111111111,
              "#46039f"
             ],
             [
              0.2222222222222222,
              "#7201a8"
             ],
             [
              0.3333333333333333,
              "#9c179e"
             ],
             [
              0.4444444444444444,
              "#bd3786"
             ],
             [
              0.5555555555555556,
              "#d8576b"
             ],
             [
              0.6666666666666666,
              "#ed7953"
             ],
             [
              0.7777777777777778,
              "#fb9f3a"
             ],
             [
              0.8888888888888888,
              "#fdca26"
             ],
             [
              1,
              "#f0f921"
             ]
            ],
            "type": "surface"
           }
          ],
          "table": [
           {
            "cells": {
             "fill": {
              "color": "#EBF0F8"
             },
             "line": {
              "color": "white"
             }
            },
            "header": {
             "fill": {
              "color": "#C8D4E3"
             },
             "line": {
              "color": "white"
             }
            },
            "type": "table"
           }
          ]
         },
         "layout": {
          "annotationdefaults": {
           "arrowcolor": "#2a3f5f",
           "arrowhead": 0,
           "arrowwidth": 1
          },
          "autotypenumbers": "strict",
          "coloraxis": {
           "colorbar": {
            "outlinewidth": 0,
            "ticks": ""
           }
          },
          "colorscale": {
           "diverging": [
            [
             0,
             "#8e0152"
            ],
            [
             0.1,
             "#c51b7d"
            ],
            [
             0.2,
             "#de77ae"
            ],
            [
             0.3,
             "#f1b6da"
            ],
            [
             0.4,
             "#fde0ef"
            ],
            [
             0.5,
             "#f7f7f7"
            ],
            [
             0.6,
             "#e6f5d0"
            ],
            [
             0.7,
             "#b8e186"
            ],
            [
             0.8,
             "#7fbc41"
            ],
            [
             0.9,
             "#4d9221"
            ],
            [
             1,
             "#276419"
            ]
           ],
           "sequential": [
            [
             0,
             "#0d0887"
            ],
            [
             0.1111111111111111,
             "#46039f"
            ],
            [
             0.2222222222222222,
             "#7201a8"
            ],
            [
             0.3333333333333333,
             "#9c179e"
            ],
            [
             0.4444444444444444,
             "#bd3786"
            ],
            [
             0.5555555555555556,
             "#d8576b"
            ],
            [
             0.6666666666666666,
             "#ed7953"
            ],
            [
             0.7777777777777778,
             "#fb9f3a"
            ],
            [
             0.8888888888888888,
             "#fdca26"
            ],
            [
             1,
             "#f0f921"
            ]
           ],
           "sequentialminus": [
            [
             0,
             "#0d0887"
            ],
            [
             0.1111111111111111,
             "#46039f"
            ],
            [
             0.2222222222222222,
             "#7201a8"
            ],
            [
             0.3333333333333333,
             "#9c179e"
            ],
            [
             0.4444444444444444,
             "#bd3786"
            ],
            [
             0.5555555555555556,
             "#d8576b"
            ],
            [
             0.6666666666666666,
             "#ed7953"
            ],
            [
             0.7777777777777778,
             "#fb9f3a"
            ],
            [
             0.8888888888888888,
             "#fdca26"
            ],
            [
             1,
             "#f0f921"
            ]
           ]
          },
          "colorway": [
           "#636efa",
           "#EF553B",
           "#00cc96",
           "#ab63fa",
           "#FFA15A",
           "#19d3f3",
           "#FF6692",
           "#B6E880",
           "#FF97FF",
           "#FECB52"
          ],
          "font": {
           "color": "#2a3f5f"
          },
          "geo": {
           "bgcolor": "white",
           "lakecolor": "white",
           "landcolor": "#E5ECF6",
           "showlakes": true,
           "showland": true,
           "subunitcolor": "white"
          },
          "hoverlabel": {
           "align": "left"
          },
          "hovermode": "closest",
          "mapbox": {
           "style": "light"
          },
          "paper_bgcolor": "white",
          "plot_bgcolor": "#E5ECF6",
          "polar": {
           "angularaxis": {
            "gridcolor": "white",
            "linecolor": "white",
            "ticks": ""
           },
           "bgcolor": "#E5ECF6",
           "radialaxis": {
            "gridcolor": "white",
            "linecolor": "white",
            "ticks": ""
           }
          },
          "scene": {
           "xaxis": {
            "backgroundcolor": "#E5ECF6",
            "gridcolor": "white",
            "gridwidth": 2,
            "linecolor": "white",
            "showbackground": true,
            "ticks": "",
            "zerolinecolor": "white"
           },
           "yaxis": {
            "backgroundcolor": "#E5ECF6",
            "gridcolor": "white",
            "gridwidth": 2,
            "linecolor": "white",
            "showbackground": true,
            "ticks": "",
            "zerolinecolor": "white"
           },
           "zaxis": {
            "backgroundcolor": "#E5ECF6",
            "gridcolor": "white",
            "gridwidth": 2,
            "linecolor": "white",
            "showbackground": true,
            "ticks": "",
            "zerolinecolor": "white"
           }
          },
          "shapedefaults": {
           "line": {
            "color": "#2a3f5f"
           }
          },
          "ternary": {
           "aaxis": {
            "gridcolor": "white",
            "linecolor": "white",
            "ticks": ""
           },
           "baxis": {
            "gridcolor": "white",
            "linecolor": "white",
            "ticks": ""
           },
           "bgcolor": "#E5ECF6",
           "caxis": {
            "gridcolor": "white",
            "linecolor": "white",
            "ticks": ""
           }
          },
          "title": {
           "x": 0.05
          },
          "xaxis": {
           "automargin": true,
           "gridcolor": "white",
           "linecolor": "white",
           "ticks": "",
           "title": {
            "standoff": 15
           },
           "zerolinecolor": "white",
           "zerolinewidth": 2
          },
          "yaxis": {
           "automargin": true,
           "gridcolor": "white",
           "linecolor": "white",
           "ticks": "",
           "title": {
            "standoff": 15
           },
           "zerolinecolor": "white",
           "zerolinewidth": 2
          }
         }
        },
        "title": {
         "font": {
          "color": "#2C3E50",
          "size": 18
         },
         "text": "<b>Declining Homeownership in Austin (2013-2023)</b><br><sub>Owner-Occupied Housing as a Percentage of Total Occupied Units</sub>",
         "x": 0.5,
         "xanchor": "center"
        },
        "xaxis": {
         "dtick": 1,
         "gridcolor": "lightgray",
         "rangeselector": {
          "activecolor": "#FF8C42",
          "bgcolor": "white",
          "buttons": [
           {
            "count": 3,
            "label": "3y",
            "step": "year",
            "stepmode": "backward"
           },
           {
            "count": 5,
            "label": "5y",
            "step": "year",
            "stepmode": "backward"
           },
           {
            "label": "All",
            "step": "all"
           }
          ],
          "font": {
           "size": 10
          }
         },
         "rangeslider": {
          "visible": true
         },
         "showgrid": true,
         "tick0": 2013,
         "tickmode": "linear",
         "title": {
          "font": {
           "color": "#2C3E50",
           "size": 14
          },
          "text": "<b>Year</b>"
         }
        },
        "yaxis": {
         "gridcolor": "lightgray",
         "range": [
          40,
          50
         ],
         "showgrid": true,
         "ticksuffix": "%",
         "title": {
          "font": {
           "color": "#2C3E50",
           "size": 14
          },
          "text": "<b>Owner-Occupied Share (%)</b>"
         }
        }
       }
      }
     },
     "metadata": {},
     "output_type": "display_data"
    }
   ],
   "source": [
    "# Create the figure\n",
    "fig = go.Figure()\n",
    "\n",
    "# Add the main line trace for owner-occupied share\n",
    "fig.add_trace(go.Scatter(\n",
    "    x=austin_data['Year'],\n",
    "    y=austin_data['owner_pct'],\n",
    "    mode='lines+markers',\n",
    "    name='Owner-Occupied Share',\n",
    "    line=dict(color='#FF8C42', width=3),  # Orange color\n",
    "    marker=dict(size=8, color='#FF8C42'),\n",
    "    hovertemplate='<b>Year: %{x}</b><br>Owner-Occupied: %{y:.2f}%<extra></extra>'\n",
    "))\n",
    "\n",
    "# Add 50% reference line\n",
    "fig.add_trace(go.Scatter(\n",
    "    x=[austin_data['Year'].min(), austin_data['Year'].max()],\n",
    "    y=[50, 50],\n",
    "    mode='lines',\n",
    "    name='50% Threshold',\n",
    "    line=dict(color='gray', width=2, dash='dash'),\n",
    "    hovertemplate='50% Threshold<extra></extra>'\n",
    "))\n",
    "\n",
    "# Add annotations for key events\n",
    "annotations = [\n",
    "    dict(\n",
    "        x=2016,\n",
    "        y=austin_data[austin_data['Year'] == 2016]['owner_pct'].values[0],\n",
    "        text=\"2016: Steady ownership<br>decline begins\",\n",
    "        showarrow=True,\n",
    "        arrowhead=2,\n",
    "        arrowsize=1,\n",
    "        arrowwidth=2,\n",
    "        arrowcolor=\"#FF8C42\",\n",
    "        ax=-80,\n",
    "        ay=-40,\n",
    "        bgcolor=\"white\",\n",
    "        bordercolor=\"#FF8C42\",\n",
    "        borderwidth=2,\n",
    "        font=dict(size=11, color='black')\n",
    "    ),\n",
    "    dict(\n",
    "        x=2021,\n",
    "        y=austin_data[austin_data['Year'] == 2021]['owner_pct'].values[0],\n",
    "        text=\"2021: Owner share<br>drops below 50%\",\n",
    "        showarrow=True,\n",
    "        arrowhead=2,\n",
    "        arrowsize=1,\n",
    "        arrowwidth=2,\n",
    "        arrowcolor=\"#FF8C42\",\n",
    "        ax=80,\n",
    "        ay=-40,\n",
    "        bgcolor=\"white\",\n",
    "        bordercolor=\"#FF8C42\",\n",
    "        borderwidth=2,\n",
    "        font=dict(size=11, color='black')\n",
    "    )\n",
    "]\n",
    "\n",
    "# Update layout with styling and interactivity\n",
    "fig.update_layout(\n",
    "    title=dict(\n",
    "        text='<b>Declining Homeownership in Austin (2013-2023)</b><br><sub>Owner-Occupied Housing as a Percentage of Total Occupied Units</sub>',\n",
    "        font=dict(size=18, color='#2C3E50'),\n",
    "        x=0.5,\n",
    "        xanchor='center'\n",
    "    ),\n",
    "    xaxis=dict(\n",
    "        title='<b>Year</b>',\n",
    "        title_font=dict(size=14, color='#2C3E50'),\n",
    "        showgrid=True,\n",
    "        gridcolor='lightgray',\n",
    "        tickmode='linear',\n",
    "        tick0=2013,\n",
    "        dtick=1,\n",
    "        rangeslider=dict(visible=True),  # Add range slider\n",
    "        rangeselector=dict(\n",
    "            buttons=list([\n",
    "                dict(count=3, label=\"3y\", step=\"year\", stepmode=\"backward\"),\n",
    "                dict(count=5, label=\"5y\", step=\"year\", stepmode=\"backward\"),\n",
    "                dict(step=\"all\", label=\"All\")\n",
    "            ]),\n",
    "            font=dict(size=10),\n",
    "            bgcolor='white',\n",
    "            activecolor='#FF8C42'\n",
    "        )\n",
    "    ),\n",
    "    yaxis=dict(\n",
    "        title='<b>Owner-Occupied Share (%)</b>',\n",
    "        title_font=dict(size=14, color='#2C3E50'),\n",
    "        showgrid=True,\n",
    "        gridcolor='lightgray',\n",
    "        range=[40, 50],  # Focus on the relevant range\n",
    "        ticksuffix='%'\n",
    "    ),\n",
    "    hovermode='x unified',\n",
    "    plot_bgcolor='white',\n",
    "    paper_bgcolor='white',\n",
    "    legend=dict(\n",
    "        x=1,\n",
    "        y=1,\n",
    "        xanchor='right',\n",
    "        yanchor='top',\n",
    "        bgcolor='rgba(255, 255, 255, 0.8)',\n",
    "        bordercolor='gray',\n",
    "        borderwidth=1,\n",
    "        font=dict(size=12)\n",
    "    ),\n",
    "    annotations=annotations,\n",
    "    height=600,\n",
    "    margin=dict(t=100, b=100, l=80, r=80)\n",
    ")\n",
    "\n",
    "# Show the figure\n",
    "fig.show()"
   ]
  },
  {
   "cell_type": "markdown",
   "id": "88b65d9a",
   "metadata": {},
   "source": [
    "## Key Insights\n",
    "\n",
    "The visualization reveals several important trends in Austin's housing market:\n",
    "\n",
    "1. **Steady Decline from 2016**: After a slight peak in 2016 at 45.3%, the owner-occupied share began a steady decline, indicating growing barriers to homeownership.\n",
    "\n",
    "2. **Critical Threshold in 2021**: By 2021, the owner-occupied share dropped below 45% for the first time, reaching 44.7%. This marks a significant shift in Austin's housing composition.\n",
    "\n",
    "3. **Continued Pressure**: Through 2023, the share remained below 45%, suggesting that rising housing costs continue to make ownership less accessible for many Austin residents.\n",
    "\n",
    "4. **Shift to Renter Majority**: With owners now comprising less than 45% of occupied housing, renters have become the clear majority in Austin, a dramatic change from traditional homeownership patterns in Texas.\n",
    "\n",
    "This trend directly correlates with the rising home values and median prices documented in our previous visualizations, demonstrating how affordability challenges are fundamentally changing who can afford to own a home in Austin."
   ]
  }
 ],
 "metadata": {
  "kernelspec": {
   "display_name": ".venv",
   "language": "python",
   "name": "python3"
  },
  "language_info": {
   "codemirror_mode": {
    "name": "ipython",
    "version": 3
   },
   "file_extension": ".py",
   "mimetype": "text/x-python",
   "name": "python",
   "nbconvert_exporter": "python",
   "pygments_lexer": "ipython3",
   "version": "3.12.3"
  }
 },
 "nbformat": 4,
 "nbformat_minor": 5
}
